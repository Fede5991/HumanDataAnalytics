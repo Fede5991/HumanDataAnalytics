{
 "cells": [
  {
   "cell_type": "markdown",
   "metadata": {},
   "source": [
    "Speech recognition - Autoencoder"
   ]
  },
  {
   "cell_type": "code",
   "execution_count": 1,
   "metadata": {},
   "outputs": [
    {
     "name": "stderr",
     "output_type": "stream",
     "text": [
      "Using TensorFlow backend.\n"
     ]
    }
   ],
   "source": [
    "import numpy as np\n",
    "import os\n",
    "from tqdm import tqdm\n",
    "import matplotlib.pyplot as plt\n",
    "from scipy.io import wavfile\n",
    "import plotly.graph_objects as go\n",
    "import plotly\n",
    "from plotly.subplots import make_subplots\n",
    "import winsound\n",
    "import time\n",
    "import librosa\n",
    "\n",
    "from IAHOS import IAHOS\n",
    "from extraction_performances import extraction_performances\n",
    "from hyperparams_initialization import hyperparams_initialization\n",
    "from plots import plot_IAHOS,plot_confusion_matrix\n",
    "from plots import plot_training_accuracy,plot_validation_accuracy,plot_test_scores\n",
    "from plots import plot_output_NN,plot_AE_pre\n",
    "from pretraining_AE import pretraining1_AE\n",
    "\n",
    "import keras\n",
    "from keras import backend as K\n",
    "from keras.models import Sequential,Input,Model\n",
    "from keras.layers import Conv2D,Conv1D,MaxPooling2D,AveragePooling2D,MaxPooling1D\n",
    "from keras.layers import Dense,Flatten,Dropout,BatchNormalization,UpSampling2D\n",
    "from keras import initializers,optimizers,backend as k\n",
    "from keras_radam import RAdam\n",
    "from keras.callbacks import EarlyStopping,ModelCheckpoint\n",
    "from sklearn.metrics import confusion_matrix,accuracy_score\n"
   ]
  },
  {
   "cell_type": "code",
   "execution_count": 2,
   "metadata": {},
   "outputs": [],
   "source": [
    "import tensorflow as tf\n",
    "from keras.backend.tensorflow_backend import set_session\n",
    "config = tf.ConfigProto()\n",
    "config.gpu_options.per_process_gpu_memory_fraction = 0.9\n",
    "set_session(tf.Session(config=config))"
   ]
  },
  {
   "cell_type": "code",
   "execution_count": 27,
   "metadata": {},
   "outputs": [
    {
     "name": "stdout",
     "output_type": "stream",
     "text": [
      "(1500, 5)\n"
     ]
    }
   ],
   "source": [
    "print (test_labels.shape)"
   ]
  },
  {
   "cell_type": "code",
   "execution_count": 6,
   "metadata": {},
   "outputs": [],
   "source": [
    "training_set=np.load('mfcc_training_set.npy')\n",
    "training_labels=np.load('mfcc_training_labels.npy')\n",
    "validation_set=np.load('mfcc_validation_set.npy')\n",
    "validation_labels=np.load('mfcc_validation_labels.npy')\n",
    "test_set=np.load('mfcc_test_set.npy')\n",
    "test_labels=np.load('mfcc_test_labels.npy')\n",
    "words_name=np.load('words_name.npy')\n",
    "randomize = np.arange(len(training_set))\n",
    "np.random.shuffle(randomize)\n",
    "training_set = training_set[randomize]\n",
    "randomize = np.arange(len(validation_set))\n",
    "np.random.shuffle(randomize)\n",
    "validation_set = validation_set[randomize]\n",
    "randomize = np.arange(len(test_set))\n",
    "np.random.shuffle(randomize)\n",
    "test_set = test_set[randomize]\n",
    "percentage = 30\n",
    "index1 = int(len(training_set)*percentage/100)\n",
    "index2 = int(len(validation_set)*percentage/100)\n",
    "training_set2 = training_set[0:index1].reshape((-1,12,99,1))\n",
    "training_labels2 = training_labels[0:index1]\n",
    "validation_set2 = validation_set[0:index2].reshape((-1,12,99,1))\n",
    "validation_labels2 = validation_labels[0:index2]\n",
    "training_set = training_set.reshape((-1,12,99,1))\n",
    "validation_set = validation_set.reshape((-1,12,99,1))\n",
    "test_set = test_set.reshape((-1,12,99,1))"
   ]
  },
  {
   "cell_type": "code",
   "execution_count": 7,
   "metadata": {},
   "outputs": [],
   "source": [
    "def encoder(input_img,layers,filters,kernel,dropout):\n",
    "    conv = input_img\n",
    "    for j in range(layers):\n",
    "        conv = Conv2D(filters**(j+1)+2, (kernel,kernel),activation='relu', padding='same')(conv)\n",
    "        conv = BatchNormalization()(conv)\n",
    "        conv = Dropout(rate=dropout)(conv)\n",
    "        conv = Conv2D(filters**(j+1)+2, (kernel,kernel),activation='relu', padding='same')(conv)\n",
    "        conv = BatchNormalization()(conv)\n",
    "        conv = Dropout(rate=dropout)(conv)\n",
    "        conv = MaxPooling2D(pool_size=(2, 3))(conv)\n",
    "    return conv\n",
    "\n",
    "def decoder(conv,layers,filters,kernel,dropout): \n",
    "    decoded = conv\n",
    "    for j in range(layers):\n",
    "        decoded = Conv2D(filters**(j+1)+2, (kernel,kernel),activation='relu', padding='same')(decoded)\n",
    "        decoded = Dropout(rate=dropout)(decoded)\n",
    "        decoded = Conv2D(filters**(j+1)+2, (kernel,kernel),activation='relu', padding='same')(decoded)\n",
    "        decoded = Dropout(rate=dropout)(decoded)\n",
    "        decoded = UpSampling2D((2,3))(decoded)\n",
    "    decoded = Conv2D(1, (2, 2),padding='same')(decoded)\n",
    "    return decoded"
   ]
  },
  {
   "cell_type": "code",
   "execution_count": 8,
   "metadata": {},
   "outputs": [
    {
     "name": "stdout",
     "output_type": "stream",
     "text": [
      "WARNING:tensorflow:From C:\\Users\\Fede\\Anaconda3\\envs\\tensorflow_gpu\\lib\\site-packages\\tensorflow\\python\\framework\\op_def_library.py:263: colocate_with (from tensorflow.python.framework.ops) is deprecated and will be removed in a future version.\n",
      "Instructions for updating:\n",
      "Colocations handled automatically by placer.\n",
      "WARNING:tensorflow:From C:\\Users\\Fede\\Anaconda3\\envs\\tensorflow_gpu\\lib\\site-packages\\tensorflow\\python\\ops\\math_ops.py:3066: to_int32 (from tensorflow.python.ops.math_ops) is deprecated and will be removed in a future version.\n",
      "Instructions for updating:\n",
      "Use tf.cast instead.\n",
      "Train on 40000 samples, validate on 5000 samples\n",
      "Epoch 1/100\n",
      " - 7s - loss: 81.9837 - val_loss: 63.2522\n",
      "Epoch 2/100\n",
      " - 4s - loss: 75.2463 - val_loss: 59.0303\n",
      "Epoch 3/100\n",
      " - 4s - loss: 62.5530 - val_loss: 47.2672\n",
      "Epoch 4/100\n",
      " - 4s - loss: 49.9767 - val_loss: 43.7705\n",
      "Epoch 5/100\n",
      " - 4s - loss: 46.6809 - val_loss: 40.0361\n",
      "Epoch 6/100\n",
      " - 4s - loss: 45.4933 - val_loss: 38.8120\n",
      "Epoch 7/100\n",
      " - 4s - loss: 44.1634 - val_loss: 39.0074\n",
      "Epoch 8/100\n",
      " - 4s - loss: 43.5581 - val_loss: 37.6372\n",
      "Epoch 9/100\n",
      " - 4s - loss: 43.0647 - val_loss: 37.1800\n",
      "Epoch 10/100\n",
      " - 4s - loss: 42.5926 - val_loss: 37.6314\n",
      "Epoch 11/100\n",
      " - 4s - loss: 42.0697 - val_loss: 36.5635\n",
      "Epoch 12/100\n",
      " - 4s - loss: 41.5046 - val_loss: 36.0889\n",
      "Epoch 13/100\n",
      " - 4s - loss: 41.2102 - val_loss: 35.9848\n",
      "Epoch 14/100\n",
      " - 4s - loss: 40.5752 - val_loss: 35.4453\n",
      "Epoch 15/100\n",
      " - 4s - loss: 40.2573 - val_loss: 35.8658\n",
      "Epoch 16/100\n",
      " - 4s - loss: 40.1502 - val_loss: 35.3124\n",
      "Epoch 17/100\n",
      " - 4s - loss: 39.6902 - val_loss: 34.6355\n",
      "Epoch 18/100\n",
      " - 4s - loss: 39.0193 - val_loss: 34.4132\n",
      "Epoch 19/100\n",
      " - 4s - loss: 38.9346 - val_loss: 34.1553\n",
      "Epoch 20/100\n",
      " - 4s - loss: 38.5638 - val_loss: 35.6581\n",
      "Epoch 21/100\n",
      " - 4s - loss: 38.5357 - val_loss: 33.7221\n",
      "Epoch 22/100\n",
      " - 4s - loss: 38.0865 - val_loss: 33.4575\n",
      "Epoch 23/100\n",
      " - 4s - loss: 37.6566 - val_loss: 33.4431\n",
      "Epoch 24/100\n",
      " - 4s - loss: 37.6415 - val_loss: 33.3290\n",
      "Epoch 25/100\n",
      " - 4s - loss: 37.6510 - val_loss: 33.4811\n",
      "Epoch 26/100\n",
      " - 4s - loss: 37.3847 - val_loss: 33.2660\n",
      "Epoch 27/100\n",
      " - 4s - loss: 36.9820 - val_loss: 32.8788\n",
      "Epoch 28/100\n",
      " - 4s - loss: 36.8667 - val_loss: 32.6362\n",
      "Epoch 29/100\n",
      " - 4s - loss: 36.8612 - val_loss: 34.8008\n",
      "Epoch 30/100\n",
      " - 4s - loss: 36.9226 - val_loss: 32.6210\n",
      "Epoch 31/100\n",
      " - 4s - loss: 36.6749 - val_loss: 32.4147\n",
      "Epoch 32/100\n",
      " - 4s - loss: 36.4740 - val_loss: 32.2918\n",
      "Epoch 33/100\n",
      " - 4s - loss: 36.2711 - val_loss: 32.0114\n",
      "Epoch 34/100\n",
      " - 4s - loss: 36.2309 - val_loss: 31.9391\n",
      "Epoch 35/100\n",
      " - 4s - loss: 35.9526 - val_loss: 34.6868\n",
      "Epoch 36/100\n",
      " - 4s - loss: 36.2235 - val_loss: 31.9619\n",
      "Epoch 37/100\n",
      " - 4s - loss: 35.7334 - val_loss: 32.5067\n",
      "Epoch 38/100\n",
      " - 4s - loss: 35.9490 - val_loss: 31.7222\n",
      "Epoch 39/100\n",
      " - 4s - loss: 35.8344 - val_loss: 31.7842\n",
      "Epoch 40/100\n",
      " - 4s - loss: 35.7487 - val_loss: 31.8333\n",
      "Epoch 41/100\n",
      " - 4s - loss: 35.6923 - val_loss: 31.4318\n",
      "Epoch 42/100\n",
      " - 4s - loss: 35.5758 - val_loss: 31.4876\n",
      "Epoch 43/100\n",
      " - 4s - loss: 35.3809 - val_loss: 31.7607\n",
      "Epoch 44/100\n",
      " - 4s - loss: 35.6526 - val_loss: 31.3557\n",
      "Epoch 45/100\n",
      " - 4s - loss: 35.4278 - val_loss: 31.3006\n",
      "Epoch 46/100\n",
      " - 4s - loss: 35.2535 - val_loss: 31.2684\n",
      "Epoch 47/100\n",
      " - 4s - loss: 35.1558 - val_loss: 31.3125\n",
      "Epoch 48/100\n",
      " - 4s - loss: 35.2749 - val_loss: 31.0280\n",
      "Epoch 49/100\n",
      " - 4s - loss: 34.9375 - val_loss: 30.9173\n",
      "Epoch 50/100\n",
      " - 4s - loss: 35.0298 - val_loss: 31.4013\n",
      "Epoch 51/100\n",
      " - 4s - loss: 34.9221 - val_loss: 30.8383\n",
      "Epoch 52/100\n",
      " - 4s - loss: 34.7575 - val_loss: 31.7389\n",
      "Epoch 53/100\n",
      " - 4s - loss: 34.7913 - val_loss: 30.8156\n",
      "Epoch 54/100\n",
      " - 4s - loss: 34.7959 - val_loss: 30.6687\n",
      "Epoch 55/100\n",
      " - 4s - loss: 34.8471 - val_loss: 30.8917\n",
      "Epoch 56/100\n",
      " - 4s - loss: 34.7233 - val_loss: 32.6608\n",
      "Epoch 57/100\n",
      " - 4s - loss: 34.7044 - val_loss: 31.4776\n",
      "Epoch 58/100\n",
      " - 4s - loss: 34.6491 - val_loss: 30.6346\n",
      "Epoch 59/100\n",
      " - 4s - loss: 34.4426 - val_loss: 30.6562\n",
      "Epoch 60/100\n",
      " - 4s - loss: 34.5554 - val_loss: 32.0221\n",
      "Epoch 61/100\n",
      " - 4s - loss: 34.2858 - val_loss: 30.6126\n",
      "Epoch 62/100\n",
      " - 4s - loss: 34.3888 - val_loss: 30.5469\n",
      "Epoch 63/100\n",
      " - 4s - loss: 34.4326 - val_loss: 30.5291\n",
      "Epoch 64/100\n",
      " - 4s - loss: 34.2683 - val_loss: 30.4012\n",
      "Epoch 65/100\n",
      " - 4s - loss: 34.2363 - val_loss: 30.2300\n",
      "Epoch 66/100\n",
      " - 4s - loss: 34.0801 - val_loss: 30.3218\n",
      "Epoch 67/100\n",
      " - 4s - loss: 34.2544 - val_loss: 31.2342\n",
      "Epoch 68/100\n",
      " - 4s - loss: 34.0717 - val_loss: 31.1434\n",
      "Epoch 69/100\n",
      " - 4s - loss: 34.1112 - val_loss: 30.3761\n",
      "Epoch 70/100\n",
      " - 4s - loss: 34.1778 - val_loss: 30.5435\n",
      "Epoch 71/100\n",
      " - 4s - loss: 33.9629 - val_loss: 30.5210\n",
      "Epoch 72/100\n",
      " - 4s - loss: 33.9857 - val_loss: 30.0418\n",
      "Epoch 73/100\n",
      " - 4s - loss: 33.9899 - val_loss: 30.1336\n",
      "Epoch 74/100\n",
      " - 4s - loss: 33.9581 - val_loss: 30.6349\n",
      "Epoch 75/100\n",
      " - 4s - loss: 33.9659 - val_loss: 30.5858\n",
      "Epoch 76/100\n",
      " - 4s - loss: 33.8744 - val_loss: 30.1403\n",
      "Epoch 77/100\n",
      " - 4s - loss: 33.9667 - val_loss: 29.8867\n",
      "Epoch 78/100\n",
      " - 4s - loss: 33.7814 - val_loss: 30.1179\n",
      "Epoch 79/100\n",
      " - 4s - loss: 33.8906 - val_loss: 30.1851\n",
      "Epoch 80/100\n",
      " - 4s - loss: 33.6815 - val_loss: 30.1370\n",
      "Epoch 81/100\n",
      " - 4s - loss: 33.7451 - val_loss: 29.8804\n",
      "Epoch 82/100\n",
      " - 4s - loss: 33.6213 - val_loss: 30.3023\n",
      "Epoch 83/100\n",
      " - 4s - loss: 33.7967 - val_loss: 29.9417\n",
      "Epoch 84/100\n",
      " - 4s - loss: 33.6297 - val_loss: 29.6930\n",
      "Epoch 85/100\n",
      " - 4s - loss: 33.4086 - val_loss: 29.6393\n",
      "Epoch 86/100\n",
      " - 4s - loss: 33.3984 - val_loss: 29.8349\n",
      "Epoch 87/100\n",
      " - 4s - loss: 33.5420 - val_loss: 29.8472\n",
      "Epoch 88/100\n",
      " - 4s - loss: 33.5103 - val_loss: 29.9945\n",
      "Epoch 89/100\n",
      " - 4s - loss: 33.3689 - val_loss: 29.8726\n",
      "Epoch 90/100\n",
      " - 4s - loss: 33.5498 - val_loss: 29.7142\n",
      "Epoch 91/100\n",
      " - 4s - loss: 33.4451 - val_loss: 29.3984\n",
      "Epoch 92/100\n",
      " - 4s - loss: 33.3759 - val_loss: 29.4796\n",
      "Epoch 93/100\n",
      " - 4s - loss: 33.0769 - val_loss: 29.3776\n",
      "Epoch 94/100\n",
      " - 4s - loss: 33.4995 - val_loss: 29.6414\n",
      "Epoch 95/100\n",
      " - 4s - loss: 33.1792 - val_loss: 29.8608\n",
      "Epoch 96/100\n",
      " - 4s - loss: 33.3894 - val_loss: 29.7914\n",
      "Epoch 97/100\n",
      " - 4s - loss: 33.0266 - val_loss: 29.3040\n",
      "Epoch 98/100\n",
      " - 4s - loss: 33.1337 - val_loss: 30.4699\n",
      "Epoch 99/100\n",
      " - 4s - loss: 33.1549 - val_loss: 29.2499\n",
      "Epoch 100/100\n",
      " - 4s - loss: 33.2140 - val_loss: 29.5318\n"
     ]
    }
   ],
   "source": [
    "input_img = Input(shape = (12, 99,1))\n",
    "number_epochs=100\n",
    "train_loss=[]\n",
    "val_loss=[]\n",
    "mc = ModelCheckpoint('best_AE.h5',monitor='val_loss',mode='min',verbose=0,save_best_only=True)\n",
    "autoencoder = Model(input_img, decoder(encoder(input_img,2,4,2,0),\n",
    "                                               2,4,2,0))\n",
    "autoencoder.compile(loss='mean_squared_error', optimizer = 'adam')\n",
    "autoencoder_train = autoencoder.fit(training_set, training_set, batch_size=256,epochs=number_epochs,\n",
    "                                    verbose=2,validation_data=(validation_set, validation_set))\n",
    "train_loss.append(autoencoder_train.history['loss'])\n",
    "val_loss.append(autoencoder_train.history['val_loss'])"
   ]
  },
  {
   "cell_type": "code",
   "execution_count": 9,
   "metadata": {},
   "outputs": [
    {
     "data": {
      "image/png": "[encoded data removed]",
      "text/plain": [
       "<Figure size 864x288 with 2 Axes>"
      ]
     },
     "metadata": {
      "needs_background": "light"
     },
     "output_type": "display_data"
    }
   ],
   "source": [
    "Epochs = np.linspace(1,number_epochs,number_epochs)\n",
    "fig,ax = plt.subplots(nrows=1,ncols=2,figsize=(12,4))\n",
    "plt.setp(ax.flat, xlabel='Epochs', ylabel='Loss')\n",
    "ax[0].set_title('Training loss')\n",
    "ax[0].plot(Epochs, train_loss[0],'r',label='Training loss')\n",
    "ax[0].legend()\n",
    "\n",
    "ax[1].set_title('Val loss')\n",
    "plt.plot(Epochs, val_loss[0],label='Validation loss')\n",
    "ax[1].legend()\n",
    "plt.savefig('Final Train and val losses of the AE')\n",
    "plt.show()"
   ]
  },
  {
   "cell_type": "code",
   "execution_count": 13,
   "metadata": {},
   "outputs": [
    {
     "data": {
      "image/png": "[encoded data removed]",
      "text/plain": [
       "<Figure size 1008x360 with 2 Axes>"
      ]
     },
     "metadata": {
      "needs_background": "light"
     },
     "output_type": "display_data"
    }
   ],
   "source": [
    "fig,ax = plt.subplots(nrows=1,ncols=2,figsize=(14,5))\n",
    "plt.setp(ax.flat, xlabel='Time', ylabel='Coefficients')\n",
    "ax[0].set_title('Original')\n",
    "ax[0].matshow(training_set[900][:,:,0],cmap=plt.cm.jet,aspect=2)\n",
    "\n",
    "ax[1].set_title('AE')\n",
    "ax[1].matshow(autoencoder.predict(training_set[900].reshape(-1,12,99,1))[0,:,:,0],cmap=plt.cm.jet,\n",
    "             aspect=2)\n",
    "plt.savefig('AE reconstruction')\n",
    "plt.show()"
   ]
  },
  {
   "cell_type": "code",
   "execution_count": null,
   "metadata": {},
   "outputs": [],
   "source": [
    "audio=librosa.feature.inverse.mfcc_to_audio(autoencoder.predict(training_set[10].reshape(-1,40,99,1))[0,:,:,0],200)\n",
    "print (audio.shape)"
   ]
  },
  {
   "cell_type": "code",
   "execution_count": null,
   "metadata": {},
   "outputs": [],
   "source": [
    "autoencoder.save_weights('autoencoder.h5')"
   ]
  },
  {
   "cell_type": "code",
   "execution_count": 14,
   "metadata": {},
   "outputs": [
    {
     "name": "stdout",
     "output_type": "stream",
     "text": [
      "_________________________________________________________________\n",
      "Layer (type)                 Output Shape              Param #   \n",
      "=================================================================\n",
      "input_1 (InputLayer)         (None, 12, 99, 1)         0         \n",
      "_________________________________________________________________\n",
      "conv2d_1 (Conv2D)            (None, 12, 99, 6)         30        \n",
      "_________________________________________________________________\n",
      "batch_normalization_1 (Batch (None, 12, 99, 6)         24        \n",
      "_________________________________________________________________\n",
      "dropout_1 (Dropout)          (None, 12, 99, 6)         0         \n",
      "_________________________________________________________________\n",
      "conv2d_2 (Conv2D)            (None, 12, 99, 6)         150       \n",
      "_________________________________________________________________\n",
      "batch_normalization_2 (Batch (None, 12, 99, 6)         24        \n",
      "_________________________________________________________________\n",
      "dropout_2 (Dropout)          (None, 12, 99, 6)         0         \n",
      "_________________________________________________________________\n",
      "max_pooling2d_1 (MaxPooling2 (None, 6, 33, 6)          0         \n",
      "_________________________________________________________________\n",
      "conv2d_3 (Conv2D)            (None, 6, 33, 18)         450       \n",
      "_________________________________________________________________\n",
      "batch_normalization_3 (Batch (None, 6, 33, 18)         72        \n",
      "_________________________________________________________________\n",
      "dropout_3 (Dropout)          (None, 6, 33, 18)         0         \n",
      "_________________________________________________________________\n",
      "conv2d_4 (Conv2D)            (None, 6, 33, 18)         1314      \n",
      "_________________________________________________________________\n",
      "batch_normalization_4 (Batch (None, 6, 33, 18)         72        \n",
      "_________________________________________________________________\n",
      "dropout_4 (Dropout)          (None, 6, 33, 18)         0         \n",
      "_________________________________________________________________\n",
      "max_pooling2d_2 (MaxPooling2 (None, 3, 11, 18)         0         \n",
      "_________________________________________________________________\n",
      "conv2d_5 (Conv2D)            (None, 3, 11, 6)          438       \n",
      "_________________________________________________________________\n",
      "dropout_5 (Dropout)          (None, 3, 11, 6)          0         \n",
      "_________________________________________________________________\n",
      "conv2d_6 (Conv2D)            (None, 3, 11, 6)          150       \n",
      "_________________________________________________________________\n",
      "dropout_6 (Dropout)          (None, 3, 11, 6)          0         \n",
      "_________________________________________________________________\n",
      "up_sampling2d_1 (UpSampling2 (None, 6, 33, 6)          0         \n",
      "_________________________________________________________________\n",
      "conv2d_7 (Conv2D)            (None, 6, 33, 18)         450       \n",
      "_________________________________________________________________\n",
      "dropout_7 (Dropout)          (None, 6, 33, 18)         0         \n",
      "_________________________________________________________________\n",
      "conv2d_8 (Conv2D)            (None, 6, 33, 18)         1314      \n",
      "_________________________________________________________________\n",
      "dropout_8 (Dropout)          (None, 6, 33, 18)         0         \n",
      "_________________________________________________________________\n",
      "up_sampling2d_2 (UpSampling2 (None, 12, 99, 18)        0         \n",
      "_________________________________________________________________\n",
      "conv2d_9 (Conv2D)            (None, 12, 99, 1)         73        \n",
      "=================================================================\n",
      "Total params: 4,561\n",
      "Trainable params: 4,465\n",
      "Non-trainable params: 96\n",
      "_________________________________________________________________\n",
      "None\n"
     ]
    }
   ],
   "source": [
    "print (autoencoder.summary())"
   ]
  },
  {
   "cell_type": "code",
   "execution_count": 15,
   "metadata": {},
   "outputs": [],
   "source": [
    "def encoder(input_img,layers,filters,kernel,dropout):\n",
    "    conv = input_img\n",
    "    for j in range(layers):\n",
    "        conv = Conv2D(filters**(j+1)+2, (kernel,kernel),activation='relu', padding='same')(conv)\n",
    "        conv = BatchNormalization()(conv)\n",
    "        conv = Dropout(rate=dropout)(conv)\n",
    "        conv = Conv2D(filters**(j+1)+2, (kernel,kernel),activation='relu', padding='same')(conv)\n",
    "        conv = BatchNormalization()(conv)\n",
    "        conv = Dropout(rate=dropout)(conv)\n",
    "        conv = MaxPooling2D(pool_size=(2, 1))(conv)\n",
    "    return conv"
   ]
  },
  {
   "cell_type": "code",
   "execution_count": 16,
   "metadata": {},
   "outputs": [],
   "source": [
    "def fc(enco):\n",
    "    flat = Flatten()(enco)\n",
    "    den = Dense(500,activation='relu')(flat)\n",
    "    out = Dense(5, activation='softmax')(den)\n",
    "    return out"
   ]
  },
  {
   "cell_type": "code",
   "execution_count": 17,
   "metadata": {},
   "outputs": [],
   "source": [
    "layer=2\n",
    "Filter=4\n",
    "kernel=2\n",
    "encode = encoder(input_img,layer,Filter,kernel,0)#0 dropout because now we don't \n",
    "#train the encoder of the AE part anymore\n",
    "full_model = Model(input_img,fc(encode))"
   ]
  },
  {
   "cell_type": "code",
   "execution_count": 18,
   "metadata": {},
   "outputs": [
    {
     "name": "stdout",
     "output_type": "stream",
     "text": [
      "_________________________________________________________________\n",
      "Layer (type)                 Output Shape              Param #   \n",
      "=================================================================\n",
      "input_1 (InputLayer)         (None, 12, 99, 1)         0         \n",
      "_________________________________________________________________\n",
      "conv2d_10 (Conv2D)           (None, 12, 99, 6)         30        \n",
      "_________________________________________________________________\n",
      "batch_normalization_5 (Batch (None, 12, 99, 6)         24        \n",
      "_________________________________________________________________\n",
      "dropout_9 (Dropout)          (None, 12, 99, 6)         0         \n",
      "_________________________________________________________________\n",
      "conv2d_11 (Conv2D)           (None, 12, 99, 6)         150       \n",
      "_________________________________________________________________\n",
      "batch_normalization_6 (Batch (None, 12, 99, 6)         24        \n",
      "_________________________________________________________________\n",
      "dropout_10 (Dropout)         (None, 12, 99, 6)         0         \n",
      "_________________________________________________________________\n",
      "max_pooling2d_3 (MaxPooling2 (None, 6, 99, 6)          0         \n",
      "_________________________________________________________________\n",
      "conv2d_12 (Conv2D)           (None, 6, 99, 18)         450       \n",
      "_________________________________________________________________\n",
      "batch_normalization_7 (Batch (None, 6, 99, 18)         72        \n",
      "_________________________________________________________________\n",
      "dropout_11 (Dropout)         (None, 6, 99, 18)         0         \n",
      "_________________________________________________________________\n",
      "conv2d_13 (Conv2D)           (None, 6, 99, 18)         1314      \n",
      "_________________________________________________________________\n",
      "batch_normalization_8 (Batch (None, 6, 99, 18)         72        \n",
      "_________________________________________________________________\n",
      "dropout_12 (Dropout)         (None, 6, 99, 18)         0         \n",
      "_________________________________________________________________\n",
      "max_pooling2d_4 (MaxPooling2 (None, 3, 99, 18)         0         \n",
      "_________________________________________________________________\n",
      "flatten_1 (Flatten)          (None, 5346)              0         \n",
      "_________________________________________________________________\n",
      "dense_1 (Dense)              (None, 500)               2673500   \n",
      "_________________________________________________________________\n",
      "dense_2 (Dense)              (None, 5)                 2505      \n",
      "=================================================================\n",
      "Total params: 2,678,141\n",
      "Trainable params: 2,678,045\n",
      "Non-trainable params: 96\n",
      "_________________________________________________________________\n",
      "None\n"
     ]
    }
   ],
   "source": [
    "print (full_model.summary())"
   ]
  },
  {
   "cell_type": "code",
   "execution_count": 19,
   "metadata": {},
   "outputs": [],
   "source": [
    "for l1,l2 in zip(full_model.layers[:15],autoencoder.layers[:15]):\n",
    "    l1.set_weights(l2.get_weights())"
   ]
  },
  {
   "cell_type": "code",
   "execution_count": 20,
   "metadata": {},
   "outputs": [],
   "source": [
    "for layer in full_model.layers[:15]:\n",
    "    layer.trainable = False"
   ]
  },
  {
   "cell_type": "code",
   "execution_count": 21,
   "metadata": {},
   "outputs": [],
   "source": [
    "full_model.compile(loss=keras.losses.categorical_crossentropy,optimizer='adam',metrics=['accuracy'])"
   ]
  },
  {
   "cell_type": "code",
   "execution_count": 22,
   "metadata": {},
   "outputs": [
    {
     "name": "stdout",
     "output_type": "stream",
     "text": [
      "_________________________________________________________________\n",
      "Layer (type)                 Output Shape              Param #   \n",
      "=================================================================\n",
      "input_1 (InputLayer)         (None, 12, 99, 1)         0         \n",
      "_________________________________________________________________\n",
      "conv2d_10 (Conv2D)           (None, 12, 99, 6)         30        \n",
      "_________________________________________________________________\n",
      "batch_normalization_5 (Batch (None, 12, 99, 6)         24        \n",
      "_________________________________________________________________\n",
      "dropout_9 (Dropout)          (None, 12, 99, 6)         0         \n",
      "_________________________________________________________________\n",
      "conv2d_11 (Conv2D)           (None, 12, 99, 6)         150       \n",
      "_________________________________________________________________\n",
      "batch_normalization_6 (Batch (None, 12, 99, 6)         24        \n",
      "_________________________________________________________________\n",
      "dropout_10 (Dropout)         (None, 12, 99, 6)         0         \n",
      "_________________________________________________________________\n",
      "max_pooling2d_3 (MaxPooling2 (None, 6, 99, 6)          0         \n",
      "_________________________________________________________________\n",
      "conv2d_12 (Conv2D)           (None, 6, 99, 18)         450       \n",
      "_________________________________________________________________\n",
      "batch_normalization_7 (Batch (None, 6, 99, 18)         72        \n",
      "_________________________________________________________________\n",
      "dropout_11 (Dropout)         (None, 6, 99, 18)         0         \n",
      "_________________________________________________________________\n",
      "conv2d_13 (Conv2D)           (None, 6, 99, 18)         1314      \n",
      "_________________________________________________________________\n",
      "batch_normalization_8 (Batch (None, 6, 99, 18)         72        \n",
      "_________________________________________________________________\n",
      "dropout_12 (Dropout)         (None, 6, 99, 18)         0         \n",
      "_________________________________________________________________\n",
      "max_pooling2d_4 (MaxPooling2 (None, 3, 99, 18)         0         \n",
      "_________________________________________________________________\n",
      "flatten_1 (Flatten)          (None, 5346)              0         \n",
      "_________________________________________________________________\n",
      "dense_1 (Dense)              (None, 500)               2673500   \n",
      "_________________________________________________________________\n",
      "dense_2 (Dense)              (None, 5)                 2505      \n",
      "=================================================================\n",
      "Total params: 2,678,141\n",
      "Trainable params: 2,676,005\n",
      "Non-trainable params: 2,136\n",
      "_________________________________________________________________\n"
     ]
    }
   ],
   "source": [
    "full_model.summary()"
   ]
  },
  {
   "cell_type": "code",
   "execution_count": 23,
   "metadata": {},
   "outputs": [
    {
     "ename": "ValueError",
     "evalue": "Input arrays should have the same number of samples as target arrays. Found 40000 input samples and 12000 target samples.",
     "output_type": "error",
     "traceback": [
      "\u001b[1;31m---------------------------------------------------------------------------\u001b[0m",
      "\u001b[1;31mValueError\u001b[0m                                Traceback (most recent call last)",
      "\u001b[1;32m<ipython-input-23-2335602cf956>\u001b[0m in \u001b[0;36m<module>\u001b[1;34m\u001b[0m\n\u001b[0;32m      1\u001b[0m classify_train = full_model.fit(training_set, training_labels, batch_size=256,epochs=30,\n\u001b[1;32m----> 2\u001b[1;33m                                 verbose=2,validation_data=(validation_set, validation_labels))\n\u001b[0m",
      "\u001b[1;32m~\\Anaconda3\\envs\\tensorflow_gpu\\lib\\site-packages\\keras\\engine\\training.py\u001b[0m in \u001b[0;36mfit\u001b[1;34m(self, x, y, batch_size, epochs, verbose, callbacks, validation_split, validation_data, shuffle, class_weight, sample_weight, initial_epoch, steps_per_epoch, validation_steps, **kwargs)\u001b[0m\n\u001b[0;32m    950\u001b[0m             \u001b[0msample_weight\u001b[0m\u001b[1;33m=\u001b[0m\u001b[0msample_weight\u001b[0m\u001b[1;33m,\u001b[0m\u001b[1;33m\u001b[0m\u001b[0m\n\u001b[0;32m    951\u001b[0m             \u001b[0mclass_weight\u001b[0m\u001b[1;33m=\u001b[0m\u001b[0mclass_weight\u001b[0m\u001b[1;33m,\u001b[0m\u001b[1;33m\u001b[0m\u001b[0m\n\u001b[1;32m--> 952\u001b[1;33m             batch_size=batch_size)\n\u001b[0m\u001b[0;32m    953\u001b[0m         \u001b[1;31m# Prepare validation data.\u001b[0m\u001b[1;33m\u001b[0m\u001b[1;33m\u001b[0m\u001b[0m\n\u001b[0;32m    954\u001b[0m         \u001b[0mdo_validation\u001b[0m \u001b[1;33m=\u001b[0m \u001b[1;32mFalse\u001b[0m\u001b[1;33m\u001b[0m\u001b[0m\n",
      "\u001b[1;32m~\\Anaconda3\\envs\\tensorflow_gpu\\lib\\site-packages\\keras\\engine\\training.py\u001b[0m in \u001b[0;36m_standardize_user_data\u001b[1;34m(self, x, y, sample_weight, class_weight, check_array_lengths, batch_size)\u001b[0m\n\u001b[0;32m    802\u001b[0m             ]\n\u001b[0;32m    803\u001b[0m             \u001b[1;31m# Check that all arrays have the same length.\u001b[0m\u001b[1;33m\u001b[0m\u001b[1;33m\u001b[0m\u001b[0m\n\u001b[1;32m--> 804\u001b[1;33m             \u001b[0mcheck_array_length_consistency\u001b[0m\u001b[1;33m(\u001b[0m\u001b[0mx\u001b[0m\u001b[1;33m,\u001b[0m \u001b[0my\u001b[0m\u001b[1;33m,\u001b[0m \u001b[0msample_weights\u001b[0m\u001b[1;33m)\u001b[0m\u001b[1;33m\u001b[0m\u001b[0m\n\u001b[0m\u001b[0;32m    805\u001b[0m             \u001b[1;32mif\u001b[0m \u001b[0mself\u001b[0m\u001b[1;33m.\u001b[0m\u001b[0m_is_graph_network\u001b[0m\u001b[1;33m:\u001b[0m\u001b[1;33m\u001b[0m\u001b[0m\n\u001b[0;32m    806\u001b[0m                 \u001b[1;31m# Additional checks to avoid users mistakenly\u001b[0m\u001b[1;33m\u001b[0m\u001b[1;33m\u001b[0m\u001b[0m\n",
      "\u001b[1;32m~\\Anaconda3\\envs\\tensorflow_gpu\\lib\\site-packages\\keras\\engine\\training_utils.py\u001b[0m in \u001b[0;36mcheck_array_length_consistency\u001b[1;34m(inputs, targets, weights)\u001b[0m\n\u001b[0;32m    235\u001b[0m                          \u001b[1;34m'the same number of samples as target arrays. '\u001b[0m\u001b[1;33m\u001b[0m\u001b[0m\n\u001b[0;32m    236\u001b[0m                          \u001b[1;34m'Found '\u001b[0m \u001b[1;33m+\u001b[0m \u001b[0mstr\u001b[0m\u001b[1;33m(\u001b[0m\u001b[0mlist\u001b[0m\u001b[1;33m(\u001b[0m\u001b[0mset_x\u001b[0m\u001b[1;33m)\u001b[0m\u001b[1;33m[\u001b[0m\u001b[1;36m0\u001b[0m\u001b[1;33m]\u001b[0m\u001b[1;33m)\u001b[0m \u001b[1;33m+\u001b[0m \u001b[1;34m' input samples '\u001b[0m\u001b[1;33m\u001b[0m\u001b[0m\n\u001b[1;32m--> 237\u001b[1;33m                          'and ' + str(list(set_y)[0]) + ' target samples.')\n\u001b[0m\u001b[0;32m    238\u001b[0m     \u001b[1;32mif\u001b[0m \u001b[0mlen\u001b[0m\u001b[1;33m(\u001b[0m\u001b[0mset_w\u001b[0m\u001b[1;33m)\u001b[0m \u001b[1;33m>\u001b[0m \u001b[1;36m1\u001b[0m\u001b[1;33m:\u001b[0m\u001b[1;33m\u001b[0m\u001b[0m\n\u001b[0;32m    239\u001b[0m         raise ValueError('All sample_weight arrays should have '\n",
      "\u001b[1;31mValueError\u001b[0m: Input arrays should have the same number of samples as target arrays. Found 40000 input samples and 12000 target samples."
     ]
    }
   ],
   "source": [
    "classify_train = full_model.fit(training_set, training_labels, batch_size=256,epochs=30,\n",
    "                                verbose=2,validation_data=(validation_set, validation_labels))"
   ]
  },
  {
   "cell_type": "code",
   "execution_count": null,
   "metadata": {},
   "outputs": [],
   "source": [
    "acc = classify_train.history['acc']\n",
    "val_acc = classify_train.history['val_acc']\n",
    "epochs = range(30)\n",
    "plt.figure()\n",
    "plt.plot(epochs, acc, 'b', label='Training accuracy')\n",
    "plt.plot(epochs, val_acc, 'r', label='Validation accuracy')\n",
    "plt.title('Training and validation loss')\n",
    "plt.legend()\n",
    "plt.show()"
   ]
  },
  {
   "cell_type": "markdown",
   "metadata": {},
   "source": [
    "Test set - Confusion matrix"
   ]
  },
  {
   "cell_type": "code",
   "execution_count": null,
   "metadata": {},
   "outputs": [],
   "source": [
    "classifier=full_model\n",
    "predictions = classifier.predict(test_set.reshape(-1,40,99,1))\n",
    "new_test_labels = np.zeros(test_labels.shape[0])\n",
    "for i in range(test_labels.shape[0]):\n",
    "    new_test_labels[i]=np.argmax(test_labels[i])\n",
    "y_pred = np.zeros(test_labels.shape[0])\n",
    "for i in range(test_labels.shape[0]):\n",
    "    y_pred[i]=np.argmax(predictions[i])\n",
    "plot_confusion_matrix(new_test_labels,y_pred,words_name,'AE')"
   ]
  },
  {
   "cell_type": "code",
   "execution_count": null,
   "metadata": {},
   "outputs": [],
   "source": []
  }
 ],
 "metadata": {
  "kernelspec": {
   "display_name": "Python 3",
   "language": "python",
   "name": "python3"
  },
  "language_info": {
   "codemirror_mode": {
    "name": "ipython",
    "version": 3
   },
   "file_extension": ".py",
   "mimetype": "text/x-python",
   "name": "python",
   "nbconvert_exporter": "python",
   "pygments_lexer": "ipython3",
   "version": "3.6.5"
  }
 },
 "nbformat": 4,
 "nbformat_minor": 2
}
