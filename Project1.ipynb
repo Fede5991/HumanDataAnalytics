{
 "cells": [
  {
   "cell_type": "markdown",
   "metadata": {},
   "source": [
    "Project1 - Speech recognition"
   ]
  },
  {
   "cell_type": "code",
   "execution_count": 1,
   "metadata": {},
   "outputs": [
    {
     "name": "stderr",
     "output_type": "stream",
     "text": [
      "Using TensorFlow backend.\n"
     ]
    }
   ],
   "source": [
    "import numpy as np\n",
    "import os\n",
    "from tqdm import tqdm\n",
    "import matplotlib.pyplot as plt\n",
    "from scipy.io import wavfile\n",
    "import plotly.graph_objects as go\n",
    "import plotly\n",
    "from plotly.subplots import make_subplots\n",
    "import winsound\n",
    "\n",
    "from keras.models import Sequential,Input,Model\n",
    "from keras.layers import Conv2D,Conv1D,MaxPooling2D,AveragePooling1D\n",
    "from keras.layers import Dense,Flatten,Dropout\n",
    "from keras import initializers,optimizers,backend as k\n",
    "from sklearn.metrics import confusion_matrix"
   ]
  },
  {
   "cell_type": "code",
   "execution_count": null,
   "metadata": {},
   "outputs": [],
   "source": [
    "#Control on the frequencies of the wav files of the dataset\n",
    "frequencies = {}\n",
    "signal_lengths = {}\n",
    "folders = os.listdir('./audio_files')\n",
    "for folder in tqdm(folders):\n",
    "    entries = os.listdir('./audio_files'+'/'+folder)\n",
    "    for entry in entries:    \n",
    "        fs, signal = wavfile.read('./audio_files'+'/'+folder+'/'+entry)\n",
    "        if len(signal) in signal_lengths:\n",
    "            signal_lengths[len(signal)]+=1\n",
    "        else:\n",
    "            signal_lengths[len(signal)]=1\n",
    "        if fs in frequencies.keys():\n",
    "            frequencies[fs]+=1\n",
    "        else:\n",
    "            frequencies[fs]=1"
   ]
  },
  {
   "cell_type": "code",
   "execution_count": null,
   "metadata": {},
   "outputs": [],
   "source": [
    "x = []\n",
    "y = []\n",
    "for i in signal_lengths:\n",
    "    x.append(i)\n",
    "    y.append(signal_lengths[i])\n",
    "tot = 0\n",
    "for i in range(81):\n",
    "    tot = tot + y[i]\n",
    "freq = []\n",
    "counts = []\n",
    "for j in frequencies:\n",
    "    freq.append(str(j)+'Hz')\n",
    "    counts.append(frequencies[j])\n",
    "        \n",
    "labels = []\n",
    "values = []\n",
    "one_second = 0\n",
    "less = 0\n",
    "more = 0\n",
    "\n",
    "for i in range(len(x)):\n",
    "    if x[i]==16000:\n",
    "        one_second+=y[i]\n",
    "    elif x[i]<16000:\n",
    "        less+=y[i]\n",
    "    else:\n",
    "        more+=y[i]\n",
    "labels.append('=1 second')\n",
    "values.append(one_second/tot*100)\n",
    "labels.append('<1 second')\n",
    "values.append(less/tot*100)\n",
    "labels.append('>1 second')\n",
    "values.append(more/tot*100)\n",
    "fig = make_subplots(rows=1, cols=2,specs=[[{\"type\": \"domain\"},{\"type\": \"domain\"}]],\n",
    "                    subplot_titles=['Duration .wav files', 'Frequency .wav files'])\n",
    "fig.add_trace(go.Pie(labels=labels, values=values),row=1,col=1)\n",
    "fig.add_trace(go.Pie(labels=freq, values=counts),row=1,col=2)\n",
    "fig.update_layout(height=400, width=700)\n",
    "fig.show()"
   ]
  },
  {
   "cell_type": "code",
   "execution_count": null,
   "metadata": {},
   "outputs": [],
   "source": [
    "def creation_filterbank(fs,signal):\n",
    "        frame_size = 0.025 #duration of a frame [s]\n",
    "        frame_stride = 0.01 #duration of the overlap between 2 consecutive frames [s]\n",
    "        frame_length, frame_step = frame_size*fs, frame_stride*fs\n",
    "        signal_length = len(signal)\n",
    "        frame_length = int(round(frame_length))\n",
    "        frame_step = int(round(frame_step))\n",
    "        num_frames = int(np.ceil(float(np.abs(signal_length-frame_length))/frame_step))\n",
    "        NFFT=400\n",
    "        \n",
    "        pad_signal_length = num_frames*frame_step+frame_length\n",
    "        z = np.zeros((pad_signal_length-signal_length))\n",
    "        pad_signal = np.append(signal,z)\n",
    "        \n",
    "        indices = np.tile(np.arange(0,frame_length),(num_frames,1))+np.tile(np.arange(0, num_frames * frame_step, frame_step), (frame_length, 1)).T\n",
    "        frames = pad_signal[indices.astype(np.int32,copy=False)]\n",
    "        frames *= np.hamming(frame_length)\n",
    "        \n",
    "        mag_frames = np.absolute(np.fft.rfft(frames, NFFT))  # Magnitude of the FFT\n",
    "        pow_frames = ((1.0 / NFFT) * ((mag_frames) ** 2))\n",
    "        \n",
    "        nfilt=40\n",
    "        low_freq_mel = 0\n",
    "        high_freq_mel = (2595 * np.log10(1 + (fs / 2) / 700))  # Convert Hz to Mel\n",
    "        mel_points = np.linspace(low_freq_mel, high_freq_mel, nfilt + 2)# Equally spaced in Mel scale\n",
    "        hz_points = (700 * (10**(mel_points / 2595) - 1))  # Convert Mel to Hz\n",
    "        bin = np.floor((NFFT + 1) * hz_points / fs)\n",
    "        \n",
    "       \n",
    "        fbank = np.zeros((nfilt, int(np.floor(NFFT / 2 + 1))))\n",
    "        for m in range(1, nfilt + 1):\n",
    "            f_m_minus = int(bin[m - 1])   # left\n",
    "            f_m = int(bin[m])             # center\n",
    "            f_m_plus = int(bin[m + 1])    # right\n",
    "\n",
    "            for k in range(f_m_minus, f_m):\n",
    "                fbank[m - 1, k] = (k - bin[m - 1]) / (bin[m] - bin[m - 1])\n",
    "            for k in range(f_m, f_m_plus):\n",
    "                fbank[m - 1, k] = (bin[m + 1] - k) / (bin[m + 1] - bin[m])\n",
    "        filter_banks = np.dot(pow_frames, fbank.T)\n",
    "        filter_banks = np.where(filter_banks == 0, np.finfo(float).eps, filter_banks)\n",
    "        filter_banks = 20 * np.log10(filter_banks)\n",
    "        filter_banks -= (np.mean(filter_banks,axis=0)+1e-8)\n",
    "        return filter_banks,len(signal)"
   ]
  },
  {
   "cell_type": "code",
   "execution_count": null,
   "metadata": {},
   "outputs": [],
   "source": [
    "folders = os.listdir('./audio_files')\n",
    "classes = 0 #iterator for the classes\n",
    "words_name = [] #list containing names of the classes\n",
    "class_samples = [] #vector containing number of samples for each class\n",
    "#of the training set\n",
    "\n",
    "dataset1 = [] #training set\n",
    "dataset2 = [] #validation set\n",
    "dataset3 = [] #test set\n",
    "output1 = [] #labels of the training set\n",
    "output2 = [] #labels of the validation set\n",
    "output3 = [] #labels of the test set\n",
    "with open('validation_list.txt') as f:\n",
    "    validation_list = f.readlines()\n",
    "with open('testing_list.txt') as g:\n",
    "    testing_list = g.readlines()\n",
    "\n",
    "for folder in tqdm(folders):\n",
    "    entries = os.listdir('./audio_files'+'/'+folder)\n",
    "    for entry in entries:\n",
    "        inserted = False\n",
    "        fs, signal = wavfile.read('./audio_files'+'/'+folder+'/'+entry)\n",
    "        filter_banks,length=creation_filterbank(fs,signal)\n",
    "        for i in validation_list:\n",
    "            if ''+folder+'/'+entry==i[0:len(folder+'/'+entry)]:\n",
    "                dataset2.append(filter_banks)\n",
    "                output2.append(classes)\n",
    "                inserted=True\n",
    "                if len(words_name)>0:\n",
    "                    if words_name[-1]!=folder:\n",
    "                        words_name.append(folder)\n",
    "                else:\n",
    "                    words_name.append(folder)\n",
    "        if inserted==False:            \n",
    "            for i in testing_list:\n",
    "                if folder+'/'+entry==i[0:len(folder+'/'+entry)]:\n",
    "                    dataset3.append(filter_banks)\n",
    "                    output3.append(classes)\n",
    "                    inserted = True\n",
    "                    if len(words_name)>0:\n",
    "                        if words_name[-1]!=folder:\n",
    "                            words_name.append(folder)\n",
    "                    else:\n",
    "                        words_name.append(folder)\n",
    "        if inserted==False:\n",
    "            dataset1.append(filter_banks)\n",
    "            output1.append(classes)\n",
    "            if len(words_name)>0:\n",
    "                if words_name[-1]!=folder:\n",
    "                    words_name.append(folder)\n",
    "                    class_samples.append(1)\n",
    "                else:\n",
    "                    class_samples[classes]+=1\n",
    "            else:\n",
    "                words_name.append(folder)\n",
    "                class_samples.append(1)\n",
    "    classes=classes+1"
   ]
  },
  {
   "cell_type": "code",
   "execution_count": null,
   "metadata": {},
   "outputs": [],
   "source": [
    "tot = np.sum(class_samples)\n",
    "class_samples/=tot\n",
    "labels = ['training set','validation set','test set']\n",
    "colors = [[1,0,0],[0,1,0],[0,0,1]]\n",
    "x=[len(dataset1),len(dataset2),len(dataset3)]\n",
    "\n",
    "plt.figure()\n",
    "plt.pie(x,labels=labels, autopct='%1.1f%%',colors=colors)\n",
    "plt.title('Data partition')\n",
    "plt.show()\n",
    "\n",
    "plt.figure(figsize=(10,4))\n",
    "plt.bar(words_name,class_samples)\n",
    "plt.title('Samples per class')\n",
    "plt.ylabel('Percentage')\n",
    "plt.xticks(rotation=90)\n",
    "plt.show()"
   ]
  },
  {
   "cell_type": "code",
   "execution_count": null,
   "metadata": {},
   "outputs": [],
   "source": [
    "j = 0\n",
    "plt.figure()\n",
    "plt.matshow(dataset1[j].T,cmap=plt.cm.jet)\n",
    "plt.xlabel('Time')\n",
    "plt.ylabel('Filter banks')\n",
    "plt.show()"
   ]
  },
  {
   "cell_type": "code",
   "execution_count": null,
   "metadata": {},
   "outputs": [],
   "source": [
    "training_samples=0\n",
    "validation_samples=0\n",
    "test_samples=0\n",
    "for i in tqdm(range(len(dataset1))):\n",
    "    if dataset1[i].shape[0]==98 and dataset1[i].shape[1]==40:\n",
    "        training_samples+=1\n",
    "for i in tqdm(range(len(dataset2))):\n",
    "    if dataset2[i].shape[0]==98 and dataset2[i].shape[1]==40:\n",
    "        validation_samples+=1\n",
    "for i in tqdm(range(len(dataset3))):\n",
    "    if dataset3[i].shape[0]==98 and dataset3[i].shape[1]==40:\n",
    "        test_samples+=1\n",
    "training_set = np.zeros((training_samples,40,98))\n",
    "training_labels = np.zeros((training_samples,classes))\n",
    "validation_set = np.zeros((validation_samples,40,98))\n",
    "validation_labels = np.zeros((validation_samples,classes))\n",
    "test_set=np.zeros((test_samples,40,98))\n",
    "test_labels=np.zeros((test_samples,classes))\n",
    "j=0\n",
    "for i in tqdm(range(len(dataset1))):\n",
    "        if dataset1[i].shape[0]==98 and dataset1[i].shape[1]==40:\n",
    "            training_set[j]=dataset1[i].T\n",
    "            training_labels[j,output1[i]]=1\n",
    "            j+=1\n",
    "j=0\n",
    "for i in tqdm(range(len(dataset2))):\n",
    "        if dataset2[i].shape[0]==98 and dataset2[i].shape[1]==40:\n",
    "            validation_set[j]=dataset2[i].T\n",
    "            validation_labels[j,output2[i]]=1\n",
    "            j+=1\n",
    "j=0\n",
    "for i in tqdm(range(len(dataset3))):\n",
    "        if dataset3[i].shape[0]==98 and dataset3[i].shape[1]==40:\n",
    "            test_set[j]=dataset3[i].T\n",
    "            test_labels[j,output3[i]]=1\n",
    "            j+=1 \n",
    "np.save('training_set',training_set)\n",
    "np.save('validation_set',validation_set)\n",
    "np.save('training_labels',training_labels)\n",
    "np.save('validation_labels',validation_labels)\n",
    "np.save('test_set',test_set)\n",
    "np.save('test_labels',test_labels)\n",
    "np.save('words_name',words_name)"
   ]
  },
  {
   "cell_type": "markdown",
   "metadata": {},
   "source": [
    "Part2 - Neural Network"
   ]
  },
  {
   "cell_type": "code",
   "execution_count": 2,
   "metadata": {},
   "outputs": [],
   "source": [
    "training_set=np.load('training_set.npy')\n",
    "validation_set=np.load('validation_set.npy')\n",
    "training_labels=np.load('training_labels.npy')\n",
    "validation_labels=np.load('validation_labels.npy')\n",
    "test_set=np.load('test_set.npy')\n",
    "test_labels=np.load('test_labels.npy')\n",
    "words_name=np.load('words_name.npy')\n",
    "training_set = training_set.reshape((-1,40,98,1))\n",
    "validation_set = validation_set.reshape((-1,40,98,1))"
   ]
  },
  {
   "cell_type": "code",
   "execution_count": 23,
   "metadata": {},
   "outputs": [],
   "source": [
    "def random_search(attempts,hp_number):\n",
    "    hm = np.zeros((hp_number,attempts**hp_number))\n",
    "    hm_goodness = np.zeros((hp_number,attempts**hp_number))\n",
    "    limits = [[4,16],[2,4],[0,3],[0,30]]\n",
    "    if attempts>2:\n",
    "        possible_values = []\n",
    "        for k in range(hp_number):\n",
    "            values = []\n",
    "            values.append(limits[k][0])\n",
    "            for l in range(attempts-1):\n",
    "                values.append(limits[k][0]+(l+1)*(limits[k][-1]-limits[k][0])/(attempts-1))\n",
    "            possible_values.append(values)\n",
    "    for i in range(attempts**hp_number):\n",
    "        for j in range(hp_number):\n",
    "            if attempts==1:\n",
    "                hm[j,i]=(limits[j][0]+limits[j][-1])/2\n",
    "            elif attempts==2:\n",
    "                hm[j,i]=limits[j][int(i/(attempts**j))%attempts]\n",
    "            else:\n",
    "                hm[j,i]=possible_values[j][int(i/(attempts**j))%attempts]\n",
    "    return hm,hm_goodness,possible_values\n",
    "\n",
    "attempts=3\n",
    "variables=4\n",
    "hm,hm_goodness,possible_values = random_search(attempts,variables)\n",
    "iterations=attempts**variables\n",
    "step = int(np.log2(iterations))"
   ]
  },
  {
   "cell_type": "code",
   "execution_count": 29,
   "metadata": {},
   "outputs": [
    {
     "name": "stderr",
     "output_type": "stream",
     "text": [
      "  1%|█                                                                                  | 1/81 [00:44<59:25, 44.57s/it]"
     ]
    },
    {
     "ename": "KeyboardInterrupt",
     "evalue": "",
     "output_type": "error",
     "traceback": [
      "\u001b[1;31m---------------------------------------------------------------------------\u001b[0m",
      "\u001b[1;31mKeyboardInterrupt\u001b[0m                         Traceback (most recent call last)",
      "\u001b[1;32m<ipython-input-29-15b976b71c90>\u001b[0m in \u001b[0;36m<module>\u001b[1;34m\u001b[0m\n\u001b[0;32m     19\u001b[0m     history=classifier.fit(training_set,training_labels,\n\u001b[0;32m     20\u001b[0m                            \u001b[0mvalidation_data\u001b[0m\u001b[1;33m=\u001b[0m\u001b[1;33m[\u001b[0m\u001b[0mvalidation_set\u001b[0m\u001b[1;33m,\u001b[0m\u001b[0mvalidation_labels\u001b[0m\u001b[1;33m]\u001b[0m\u001b[1;33m,\u001b[0m\u001b[1;33m\u001b[0m\u001b[0m\n\u001b[1;32m---> 21\u001b[1;33m                            epochs=1,batch_size=100,verbose=0)\n\u001b[0m\u001b[0;32m     22\u001b[0m     \u001b[0mtraining_accuracy\u001b[0m\u001b[1;33m.\u001b[0m\u001b[0mappend\u001b[0m\u001b[1;33m(\u001b[0m\u001b[0mhistory\u001b[0m\u001b[1;33m.\u001b[0m\u001b[0mhistory\u001b[0m\u001b[1;33m[\u001b[0m\u001b[1;34m'acc'\u001b[0m\u001b[1;33m]\u001b[0m\u001b[1;33m)\u001b[0m\u001b[1;33m\u001b[0m\u001b[0m\n\u001b[0;32m     23\u001b[0m     \u001b[0mvalidation_accuracy\u001b[0m\u001b[1;33m.\u001b[0m\u001b[0mappend\u001b[0m\u001b[1;33m(\u001b[0m\u001b[0mhistory\u001b[0m\u001b[1;33m.\u001b[0m\u001b[0mhistory\u001b[0m\u001b[1;33m[\u001b[0m\u001b[1;34m'val_acc'\u001b[0m\u001b[1;33m]\u001b[0m\u001b[1;33m)\u001b[0m\u001b[1;33m\u001b[0m\u001b[0m\n",
      "\u001b[1;32m~\\Anaconda3\\envs\\tensorflow_gpu\\lib\\site-packages\\keras\\engine\\training.py\u001b[0m in \u001b[0;36mfit\u001b[1;34m(self, x, y, batch_size, epochs, verbose, callbacks, validation_split, validation_data, shuffle, class_weight, sample_weight, initial_epoch, steps_per_epoch, validation_steps, **kwargs)\u001b[0m\n\u001b[0;32m   1037\u001b[0m                                         \u001b[0minitial_epoch\u001b[0m\u001b[1;33m=\u001b[0m\u001b[0minitial_epoch\u001b[0m\u001b[1;33m,\u001b[0m\u001b[1;33m\u001b[0m\u001b[0m\n\u001b[0;32m   1038\u001b[0m                                         \u001b[0msteps_per_epoch\u001b[0m\u001b[1;33m=\u001b[0m\u001b[0msteps_per_epoch\u001b[0m\u001b[1;33m,\u001b[0m\u001b[1;33m\u001b[0m\u001b[0m\n\u001b[1;32m-> 1039\u001b[1;33m                                         validation_steps=validation_steps)\n\u001b[0m\u001b[0;32m   1040\u001b[0m \u001b[1;33m\u001b[0m\u001b[0m\n\u001b[0;32m   1041\u001b[0m     def evaluate(self, x=None, y=None,\n",
      "\u001b[1;32m~\\Anaconda3\\envs\\tensorflow_gpu\\lib\\site-packages\\keras\\engine\\training_arrays.py\u001b[0m in \u001b[0;36mfit_loop\u001b[1;34m(model, f, ins, out_labels, batch_size, epochs, verbose, callbacks, val_f, val_ins, shuffle, callback_metrics, initial_epoch, steps_per_epoch, validation_steps)\u001b[0m\n\u001b[0;32m    210\u001b[0m                         val_outs = test_loop(model, val_f, val_ins,\n\u001b[0;32m    211\u001b[0m                                              \u001b[0mbatch_size\u001b[0m\u001b[1;33m=\u001b[0m\u001b[0mbatch_size\u001b[0m\u001b[1;33m,\u001b[0m\u001b[1;33m\u001b[0m\u001b[0m\n\u001b[1;32m--> 212\u001b[1;33m                                              verbose=0)\n\u001b[0m\u001b[0;32m    213\u001b[0m                         \u001b[0mval_outs\u001b[0m \u001b[1;33m=\u001b[0m \u001b[0mto_list\u001b[0m\u001b[1;33m(\u001b[0m\u001b[0mval_outs\u001b[0m\u001b[1;33m)\u001b[0m\u001b[1;33m\u001b[0m\u001b[0m\n\u001b[0;32m    214\u001b[0m                         \u001b[1;31m# Same labels assumed.\u001b[0m\u001b[1;33m\u001b[0m\u001b[1;33m\u001b[0m\u001b[0m\n",
      "\u001b[1;32m~\\Anaconda3\\envs\\tensorflow_gpu\\lib\\site-packages\\keras\\engine\\training_arrays.py\u001b[0m in \u001b[0;36mtest_loop\u001b[1;34m(model, f, ins, batch_size, verbose, steps)\u001b[0m\n\u001b[0;32m    390\u001b[0m                 \u001b[0mins_batch\u001b[0m\u001b[1;33m[\u001b[0m\u001b[0mi\u001b[0m\u001b[1;33m]\u001b[0m \u001b[1;33m=\u001b[0m \u001b[0mins_batch\u001b[0m\u001b[1;33m[\u001b[0m\u001b[0mi\u001b[0m\u001b[1;33m]\u001b[0m\u001b[1;33m.\u001b[0m\u001b[0mtoarray\u001b[0m\u001b[1;33m(\u001b[0m\u001b[1;33m)\u001b[0m\u001b[1;33m\u001b[0m\u001b[0m\n\u001b[0;32m    391\u001b[0m \u001b[1;33m\u001b[0m\u001b[0m\n\u001b[1;32m--> 392\u001b[1;33m             \u001b[0mbatch_outs\u001b[0m \u001b[1;33m=\u001b[0m \u001b[0mf\u001b[0m\u001b[1;33m(\u001b[0m\u001b[0mins_batch\u001b[0m\u001b[1;33m)\u001b[0m\u001b[1;33m\u001b[0m\u001b[0m\n\u001b[0m\u001b[0;32m    393\u001b[0m             \u001b[1;32mif\u001b[0m \u001b[0misinstance\u001b[0m\u001b[1;33m(\u001b[0m\u001b[0mbatch_outs\u001b[0m\u001b[1;33m,\u001b[0m \u001b[0mlist\u001b[0m\u001b[1;33m)\u001b[0m\u001b[1;33m:\u001b[0m\u001b[1;33m\u001b[0m\u001b[0m\n\u001b[0;32m    394\u001b[0m                 \u001b[1;32mif\u001b[0m \u001b[0mbatch_index\u001b[0m \u001b[1;33m==\u001b[0m \u001b[1;36m0\u001b[0m\u001b[1;33m:\u001b[0m\u001b[1;33m\u001b[0m\u001b[0m\n",
      "\u001b[1;32m~\\Anaconda3\\envs\\tensorflow_gpu\\lib\\site-packages\\keras\\backend\\tensorflow_backend.py\u001b[0m in \u001b[0;36m__call__\u001b[1;34m(self, inputs)\u001b[0m\n\u001b[0;32m   2713\u001b[0m                 \u001b[1;32mreturn\u001b[0m \u001b[0mself\u001b[0m\u001b[1;33m.\u001b[0m\u001b[0m_legacy_call\u001b[0m\u001b[1;33m(\u001b[0m\u001b[0minputs\u001b[0m\u001b[1;33m)\u001b[0m\u001b[1;33m\u001b[0m\u001b[0m\n\u001b[0;32m   2714\u001b[0m \u001b[1;33m\u001b[0m\u001b[0m\n\u001b[1;32m-> 2715\u001b[1;33m             \u001b[1;32mreturn\u001b[0m \u001b[0mself\u001b[0m\u001b[1;33m.\u001b[0m\u001b[0m_call\u001b[0m\u001b[1;33m(\u001b[0m\u001b[0minputs\u001b[0m\u001b[1;33m)\u001b[0m\u001b[1;33m\u001b[0m\u001b[0m\n\u001b[0m\u001b[0;32m   2716\u001b[0m         \u001b[1;32melse\u001b[0m\u001b[1;33m:\u001b[0m\u001b[1;33m\u001b[0m\u001b[0m\n\u001b[0;32m   2717\u001b[0m             \u001b[1;32mif\u001b[0m \u001b[0mpy_any\u001b[0m\u001b[1;33m(\u001b[0m\u001b[0mis_tensor\u001b[0m\u001b[1;33m(\u001b[0m\u001b[0mx\u001b[0m\u001b[1;33m)\u001b[0m \u001b[1;32mfor\u001b[0m \u001b[0mx\u001b[0m \u001b[1;32min\u001b[0m \u001b[0minputs\u001b[0m\u001b[1;33m)\u001b[0m\u001b[1;33m:\u001b[0m\u001b[1;33m\u001b[0m\u001b[0m\n",
      "\u001b[1;32m~\\Anaconda3\\envs\\tensorflow_gpu\\lib\\site-packages\\keras\\backend\\tensorflow_backend.py\u001b[0m in \u001b[0;36m_call\u001b[1;34m(self, inputs)\u001b[0m\n\u001b[0;32m   2669\u001b[0m                                 \u001b[0mfeed_symbols\u001b[0m\u001b[1;33m,\u001b[0m\u001b[1;33m\u001b[0m\u001b[0m\n\u001b[0;32m   2670\u001b[0m                                 \u001b[0msymbol_vals\u001b[0m\u001b[1;33m,\u001b[0m\u001b[1;33m\u001b[0m\u001b[0m\n\u001b[1;32m-> 2671\u001b[1;33m                                 session)\n\u001b[0m\u001b[0;32m   2672\u001b[0m         \u001b[1;32mif\u001b[0m \u001b[0mself\u001b[0m\u001b[1;33m.\u001b[0m\u001b[0mrun_metadata\u001b[0m\u001b[1;33m:\u001b[0m\u001b[1;33m\u001b[0m\u001b[0m\n\u001b[0;32m   2673\u001b[0m             \u001b[0mfetched\u001b[0m \u001b[1;33m=\u001b[0m \u001b[0mself\u001b[0m\u001b[1;33m.\u001b[0m\u001b[0m_callable_fn\u001b[0m\u001b[1;33m(\u001b[0m\u001b[1;33m*\u001b[0m\u001b[0marray_vals\u001b[0m\u001b[1;33m,\u001b[0m \u001b[0mrun_metadata\u001b[0m\u001b[1;33m=\u001b[0m\u001b[0mself\u001b[0m\u001b[1;33m.\u001b[0m\u001b[0mrun_metadata\u001b[0m\u001b[1;33m)\u001b[0m\u001b[1;33m\u001b[0m\u001b[0m\n",
      "\u001b[1;32m~\\Anaconda3\\envs\\tensorflow_gpu\\lib\\site-packages\\keras\\backend\\tensorflow_backend.py\u001b[0m in \u001b[0;36m_make_callable\u001b[1;34m(self, feed_arrays, feed_symbols, symbol_vals, session)\u001b[0m\n\u001b[0;32m   2621\u001b[0m             \u001b[0mcallable_opts\u001b[0m\u001b[1;33m.\u001b[0m\u001b[0mrun_options\u001b[0m\u001b[1;33m.\u001b[0m\u001b[0mCopyFrom\u001b[0m\u001b[1;33m(\u001b[0m\u001b[0mself\u001b[0m\u001b[1;33m.\u001b[0m\u001b[0mrun_options\u001b[0m\u001b[1;33m)\u001b[0m\u001b[1;33m\u001b[0m\u001b[0m\n\u001b[0;32m   2622\u001b[0m         \u001b[1;31m# Create callable.\u001b[0m\u001b[1;33m\u001b[0m\u001b[1;33m\u001b[0m\u001b[0m\n\u001b[1;32m-> 2623\u001b[1;33m         \u001b[0mcallable_fn\u001b[0m \u001b[1;33m=\u001b[0m \u001b[0msession\u001b[0m\u001b[1;33m.\u001b[0m\u001b[0m_make_callable_from_options\u001b[0m\u001b[1;33m(\u001b[0m\u001b[0mcallable_opts\u001b[0m\u001b[1;33m)\u001b[0m\u001b[1;33m\u001b[0m\u001b[0m\n\u001b[0m\u001b[0;32m   2624\u001b[0m         \u001b[1;31m# Cache parameters corresponding to the generated callable, so that\u001b[0m\u001b[1;33m\u001b[0m\u001b[1;33m\u001b[0m\u001b[0m\n\u001b[0;32m   2625\u001b[0m         \u001b[1;31m# we can detect future mismatches and refresh the callable.\u001b[0m\u001b[1;33m\u001b[0m\u001b[1;33m\u001b[0m\u001b[0m\n",
      "\u001b[1;32m~\\Anaconda3\\envs\\tensorflow_gpu\\lib\\site-packages\\tensorflow\\python\\client\\session.py\u001b[0m in \u001b[0;36m_make_callable_from_options\u001b[1;34m(self, callable_options)\u001b[0m\n\u001b[0;32m   1469\u001b[0m     \"\"\"\n\u001b[0;32m   1470\u001b[0m     \u001b[0mself\u001b[0m\u001b[1;33m.\u001b[0m\u001b[0m_extend_graph\u001b[0m\u001b[1;33m(\u001b[0m\u001b[1;33m)\u001b[0m\u001b[1;33m\u001b[0m\u001b[0m\n\u001b[1;32m-> 1471\u001b[1;33m     \u001b[1;32mreturn\u001b[0m \u001b[0mBaseSession\u001b[0m\u001b[1;33m.\u001b[0m\u001b[0m_Callable\u001b[0m\u001b[1;33m(\u001b[0m\u001b[0mself\u001b[0m\u001b[1;33m,\u001b[0m \u001b[0mcallable_options\u001b[0m\u001b[1;33m)\u001b[0m\u001b[1;33m\u001b[0m\u001b[0m\n\u001b[0m\u001b[0;32m   1472\u001b[0m \u001b[1;33m\u001b[0m\u001b[0m\n\u001b[0;32m   1473\u001b[0m \u001b[1;33m\u001b[0m\u001b[0m\n",
      "\u001b[1;32m~\\Anaconda3\\envs\\tensorflow_gpu\\lib\\site-packages\\tensorflow\\python\\client\\session.py\u001b[0m in \u001b[0;36m__init__\u001b[1;34m(self, session, callable_options)\u001b[0m\n\u001b[0;32m   1423\u001b[0m         \u001b[1;32mwith\u001b[0m \u001b[0merrors\u001b[0m\u001b[1;33m.\u001b[0m\u001b[0mraise_exception_on_not_ok_status\u001b[0m\u001b[1;33m(\u001b[0m\u001b[1;33m)\u001b[0m \u001b[1;32mas\u001b[0m \u001b[0mstatus\u001b[0m\u001b[1;33m:\u001b[0m\u001b[1;33m\u001b[0m\u001b[0m\n\u001b[0;32m   1424\u001b[0m           self._handle = tf_session.TF_SessionMakeCallable(\n\u001b[1;32m-> 1425\u001b[1;33m               session._session, options_ptr, status)\n\u001b[0m\u001b[0;32m   1426\u001b[0m       \u001b[1;32mfinally\u001b[0m\u001b[1;33m:\u001b[0m\u001b[1;33m\u001b[0m\u001b[0m\n\u001b[0;32m   1427\u001b[0m         \u001b[0mtf_session\u001b[0m\u001b[1;33m.\u001b[0m\u001b[0mTF_DeleteBuffer\u001b[0m\u001b[1;33m(\u001b[0m\u001b[0moptions_ptr\u001b[0m\u001b[1;33m)\u001b[0m\u001b[1;33m\u001b[0m\u001b[0m\n",
      "\u001b[1;31mKeyboardInterrupt\u001b[0m: "
     ]
    }
   ],
   "source": [
    "training_accuracy = []\n",
    "validation_accuracy = []\n",
    "\n",
    "def Classifier(i,hm):\n",
    "    x = Input(shape=(40,98,1))\n",
    "    x1 = (Conv2D(int(hm[0,i]),kernel_size=(40,int(hm[1,i])),activation='relu'))(x)\n",
    "    for j in range(int(hm[2,i])):\n",
    "        x1 = (Conv2D(int(hm[0,i]),kernel_size=(1,int(hm[1,i])),activation='relu'))(x1)\n",
    "    y1 = Flatten()(x1)\n",
    "    y2 = (Dense(100,activation='relu'))(y1)\n",
    "    y3 = Dropout(rate=hm[3,i]/100)(y2)\n",
    "    y = (Dense(31,activation='softmax'))(y3)\n",
    "    classifier=Model(inputs=x,outputs=y)\n",
    "    classifier.compile(optimizer='adam',loss='binary_crossentropy',metrics=['accuracy'])\n",
    "    return classifier\n",
    "    \n",
    "for i in tqdm(range(iterations)):\n",
    "    classifier=Classifier(i,hm)\n",
    "    history=classifier.fit(training_set,training_labels,\n",
    "                           validation_data=[validation_set,validation_labels],\n",
    "                           epochs=1,batch_size=100,verbose=0)\n",
    "    training_accuracy.append(history.history['acc'])\n",
    "    validation_accuracy.append(history.history['val_acc'])"
   ]
  },
  {
   "cell_type": "code",
   "execution_count": 25,
   "metadata": {},
   "outputs": [
    {
     "data": {
      "application/vnd.plotly.v1+json": {
       "config": {
        "plotlyServerURL": "https://plot.ly"
       },
       "data": [
        {
         "colorscale": [
          [
           0,
           "#FF0000"
          ],
          [
           0.5,
           "#F1C40F"
          ],
          [
           1,
           "#00FF00"
          ]
         ],
         "type": "heatmap",
         "x": [
          0,
          1,
          2,
          3,
          4,
          5,
          6,
          7,
          8,
          9,
          10,
          11,
          12,
          13,
          14,
          15,
          16,
          17,
          18,
          19,
          20,
          21,
          22,
          23,
          24,
          25,
          26,
          27,
          28,
          29,
          30,
          31
         ],
         "xaxis": "x",
         "y": [
          "#filters",
          "kernels",
          "#layers",
          "dropout"
         ],
         "yaxis": "y",
         "z": [
          [
           0.9678364718447917,
           0.968561850746777,
           0.9677365910779658,
           0.9704962061207905,
           0.9705645448127748,
           0.9695395460166857,
           0.9687931317255126,
           0.9714055704006023,
           0.9684304790794412,
           0.9677365910779658,
           0.9677365910779658,
           0.967768133852096,
           0.9677944154601076,
           0.9680519887110067,
           0.9687195567795678,
           0.970448893455296,
           0.9679416157202047,
           0.9677365930204344,
           0.9677576192703079,
           0.9677418473976257,
           0.9677365910779658,
           0.9686038970791868,
           0.9680204498315258,
           0.9677418473976257,
           0.9678837719133784,
           0.9677418473976257,
           0.9678942952362746,
           0.9702491514046029,
           0.96864070136908,
           0.9705487638979019,
           0.9721677379070479,
           0.9787749771538048,
           0.9759418055796363,
           0.9749956565026023,
           0.9750639877257954,
           0.9789536929546242,
           0.9685776226291716,
           0.9682780104563798,
           0.9682149326779933,
           0.9740600355657864,
           0.970932482206532,
           0.9764937149967494,
           0.9736342724398718,
           0.9731296462501438,
           0.9716841496122919,
           0.9677681338618084,
           0.9677418473976257,
           0.9677418473976257,
           0.9694028747806297,
           0.9708273575421321,
           0.9700073571066835,
           0.9739443906670151,
           0.9712741449074654,
           0.9702386345792636,
           0.9678942981499773,
           0.9679100622236486,
           0.9700862173636301,
           0.9790693281410532,
           0.9788222771932544,
           0.9776869228303053,
           0.9821232627516988,
           0.9817500662896889,
           0.983095681966468,
           0.9696446733422673,
           0.9691348021866076,
           0.9688246738780529,
           0.977965502411064,
           0.9778340846295269,
           0.9735554149412304,
           0.9804517391626583,
           0.9775975561402258,
           0.9786277933269909,
           0.9677418473976257,
           0.9677418473976257,
           0.9677418473976257,
           0.9677418473976257,
           0.9677365920492002,
           0.9677996678851182,
           0.9740547674747676,
           0.9767355086925035,
           0.9764253905721959
          ],
          [
           0.9678364718447917,
           0.9702491514046029,
           0.9678942981499773,
           0.9704962061207905,
           0.9721677379070479,
           0.9790693281410532,
           0.9687931317255126,
           0.9749956565026023,
           0.9821232627516988,
           0.9677365910779658,
           0.9685776226291716,
           0.9696446733422673,
           0.9677944154601076,
           0.9740600355657864,
           0.977965502411064,
           0.970448893455296,
           0.9736342724398718,
           0.9804517391626583,
           0.9677576192703079,
           0.9677681338618084,
           0.9677418473976257,
           0.9686038970791868,
           0.9694028747806297,
           0.9677418473976257,
           0.9678837719133784,
           0.9739443906670151,
           0.9740547674747676,
           0.968561850746777,
           0.96864070136908,
           0.9679100622236486,
           0.9705645448127748,
           0.9787749771538048,
           0.9788222771932544,
           0.9714055704006023,
           0.9750639877257954,
           0.9817500662896889,
           0.9677365910779658,
           0.9682780104563798,
           0.9691348021866076,
           0.9680519887110067,
           0.970932482206532,
           0.9778340846295269,
           0.9679416157202047,
           0.9731296462501438,
           0.9775975561402258,
           0.9677418473976257,
           0.9677418473976257,
           0.9677418473976257,
           0.9680204498315258,
           0.9708273575421321,
           0.9677365920492002,
           0.9677418473976257,
           0.9712741449074654,
           0.9767355086925035,
           0.9677365910779658,
           0.9705487638979019,
           0.9700862173636301,
           0.9695395460166857,
           0.9759418055796363,
           0.9776869228303053,
           0.9684304790794412,
           0.9789536929546242,
           0.983095681966468,
           0.967768133852096,
           0.9682149326779933,
           0.9688246738780529,
           0.9687195567795678,
           0.9764937149967494,
           0.9735554149412304,
           0.9677365930204344,
           0.9716841496122919,
           0.9786277933269909,
           0.9677365910779658,
           0.9677418473976257,
           0.9677418473976257,
           0.9677418473976257,
           0.9700073571066835,
           0.9677996678851182,
           0.9678942952362746,
           0.9702386345792636,
           0.9764253905721959
          ],
          [
           0.9678364718447917,
           0.9702491514046029,
           0.9678942981499773,
           0.968561850746777,
           0.96864070136908,
           0.9679100622236486,
           0.9677365910779658,
           0.9705487638979019,
           0.9700862173636301,
           0.9677365910779658,
           0.9685776226291716,
           0.9696446733422673,
           0.9677365910779658,
           0.9682780104563798,
           0.9691348021866076,
           0.967768133852096,
           0.9682149326779933,
           0.9688246738780529,
           0.9677576192703079,
           0.9677681338618084,
           0.9677418473976257,
           0.9677418473976257,
           0.9677418473976257,
           0.9677418473976257,
           0.9677365910779658,
           0.9677418473976257,
           0.9677418473976257,
           0.9704962061207905,
           0.9721677379070479,
           0.9790693281410532,
           0.9705645448127748,
           0.9787749771538048,
           0.9788222771932544,
           0.9695395460166857,
           0.9759418055796363,
           0.9776869228303053,
           0.9677944154601076,
           0.9740600355657864,
           0.977965502411064,
           0.9680519887110067,
           0.970932482206532,
           0.9778340846295269,
           0.9687195567795678,
           0.9764937149967494,
           0.9735554149412304,
           0.9686038970791868,
           0.9694028747806297,
           0.9677418473976257,
           0.9680204498315258,
           0.9708273575421321,
           0.9677365920492002,
           0.9677418473976257,
           0.9700073571066835,
           0.9677996678851182,
           0.9687931317255126,
           0.9749956565026023,
           0.9821232627516988,
           0.9714055704006023,
           0.9750639877257954,
           0.9817500662896889,
           0.9684304790794412,
           0.9789536929546242,
           0.983095681966468,
           0.970448893455296,
           0.9736342724398718,
           0.9804517391626583,
           0.9679416157202047,
           0.9731296462501438,
           0.9775975561402258,
           0.9677365930204344,
           0.9716841496122919,
           0.9786277933269909,
           0.9678837719133784,
           0.9739443906670151,
           0.9740547674747676,
           0.9677418473976257,
           0.9712741449074654,
           0.9767355086925035,
           0.9678942952362746,
           0.9702386345792636,
           0.9764253905721959
          ],
          [
           0.9678364718447917,
           0.9702491514046029,
           0.9678942981499773,
           0.968561850746777,
           0.96864070136908,
           0.9679100622236486,
           0.9677365910779658,
           0.9705487638979019,
           0.9700862173636301,
           0.9704962061207905,
           0.9721677379070479,
           0.9790693281410532,
           0.9705645448127748,
           0.9787749771538048,
           0.9788222771932544,
           0.9695395460166857,
           0.9759418055796363,
           0.9776869228303053,
           0.9687931317255126,
           0.9749956565026023,
           0.9821232627516988,
           0.9714055704006023,
           0.9750639877257954,
           0.9817500662896889,
           0.9684304790794412,
           0.9789536929546242,
           0.983095681966468,
           0.9677365910779658,
           0.9685776226291716,
           0.9696446733422673,
           0.9677365910779658,
           0.9682780104563798,
           0.9691348021866076,
           0.967768133852096,
           0.9682149326779933,
           0.9688246738780529,
           0.9677944154601076,
           0.9740600355657864,
           0.977965502411064,
           0.9680519887110067,
           0.970932482206532,
           0.9778340846295269,
           0.9687195567795678,
           0.9764937149967494,
           0.9735554149412304,
           0.970448893455296,
           0.9736342724398718,
           0.9804517391626583,
           0.9679416157202047,
           0.9731296462501438,
           0.9775975561402258,
           0.9677365930204344,
           0.9716841496122919,
           0.9786277933269909,
           0.9677576192703079,
           0.9677681338618084,
           0.9677418473976257,
           0.9677418473976257,
           0.9677418473976257,
           0.9677418473976257,
           0.9677365910779658,
           0.9677418473976257,
           0.9677418473976257,
           0.9686038970791868,
           0.9694028747806297,
           0.9677418473976257,
           0.9680204498315258,
           0.9708273575421321,
           0.9677365920492002,
           0.9677418473976257,
           0.9700073571066835,
           0.9677996678851182,
           0.9678837719133784,
           0.9739443906670151,
           0.9740547674747676,
           0.9677418473976257,
           0.9712741449074654,
           0.9767355086925035,
           0.9678942952362746,
           0.9702386345792636,
           0.9764253905721959
          ]
         ]
        },
        {
         "colorscale": [
          [
           0,
           "#FF0000"
          ],
          [
           0.5,
           "#F1C40F"
          ],
          [
           1,
           "#00FF00"
          ]
         ],
         "type": "heatmap",
         "x": [
          0,
          1,
          2,
          3,
          4,
          5,
          6,
          7,
          8,
          9,
          10,
          11,
          12,
          13,
          14,
          15,
          16,
          17,
          18,
          19,
          20,
          21,
          22,
          23,
          24,
          25,
          26,
          27,
          28,
          29,
          30,
          31
         ],
         "xaxis": "x3",
         "y": [
          "#filters",
          "kernels",
          "#layers",
          "dropout"
         ],
         "yaxis": "y3",
         "z": [
          [
           0.9662268836330018,
           0.9668884181583509,
           0.9665622097287313,
           0.9682536741623419,
           0.9675401219103531,
           0.9676652474889301,
           0.9678684062666378,
           0.9684828501739472,
           0.9678353757278,
           0.9665551796904294,
           0.9661994614410134,
           0.9664785543512935,
           0.9666943786081178,
           0.9672223369240662,
           0.9675302553269367,
           0.9681749366032538,
           0.96769756881485,
           0.9673798011048952,
           0.9665713502073935,
           0.9668792640664586,
           0.9667667834536271,
           0.9676216503764614,
           0.9672532720828292,
           0.9670894607828181,
           0.9677334182665518,
           0.9673868311431972,
           0.9677137374093351,
           0.9677749290761642,
           0.9671112772622728,
           0.9676610421984758,
           0.9682072652631716,
           0.9710882180306457,
           0.9701187765385785,
           0.9703929480635308,
           0.9700533900120428,
           0.9728274694717591,
           0.9673341220956846,
           0.9675028363641935,
           0.9668581777211704,
           0.9689602099087226,
           0.9680315239517908,
           0.9698073376868527,
           0.9687696843878235,
           0.9688526469141989,
           0.9687120451479507,
           0.9665804895169805,
           0.9672075652963941,
           0.9671956151405613,
           0.9676090115210819,
           0.9677467967489877,
           0.9679387224971201,
           0.9690649588901059,
           0.9683169472868605,
           0.9678213064258945,
           0.9674578446256602,
           0.9673144267912974,
           0.9680483980857001,
           0.972596874649822,
           0.971744830892687,
           0.9715550281251937,
           0.9752514372804922,
           0.9742637121370321,
           0.9745280389818397,
           0.9676589230861763,
           0.9675837005332495,
           0.9674662908165965,
           0.9700442468367141,
           0.9713757584256385,
           0.9682839097829329,
           0.9719086386646892,
           0.970784525322487,
           0.971121262824406,
           0.9673643365793977,
           0.9673945662636851,
           0.9673523839555175,
           0.9675295404011384,
           0.9675787513187384,
           0.9674845498238862,
           0.9689538783304456,
           0.9704091220513491,
           0.9699177159389321
          ],
          [
           0.9662268836330018,
           0.9677749290761642,
           0.9674578446256602,
           0.9682536741623419,
           0.9682072652631716,
           0.972596874649822,
           0.9678684062666378,
           0.9703929480635308,
           0.9752514372804922,
           0.9665551796904294,
           0.9673341220956846,
           0.9676589230861763,
           0.9666943786081178,
           0.9689602099087226,
           0.9700442468367141,
           0.9681749366032538,
           0.9687696843878235,
           0.9719086386646892,
           0.9665713502073935,
           0.9665804895169805,
           0.9673643365793977,
           0.9676216503764614,
           0.9676090115210819,
           0.9675295404011384,
           0.9677334182665518,
           0.9690649588901059,
           0.9689538783304456,
           0.9668884181583509,
           0.9671112772622728,
           0.9673144267912974,
           0.9675401219103531,
           0.9710882180306457,
           0.971744830892687,
           0.9684828501739472,
           0.9700533900120428,
           0.9742637121370321,
           0.9661994614410134,
           0.9675028363641935,
           0.9675837005332495,
           0.9672223369240662,
           0.9680315239517908,
           0.9713757584256385,
           0.96769756881485,
           0.9688526469141989,
           0.970784525322487,
           0.9668792640664586,
           0.9672075652963941,
           0.9673945662636851,
           0.9672532720828292,
           0.9677467967489877,
           0.9675787513187384,
           0.9673868311431972,
           0.9683169472868605,
           0.9704091220513491,
           0.9665622097287313,
           0.9676610421984758,
           0.9680483980857001,
           0.9676652474889301,
           0.9701187765385785,
           0.9715550281251937,
           0.9678353757278,
           0.9728274694717591,
           0.9745280389818397,
           0.9664785543512935,
           0.9668581777211704,
           0.9674662908165965,
           0.9675302553269367,
           0.9698073376868527,
           0.9682839097829329,
           0.9673798011048952,
           0.9687120451479507,
           0.971121262824406,
           0.9667667834536271,
           0.9671956151405613,
           0.9673523839555175,
           0.9670894607828181,
           0.9679387224971201,
           0.9674845498238862,
           0.9677137374093351,
           0.9678213064258945,
           0.9699177159389321
          ],
          [
           0.9662268836330018,
           0.9677749290761642,
           0.9674578446256602,
           0.9668884181583509,
           0.9671112772622728,
           0.9673144267912974,
           0.9665622097287313,
           0.9676610421984758,
           0.9680483980857001,
           0.9665551796904294,
           0.9673341220956846,
           0.9676589230861763,
           0.9661994614410134,
           0.9675028363641935,
           0.9675837005332495,
           0.9664785543512935,
           0.9668581777211704,
           0.9674662908165965,
           0.9665713502073935,
           0.9665804895169805,
           0.9673643365793977,
           0.9668792640664586,
           0.9672075652963941,
           0.9673945662636851,
           0.9667667834536271,
           0.9671956151405613,
           0.9673523839555175,
           0.9682536741623419,
           0.9682072652631716,
           0.972596874649822,
           0.9675401219103531,
           0.9710882180306457,
           0.971744830892687,
           0.9676652474889301,
           0.9701187765385785,
           0.9715550281251937,
           0.9666943786081178,
           0.9689602099087226,
           0.9700442468367141,
           0.9672223369240662,
           0.9680315239517908,
           0.9713757584256385,
           0.9675302553269367,
           0.9698073376868527,
           0.9682839097829329,
           0.9676216503764614,
           0.9676090115210819,
           0.9675295404011384,
           0.9672532720828292,
           0.9677467967489877,
           0.9675787513187384,
           0.9670894607828181,
           0.9679387224971201,
           0.9674845498238862,
           0.9678684062666378,
           0.9703929480635308,
           0.9752514372804922,
           0.9684828501739472,
           0.9700533900120428,
           0.9742637121370321,
           0.9678353757278,
           0.9728274694717591,
           0.9745280389818397,
           0.9681749366032538,
           0.9687696843878235,
           0.9719086386646892,
           0.96769756881485,
           0.9688526469141989,
           0.970784525322487,
           0.9673798011048952,
           0.9687120451479507,
           0.971121262824406,
           0.9677334182665518,
           0.9690649588901059,
           0.9689538783304456,
           0.9673868311431972,
           0.9683169472868605,
           0.9704091220513491,
           0.9677137374093351,
           0.9678213064258945,
           0.9699177159389321
          ],
          [
           0.9662268836330018,
           0.9677749290761642,
           0.9674578446256602,
           0.9668884181583509,
           0.9671112772622728,
           0.9673144267912974,
           0.9665622097287313,
           0.9676610421984758,
           0.9680483980857001,
           0.9682536741623419,
           0.9682072652631716,
           0.972596874649822,
           0.9675401219103531,
           0.9710882180306457,
           0.971744830892687,
           0.9676652474889301,
           0.9701187765385785,
           0.9715550281251937,
           0.9678684062666378,
           0.9703929480635308,
           0.9752514372804922,
           0.9684828501739472,
           0.9700533900120428,
           0.9742637121370321,
           0.9678353757278,
           0.9728274694717591,
           0.9745280389818397,
           0.9665551796904294,
           0.9673341220956846,
           0.9676589230861763,
           0.9661994614410134,
           0.9675028363641935,
           0.9675837005332495,
           0.9664785543512935,
           0.9668581777211704,
           0.9674662908165965,
           0.9666943786081178,
           0.9689602099087226,
           0.9700442468367141,
           0.9672223369240662,
           0.9680315239517908,
           0.9713757584256385,
           0.9675302553269367,
           0.9698073376868527,
           0.9682839097829329,
           0.9681749366032538,
           0.9687696843878235,
           0.9719086386646892,
           0.96769756881485,
           0.9688526469141989,
           0.970784525322487,
           0.9673798011048952,
           0.9687120451479507,
           0.971121262824406,
           0.9665713502073935,
           0.9665804895169805,
           0.9673643365793977,
           0.9668792640664586,
           0.9672075652963941,
           0.9673945662636851,
           0.9667667834536271,
           0.9671956151405613,
           0.9673523839555175,
           0.9676216503764614,
           0.9676090115210819,
           0.9675295404011384,
           0.9672532720828292,
           0.9677467967489877,
           0.9675787513187384,
           0.9670894607828181,
           0.9679387224971201,
           0.9674845498238862,
           0.9677334182665518,
           0.9690649588901059,
           0.9689538783304456,
           0.9673868311431972,
           0.9683169472868605,
           0.9704091220513491,
           0.9677137374093351,
           0.9678213064258945,
           0.9699177159389321
          ]
         ]
        },
        {
         "colorscale": [
          [
           0,
           "#FF0000"
          ],
          [
           0.5,
           "#F1C40F"
          ],
          [
           1,
           "#00FF00"
          ]
         ],
         "type": "heatmap",
         "x": [
          0,
          1
         ],
         "xaxis": "x2",
         "y": [
          "#filters",
          "kernels",
          "#layers",
          "dropout"
         ],
         "yaxis": "y2",
         "z": [
          [
           0.9684600347252408,
           0.9718254788729728,
           0.9739182841923198
          ],
          [
           0.9714384496272079,
           0.971396009552124,
           0.9713693386112016
          ],
          [
           0.9683367988093597,
           0.9720871271306167,
           0.973779871850557
          ],
          [
           0.9732273697492653,
           0.971576869852155,
           0.969399558189113
          ]
         ]
        },
        {
         "colorscale": [
          [
           0,
           "#FF0000"
          ],
          [
           0.5,
           "#F1C40F"
          ],
          [
           1,
           "#00FF00"
          ]
         ],
         "type": "heatmap",
         "x": [
          0,
          1
         ],
         "xaxis": "x4",
         "y": [
          "#filters",
          "kernels",
          "#layers",
          "dropout"
         ],
         "yaxis": "y4",
         "z": [
          [
           0.9672693121445785,
           0.9685016782747783,
           0.9697397293528041
          ],
          [
           0.9684873784071107,
           0.9685152118636527,
           0.9685081295013974
          ],
          [
           0.9671109270422029,
           0.9686878425950577,
           0.9697119501349003
          ],
          [
           0.9694562627680171,
           0.9683329004939308,
           0.967721556510213
          ]
         ]
        }
       ],
       "layout": {
        "annotations": [
         {
          "font": {
           "size": 16
          },
          "showarrow": false,
          "text": "Train. accuracy w.r.t. hyperparams",
          "x": 0.225,
          "xanchor": "center",
          "xref": "paper",
          "y": 1,
          "yanchor": "bottom",
          "yref": "paper"
         },
         {
          "font": {
           "size": 16
          },
          "showarrow": false,
          "text": "Mean train. accuracy w.r.t. hyperparams",
          "x": 0.775,
          "xanchor": "center",
          "xref": "paper",
          "y": 1,
          "yanchor": "bottom",
          "yref": "paper"
         },
         {
          "font": {
           "size": 16
          },
          "showarrow": false,
          "text": "Valid accuracy w.r.t hyperparams",
          "x": 0.225,
          "xanchor": "center",
          "xref": "paper",
          "y": 0.375,
          "yanchor": "bottom",
          "yref": "paper"
         },
         {
          "font": {
           "size": 16
          },
          "showarrow": false,
          "text": "Mean valid accuracy w.r.t. hyperparams",
          "x": 0.775,
          "xanchor": "center",
          "xref": "paper",
          "y": 0.375,
          "yanchor": "bottom",
          "yref": "paper"
         }
        ],
        "height": 600,
        "template": {
         "data": {
          "bar": [
           {
            "error_x": {
             "color": "#2a3f5f"
            },
            "error_y": {
             "color": "#2a3f5f"
            },
            "marker": {
             "line": {
              "color": "#E5ECF6",
              "width": 0.5
             }
            },
            "type": "bar"
           }
          ],
          "barpolar": [
           {
            "marker": {
             "line": {
              "color": "#E5ECF6",
              "width": 0.5
             }
            },
            "type": "barpolar"
           }
          ],
          "carpet": [
           {
            "aaxis": {
             "endlinecolor": "#2a3f5f",
             "gridcolor": "white",
             "linecolor": "white",
             "minorgridcolor": "white",
             "startlinecolor": "#2a3f5f"
            },
            "baxis": {
             "endlinecolor": "#2a3f5f",
             "gridcolor": "white",
             "linecolor": "white",
             "minorgridcolor": "white",
             "startlinecolor": "#2a3f5f"
            },
            "type": "carpet"
           }
          ],
          "choropleth": [
           {
            "colorbar": {
             "outlinewidth": 0,
             "ticks": ""
            },
            "type": "choropleth"
           }
          ],
          "contour": [
           {
            "colorbar": {
             "outlinewidth": 0,
             "ticks": ""
            },
            "colorscale": [
             [
              0,
              "#0d0887"
             ],
             [
              0.1111111111111111,
              "#46039f"
             ],
             [
              0.2222222222222222,
              "#7201a8"
             ],
             [
              0.3333333333333333,
              "#9c179e"
             ],
             [
              0.4444444444444444,
              "#bd3786"
             ],
             [
              0.5555555555555556,
              "#d8576b"
             ],
             [
              0.6666666666666666,
              "#ed7953"
             ],
             [
              0.7777777777777778,
              "#fb9f3a"
             ],
             [
              0.8888888888888888,
              "#fdca26"
             ],
             [
              1,
              "#f0f921"
             ]
            ],
            "type": "contour"
           }
          ],
          "contourcarpet": [
           {
            "colorbar": {
             "outlinewidth": 0,
             "ticks": ""
            },
            "type": "contourcarpet"
           }
          ],
          "heatmap": [
           {
            "colorbar": {
             "outlinewidth": 0,
             "ticks": ""
            },
            "colorscale": [
             [
              0,
              "#0d0887"
             ],
             [
              0.1111111111111111,
              "#46039f"
             ],
             [
              0.2222222222222222,
              "#7201a8"
             ],
             [
              0.3333333333333333,
              "#9c179e"
             ],
             [
              0.4444444444444444,
              "#bd3786"
             ],
             [
              0.5555555555555556,
              "#d8576b"
             ],
             [
              0.6666666666666666,
              "#ed7953"
             ],
             [
              0.7777777777777778,
              "#fb9f3a"
             ],
             [
              0.8888888888888888,
              "#fdca26"
             ],
             [
              1,
              "#f0f921"
             ]
            ],
            "type": "heatmap"
           }
          ],
          "heatmapgl": [
           {
            "colorbar": {
             "outlinewidth": 0,
             "ticks": ""
            },
            "colorscale": [
             [
              0,
              "#0d0887"
             ],
             [
              0.1111111111111111,
              "#46039f"
             ],
             [
              0.2222222222222222,
              "#7201a8"
             ],
             [
              0.3333333333333333,
              "#9c179e"
             ],
             [
              0.4444444444444444,
              "#bd3786"
             ],
             [
              0.5555555555555556,
              "#d8576b"
             ],
             [
              0.6666666666666666,
              "#ed7953"
             ],
             [
              0.7777777777777778,
              "#fb9f3a"
             ],
             [
              0.8888888888888888,
              "#fdca26"
             ],
             [
              1,
              "#f0f921"
             ]
            ],
            "type": "heatmapgl"
           }
          ],
          "histogram": [
           {
            "marker": {
             "colorbar": {
              "outlinewidth": 0,
              "ticks": ""
             }
            },
            "type": "histogram"
           }
          ],
          "histogram2d": [
           {
            "colorbar": {
             "outlinewidth": 0,
             "ticks": ""
            },
            "colorscale": [
             [
              0,
              "#0d0887"
             ],
             [
              0.1111111111111111,
              "#46039f"
             ],
             [
              0.2222222222222222,
              "#7201a8"
             ],
             [
              0.3333333333333333,
              "#9c179e"
             ],
             [
              0.4444444444444444,
              "#bd3786"
             ],
             [
              0.5555555555555556,
              "#d8576b"
             ],
             [
              0.6666666666666666,
              "#ed7953"
             ],
             [
              0.7777777777777778,
              "#fb9f3a"
             ],
             [
              0.8888888888888888,
              "#fdca26"
             ],
             [
              1,
              "#f0f921"
             ]
            ],
            "type": "histogram2d"
           }
          ],
          "histogram2dcontour": [
           {
            "colorbar": {
             "outlinewidth": 0,
             "ticks": ""
            },
            "colorscale": [
             [
              0,
              "#0d0887"
             ],
             [
              0.1111111111111111,
              "#46039f"
             ],
             [
              0.2222222222222222,
              "#7201a8"
             ],
             [
              0.3333333333333333,
              "#9c179e"
             ],
             [
              0.4444444444444444,
              "#bd3786"
             ],
             [
              0.5555555555555556,
              "#d8576b"
             ],
             [
              0.6666666666666666,
              "#ed7953"
             ],
             [
              0.7777777777777778,
              "#fb9f3a"
             ],
             [
              0.8888888888888888,
              "#fdca26"
             ],
             [
              1,
              "#f0f921"
             ]
            ],
            "type": "histogram2dcontour"
           }
          ],
          "mesh3d": [
           {
            "colorbar": {
             "outlinewidth": 0,
             "ticks": ""
            },
            "type": "mesh3d"
           }
          ],
          "parcoords": [
           {
            "line": {
             "colorbar": {
              "outlinewidth": 0,
              "ticks": ""
             }
            },
            "type": "parcoords"
           }
          ],
          "scatter": [
           {
            "marker": {
             "colorbar": {
              "outlinewidth": 0,
              "ticks": ""
             }
            },
            "type": "scatter"
           }
          ],
          "scatter3d": [
           {
            "line": {
             "colorbar": {
              "outlinewidth": 0,
              "ticks": ""
             }
            },
            "marker": {
             "colorbar": {
              "outlinewidth": 0,
              "ticks": ""
             }
            },
            "type": "scatter3d"
           }
          ],
          "scattercarpet": [
           {
            "marker": {
             "colorbar": {
              "outlinewidth": 0,
              "ticks": ""
             }
            },
            "type": "scattercarpet"
           }
          ],
          "scattergeo": [
           {
            "marker": {
             "colorbar": {
              "outlinewidth": 0,
              "ticks": ""
             }
            },
            "type": "scattergeo"
           }
          ],
          "scattergl": [
           {
            "marker": {
             "colorbar": {
              "outlinewidth": 0,
              "ticks": ""
             }
            },
            "type": "scattergl"
           }
          ],
          "scattermapbox": [
           {
            "marker": {
             "colorbar": {
              "outlinewidth": 0,
              "ticks": ""
             }
            },
            "type": "scattermapbox"
           }
          ],
          "scatterpolar": [
           {
            "marker": {
             "colorbar": {
              "outlinewidth": 0,
              "ticks": ""
             }
            },
            "type": "scatterpolar"
           }
          ],
          "scatterpolargl": [
           {
            "marker": {
             "colorbar": {
              "outlinewidth": 0,
              "ticks": ""
             }
            },
            "type": "scatterpolargl"
           }
          ],
          "scatterternary": [
           {
            "marker": {
             "colorbar": {
              "outlinewidth": 0,
              "ticks": ""
             }
            },
            "type": "scatterternary"
           }
          ],
          "surface": [
           {
            "colorbar": {
             "outlinewidth": 0,
             "ticks": ""
            },
            "colorscale": [
             [
              0,
              "#0d0887"
             ],
             [
              0.1111111111111111,
              "#46039f"
             ],
             [
              0.2222222222222222,
              "#7201a8"
             ],
             [
              0.3333333333333333,
              "#9c179e"
             ],
             [
              0.4444444444444444,
              "#bd3786"
             ],
             [
              0.5555555555555556,
              "#d8576b"
             ],
             [
              0.6666666666666666,
              "#ed7953"
             ],
             [
              0.7777777777777778,
              "#fb9f3a"
             ],
             [
              0.8888888888888888,
              "#fdca26"
             ],
             [
              1,
              "#f0f921"
             ]
            ],
            "type": "surface"
           }
          ],
          "table": [
           {
            "cells": {
             "fill": {
              "color": "#EBF0F8"
             },
             "line": {
              "color": "white"
             }
            },
            "header": {
             "fill": {
              "color": "#C8D4E3"
             },
             "line": {
              "color": "white"
             }
            },
            "type": "table"
           }
          ]
         },
         "layout": {
          "annotationdefaults": {
           "arrowcolor": "#2a3f5f",
           "arrowhead": 0,
           "arrowwidth": 1
          },
          "colorscale": {
           "diverging": [
            [
             0,
             "#8e0152"
            ],
            [
             0.1,
             "#c51b7d"
            ],
            [
             0.2,
             "#de77ae"
            ],
            [
             0.3,
             "#f1b6da"
            ],
            [
             0.4,
             "#fde0ef"
            ],
            [
             0.5,
             "#f7f7f7"
            ],
            [
             0.6,
             "#e6f5d0"
            ],
            [
             0.7,
             "#b8e186"
            ],
            [
             0.8,
             "#7fbc41"
            ],
            [
             0.9,
             "#4d9221"
            ],
            [
             1,
             "#276419"
            ]
           ],
           "sequential": [
            [
             0,
             "#0d0887"
            ],
            [
             0.1111111111111111,
             "#46039f"
            ],
            [
             0.2222222222222222,
             "#7201a8"
            ],
            [
             0.3333333333333333,
             "#9c179e"
            ],
            [
             0.4444444444444444,
             "#bd3786"
            ],
            [
             0.5555555555555556,
             "#d8576b"
            ],
            [
             0.6666666666666666,
             "#ed7953"
            ],
            [
             0.7777777777777778,
             "#fb9f3a"
            ],
            [
             0.8888888888888888,
             "#fdca26"
            ],
            [
             1,
             "#f0f921"
            ]
           ],
           "sequentialminus": [
            [
             0,
             "#0d0887"
            ],
            [
             0.1111111111111111,
             "#46039f"
            ],
            [
             0.2222222222222222,
             "#7201a8"
            ],
            [
             0.3333333333333333,
             "#9c179e"
            ],
            [
             0.4444444444444444,
             "#bd3786"
            ],
            [
             0.5555555555555556,
             "#d8576b"
            ],
            [
             0.6666666666666666,
             "#ed7953"
            ],
            [
             0.7777777777777778,
             "#fb9f3a"
            ],
            [
             0.8888888888888888,
             "#fdca26"
            ],
            [
             1,
             "#f0f921"
            ]
           ]
          },
          "colorway": [
           "#636efa",
           "#EF553B",
           "#00cc96",
           "#ab63fa",
           "#FFA15A",
           "#19d3f3",
           "#FF6692",
           "#B6E880",
           "#FF97FF",
           "#FECB52"
          ],
          "font": {
           "color": "#2a3f5f"
          },
          "geo": {
           "bgcolor": "white",
           "lakecolor": "white",
           "landcolor": "#E5ECF6",
           "showlakes": true,
           "showland": true,
           "subunitcolor": "white"
          },
          "hoverlabel": {
           "align": "left"
          },
          "hovermode": "closest",
          "mapbox": {
           "style": "light"
          },
          "paper_bgcolor": "white",
          "plot_bgcolor": "#E5ECF6",
          "polar": {
           "angularaxis": {
            "gridcolor": "white",
            "linecolor": "white",
            "ticks": ""
           },
           "bgcolor": "#E5ECF6",
           "radialaxis": {
            "gridcolor": "white",
            "linecolor": "white",
            "ticks": ""
           }
          },
          "scene": {
           "xaxis": {
            "backgroundcolor": "#E5ECF6",
            "gridcolor": "white",
            "gridwidth": 2,
            "linecolor": "white",
            "showbackground": true,
            "ticks": "",
            "zerolinecolor": "white"
           },
           "yaxis": {
            "backgroundcolor": "#E5ECF6",
            "gridcolor": "white",
            "gridwidth": 2,
            "linecolor": "white",
            "showbackground": true,
            "ticks": "",
            "zerolinecolor": "white"
           },
           "zaxis": {
            "backgroundcolor": "#E5ECF6",
            "gridcolor": "white",
            "gridwidth": 2,
            "linecolor": "white",
            "showbackground": true,
            "ticks": "",
            "zerolinecolor": "white"
           }
          },
          "shapedefaults": {
           "line": {
            "color": "#2a3f5f"
           }
          },
          "ternary": {
           "aaxis": {
            "gridcolor": "white",
            "linecolor": "white",
            "ticks": ""
           },
           "baxis": {
            "gridcolor": "white",
            "linecolor": "white",
            "ticks": ""
           },
           "bgcolor": "#E5ECF6",
           "caxis": {
            "gridcolor": "white",
            "linecolor": "white",
            "ticks": ""
           }
          },
          "title": {
           "x": 0.05
          },
          "xaxis": {
           "automargin": true,
           "gridcolor": "white",
           "linecolor": "white",
           "ticks": "",
           "zerolinecolor": "white",
           "zerolinewidth": 2
          },
          "yaxis": {
           "automargin": true,
           "gridcolor": "white",
           "linecolor": "white",
           "ticks": "",
           "zerolinecolor": "white",
           "zerolinewidth": 2
          }
         }
        },
        "width": 850,
        "xaxis": {
         "anchor": "y",
         "domain": [
          0,
          0.45
         ]
        },
        "xaxis2": {
         "anchor": "y2",
         "domain": [
          0.55,
          1
         ]
        },
        "xaxis3": {
         "anchor": "y3",
         "domain": [
          0,
          0.45
         ]
        },
        "xaxis4": {
         "anchor": "y4",
         "domain": [
          0.55,
          1
         ]
        },
        "yaxis": {
         "anchor": "x",
         "domain": [
          0.625,
          1
         ]
        },
        "yaxis2": {
         "anchor": "x2",
         "domain": [
          0.625,
          1
         ]
        },
        "yaxis3": {
         "anchor": "x3",
         "domain": [
          0,
          0.375
         ]
        },
        "yaxis4": {
         "anchor": "x4",
         "domain": [
          0,
          0.375
         ]
        }
       }
      },
      "text/html": [
       "<div>\n",
       "        \n",
       "        \n",
       "            <div id=\"7aa4471b-2b07-4fc0-b4c2-1b3cbc4c6f30\" class=\"plotly-graph-div\" style=\"height:600px; width:850px;\"></div>\n",
       "            <script type=\"text/javascript\">\n",
       "                require([\"plotly\"], function(Plotly) {\n",
       "                    window.PLOTLYENV=window.PLOTLYENV || {};\n",
       "                    \n",
       "                if (document.getElementById(\"7aa4471b-2b07-4fc0-b4c2-1b3cbc4c6f30\")) {\n",
       "                    Plotly.newPlot(\n",
       "                        '7aa4471b-2b07-4fc0-b4c2-1b3cbc4c6f30',\n",
       "                        [{\"colorscale\": [[0, \"#FF0000\"], [0.5, \"#F1C40F\"], [1, \"#00FF00\"]], \"type\": \"heatmap\", \"x\": [0.0, 1.0, 2.0, 3.0, 4.0, 5.0, 6.0, 7.0, 8.0, 9.0, 10.0, 11.0, 12.0, 13.0, 14.0, 15.0, 16.0, 17.0, 18.0, 19.0, 20.0, 21.0, 22.0, 23.0, 24.0, 25.0, 26.0, 27.0, 28.0, 29.0, 30.0, 31.0], \"xaxis\": \"x\", \"y\": [\"#filters\", \"kernels\", \"#layers\", \"dropout\"], \"yaxis\": \"y\", \"z\": [[0.9678364718447917, 0.968561850746777, 0.9677365910779658, 0.9704962061207905, 0.9705645448127748, 0.9695395460166857, 0.9687931317255126, 0.9714055704006023, 0.9684304790794412, 0.9677365910779658, 0.9677365910779658, 0.967768133852096, 0.9677944154601076, 0.9680519887110067, 0.9687195567795678, 0.970448893455296, 0.9679416157202047, 0.9677365930204344, 0.9677576192703079, 0.9677418473976257, 0.9677365910779658, 0.9686038970791868, 0.9680204498315258, 0.9677418473976257, 0.9678837719133784, 0.9677418473976257, 0.9678942952362746, 0.9702491514046029, 0.96864070136908, 0.9705487638979019, 0.9721677379070479, 0.9787749771538048, 0.9759418055796363, 0.9749956565026023, 0.9750639877257954, 0.9789536929546242, 0.9685776226291716, 0.9682780104563798, 0.9682149326779933, 0.9740600355657864, 0.970932482206532, 0.9764937149967494, 0.9736342724398718, 0.9731296462501438, 0.9716841496122919, 0.9677681338618084, 0.9677418473976257, 0.9677418473976257, 0.9694028747806297, 0.9708273575421321, 0.9700073571066835, 0.9739443906670151, 0.9712741449074654, 0.9702386345792636, 0.9678942981499773, 0.9679100622236486, 0.9700862173636301, 0.9790693281410532, 0.9788222771932544, 0.9776869228303053, 0.9821232627516988, 0.9817500662896889, 0.983095681966468, 0.9696446733422673, 0.9691348021866076, 0.9688246738780529, 0.977965502411064, 0.9778340846295269, 0.9735554149412304, 0.9804517391626583, 0.9775975561402258, 0.9786277933269909, 0.9677418473976257, 0.9677418473976257, 0.9677418473976257, 0.9677418473976257, 0.9677365920492002, 0.9677996678851182, 0.9740547674747676, 0.9767355086925035, 0.9764253905721959], [0.9678364718447917, 0.9702491514046029, 0.9678942981499773, 0.9704962061207905, 0.9721677379070479, 0.9790693281410532, 0.9687931317255126, 0.9749956565026023, 0.9821232627516988, 0.9677365910779658, 0.9685776226291716, 0.9696446733422673, 0.9677944154601076, 0.9740600355657864, 0.977965502411064, 0.970448893455296, 0.9736342724398718, 0.9804517391626583, 0.9677576192703079, 0.9677681338618084, 0.9677418473976257, 0.9686038970791868, 0.9694028747806297, 0.9677418473976257, 0.9678837719133784, 0.9739443906670151, 0.9740547674747676, 0.968561850746777, 0.96864070136908, 0.9679100622236486, 0.9705645448127748, 0.9787749771538048, 0.9788222771932544, 0.9714055704006023, 0.9750639877257954, 0.9817500662896889, 0.9677365910779658, 0.9682780104563798, 0.9691348021866076, 0.9680519887110067, 0.970932482206532, 0.9778340846295269, 0.9679416157202047, 0.9731296462501438, 0.9775975561402258, 0.9677418473976257, 0.9677418473976257, 0.9677418473976257, 0.9680204498315258, 0.9708273575421321, 0.9677365920492002, 0.9677418473976257, 0.9712741449074654, 0.9767355086925035, 0.9677365910779658, 0.9705487638979019, 0.9700862173636301, 0.9695395460166857, 0.9759418055796363, 0.9776869228303053, 0.9684304790794412, 0.9789536929546242, 0.983095681966468, 0.967768133852096, 0.9682149326779933, 0.9688246738780529, 0.9687195567795678, 0.9764937149967494, 0.9735554149412304, 0.9677365930204344, 0.9716841496122919, 0.9786277933269909, 0.9677365910779658, 0.9677418473976257, 0.9677418473976257, 0.9677418473976257, 0.9700073571066835, 0.9677996678851182, 0.9678942952362746, 0.9702386345792636, 0.9764253905721959], [0.9678364718447917, 0.9702491514046029, 0.9678942981499773, 0.968561850746777, 0.96864070136908, 0.9679100622236486, 0.9677365910779658, 0.9705487638979019, 0.9700862173636301, 0.9677365910779658, 0.9685776226291716, 0.9696446733422673, 0.9677365910779658, 0.9682780104563798, 0.9691348021866076, 0.967768133852096, 0.9682149326779933, 0.9688246738780529, 0.9677576192703079, 0.9677681338618084, 0.9677418473976257, 0.9677418473976257, 0.9677418473976257, 0.9677418473976257, 0.9677365910779658, 0.9677418473976257, 0.9677418473976257, 0.9704962061207905, 0.9721677379070479, 0.9790693281410532, 0.9705645448127748, 0.9787749771538048, 0.9788222771932544, 0.9695395460166857, 0.9759418055796363, 0.9776869228303053, 0.9677944154601076, 0.9740600355657864, 0.977965502411064, 0.9680519887110067, 0.970932482206532, 0.9778340846295269, 0.9687195567795678, 0.9764937149967494, 0.9735554149412304, 0.9686038970791868, 0.9694028747806297, 0.9677418473976257, 0.9680204498315258, 0.9708273575421321, 0.9677365920492002, 0.9677418473976257, 0.9700073571066835, 0.9677996678851182, 0.9687931317255126, 0.9749956565026023, 0.9821232627516988, 0.9714055704006023, 0.9750639877257954, 0.9817500662896889, 0.9684304790794412, 0.9789536929546242, 0.983095681966468, 0.970448893455296, 0.9736342724398718, 0.9804517391626583, 0.9679416157202047, 0.9731296462501438, 0.9775975561402258, 0.9677365930204344, 0.9716841496122919, 0.9786277933269909, 0.9678837719133784, 0.9739443906670151, 0.9740547674747676, 0.9677418473976257, 0.9712741449074654, 0.9767355086925035, 0.9678942952362746, 0.9702386345792636, 0.9764253905721959], [0.9678364718447917, 0.9702491514046029, 0.9678942981499773, 0.968561850746777, 0.96864070136908, 0.9679100622236486, 0.9677365910779658, 0.9705487638979019, 0.9700862173636301, 0.9704962061207905, 0.9721677379070479, 0.9790693281410532, 0.9705645448127748, 0.9787749771538048, 0.9788222771932544, 0.9695395460166857, 0.9759418055796363, 0.9776869228303053, 0.9687931317255126, 0.9749956565026023, 0.9821232627516988, 0.9714055704006023, 0.9750639877257954, 0.9817500662896889, 0.9684304790794412, 0.9789536929546242, 0.983095681966468, 0.9677365910779658, 0.9685776226291716, 0.9696446733422673, 0.9677365910779658, 0.9682780104563798, 0.9691348021866076, 0.967768133852096, 0.9682149326779933, 0.9688246738780529, 0.9677944154601076, 0.9740600355657864, 0.977965502411064, 0.9680519887110067, 0.970932482206532, 0.9778340846295269, 0.9687195567795678, 0.9764937149967494, 0.9735554149412304, 0.970448893455296, 0.9736342724398718, 0.9804517391626583, 0.9679416157202047, 0.9731296462501438, 0.9775975561402258, 0.9677365930204344, 0.9716841496122919, 0.9786277933269909, 0.9677576192703079, 0.9677681338618084, 0.9677418473976257, 0.9677418473976257, 0.9677418473976257, 0.9677418473976257, 0.9677365910779658, 0.9677418473976257, 0.9677418473976257, 0.9686038970791868, 0.9694028747806297, 0.9677418473976257, 0.9680204498315258, 0.9708273575421321, 0.9677365920492002, 0.9677418473976257, 0.9700073571066835, 0.9677996678851182, 0.9678837719133784, 0.9739443906670151, 0.9740547674747676, 0.9677418473976257, 0.9712741449074654, 0.9767355086925035, 0.9678942952362746, 0.9702386345792636, 0.9764253905721959]]}, {\"colorscale\": [[0, \"#FF0000\"], [0.5, \"#F1C40F\"], [1, \"#00FF00\"]], \"type\": \"heatmap\", \"x\": [0.0, 1.0, 2.0, 3.0, 4.0, 5.0, 6.0, 7.0, 8.0, 9.0, 10.0, 11.0, 12.0, 13.0, 14.0, 15.0, 16.0, 17.0, 18.0, 19.0, 20.0, 21.0, 22.0, 23.0, 24.0, 25.0, 26.0, 27.0, 28.0, 29.0, 30.0, 31.0], \"xaxis\": \"x3\", \"y\": [\"#filters\", \"kernels\", \"#layers\", \"dropout\"], \"yaxis\": \"y3\", \"z\": [[0.9662268836330018, 0.9668884181583509, 0.9665622097287313, 0.9682536741623419, 0.9675401219103531, 0.9676652474889301, 0.9678684062666378, 0.9684828501739472, 0.9678353757278, 0.9665551796904294, 0.9661994614410134, 0.9664785543512935, 0.9666943786081178, 0.9672223369240662, 0.9675302553269367, 0.9681749366032538, 0.96769756881485, 0.9673798011048952, 0.9665713502073935, 0.9668792640664586, 0.9667667834536271, 0.9676216503764614, 0.9672532720828292, 0.9670894607828181, 0.9677334182665518, 0.9673868311431972, 0.9677137374093351, 0.9677749290761642, 0.9671112772622728, 0.9676610421984758, 0.9682072652631716, 0.9710882180306457, 0.9701187765385785, 0.9703929480635308, 0.9700533900120428, 0.9728274694717591, 0.9673341220956846, 0.9675028363641935, 0.9668581777211704, 0.9689602099087226, 0.9680315239517908, 0.9698073376868527, 0.9687696843878235, 0.9688526469141989, 0.9687120451479507, 0.9665804895169805, 0.9672075652963941, 0.9671956151405613, 0.9676090115210819, 0.9677467967489877, 0.9679387224971201, 0.9690649588901059, 0.9683169472868605, 0.9678213064258945, 0.9674578446256602, 0.9673144267912974, 0.9680483980857001, 0.972596874649822, 0.971744830892687, 0.9715550281251937, 0.9752514372804922, 0.9742637121370321, 0.9745280389818397, 0.9676589230861763, 0.9675837005332495, 0.9674662908165965, 0.9700442468367141, 0.9713757584256385, 0.9682839097829329, 0.9719086386646892, 0.970784525322487, 0.971121262824406, 0.9673643365793977, 0.9673945662636851, 0.9673523839555175, 0.9675295404011384, 0.9675787513187384, 0.9674845498238862, 0.9689538783304456, 0.9704091220513491, 0.9699177159389321], [0.9662268836330018, 0.9677749290761642, 0.9674578446256602, 0.9682536741623419, 0.9682072652631716, 0.972596874649822, 0.9678684062666378, 0.9703929480635308, 0.9752514372804922, 0.9665551796904294, 0.9673341220956846, 0.9676589230861763, 0.9666943786081178, 0.9689602099087226, 0.9700442468367141, 0.9681749366032538, 0.9687696843878235, 0.9719086386646892, 0.9665713502073935, 0.9665804895169805, 0.9673643365793977, 0.9676216503764614, 0.9676090115210819, 0.9675295404011384, 0.9677334182665518, 0.9690649588901059, 0.9689538783304456, 0.9668884181583509, 0.9671112772622728, 0.9673144267912974, 0.9675401219103531, 0.9710882180306457, 0.971744830892687, 0.9684828501739472, 0.9700533900120428, 0.9742637121370321, 0.9661994614410134, 0.9675028363641935, 0.9675837005332495, 0.9672223369240662, 0.9680315239517908, 0.9713757584256385, 0.96769756881485, 0.9688526469141989, 0.970784525322487, 0.9668792640664586, 0.9672075652963941, 0.9673945662636851, 0.9672532720828292, 0.9677467967489877, 0.9675787513187384, 0.9673868311431972, 0.9683169472868605, 0.9704091220513491, 0.9665622097287313, 0.9676610421984758, 0.9680483980857001, 0.9676652474889301, 0.9701187765385785, 0.9715550281251937, 0.9678353757278, 0.9728274694717591, 0.9745280389818397, 0.9664785543512935, 0.9668581777211704, 0.9674662908165965, 0.9675302553269367, 0.9698073376868527, 0.9682839097829329, 0.9673798011048952, 0.9687120451479507, 0.971121262824406, 0.9667667834536271, 0.9671956151405613, 0.9673523839555175, 0.9670894607828181, 0.9679387224971201, 0.9674845498238862, 0.9677137374093351, 0.9678213064258945, 0.9699177159389321], [0.9662268836330018, 0.9677749290761642, 0.9674578446256602, 0.9668884181583509, 0.9671112772622728, 0.9673144267912974, 0.9665622097287313, 0.9676610421984758, 0.9680483980857001, 0.9665551796904294, 0.9673341220956846, 0.9676589230861763, 0.9661994614410134, 0.9675028363641935, 0.9675837005332495, 0.9664785543512935, 0.9668581777211704, 0.9674662908165965, 0.9665713502073935, 0.9665804895169805, 0.9673643365793977, 0.9668792640664586, 0.9672075652963941, 0.9673945662636851, 0.9667667834536271, 0.9671956151405613, 0.9673523839555175, 0.9682536741623419, 0.9682072652631716, 0.972596874649822, 0.9675401219103531, 0.9710882180306457, 0.971744830892687, 0.9676652474889301, 0.9701187765385785, 0.9715550281251937, 0.9666943786081178, 0.9689602099087226, 0.9700442468367141, 0.9672223369240662, 0.9680315239517908, 0.9713757584256385, 0.9675302553269367, 0.9698073376868527, 0.9682839097829329, 0.9676216503764614, 0.9676090115210819, 0.9675295404011384, 0.9672532720828292, 0.9677467967489877, 0.9675787513187384, 0.9670894607828181, 0.9679387224971201, 0.9674845498238862, 0.9678684062666378, 0.9703929480635308, 0.9752514372804922, 0.9684828501739472, 0.9700533900120428, 0.9742637121370321, 0.9678353757278, 0.9728274694717591, 0.9745280389818397, 0.9681749366032538, 0.9687696843878235, 0.9719086386646892, 0.96769756881485, 0.9688526469141989, 0.970784525322487, 0.9673798011048952, 0.9687120451479507, 0.971121262824406, 0.9677334182665518, 0.9690649588901059, 0.9689538783304456, 0.9673868311431972, 0.9683169472868605, 0.9704091220513491, 0.9677137374093351, 0.9678213064258945, 0.9699177159389321], [0.9662268836330018, 0.9677749290761642, 0.9674578446256602, 0.9668884181583509, 0.9671112772622728, 0.9673144267912974, 0.9665622097287313, 0.9676610421984758, 0.9680483980857001, 0.9682536741623419, 0.9682072652631716, 0.972596874649822, 0.9675401219103531, 0.9710882180306457, 0.971744830892687, 0.9676652474889301, 0.9701187765385785, 0.9715550281251937, 0.9678684062666378, 0.9703929480635308, 0.9752514372804922, 0.9684828501739472, 0.9700533900120428, 0.9742637121370321, 0.9678353757278, 0.9728274694717591, 0.9745280389818397, 0.9665551796904294, 0.9673341220956846, 0.9676589230861763, 0.9661994614410134, 0.9675028363641935, 0.9675837005332495, 0.9664785543512935, 0.9668581777211704, 0.9674662908165965, 0.9666943786081178, 0.9689602099087226, 0.9700442468367141, 0.9672223369240662, 0.9680315239517908, 0.9713757584256385, 0.9675302553269367, 0.9698073376868527, 0.9682839097829329, 0.9681749366032538, 0.9687696843878235, 0.9719086386646892, 0.96769756881485, 0.9688526469141989, 0.970784525322487, 0.9673798011048952, 0.9687120451479507, 0.971121262824406, 0.9665713502073935, 0.9665804895169805, 0.9673643365793977, 0.9668792640664586, 0.9672075652963941, 0.9673945662636851, 0.9667667834536271, 0.9671956151405613, 0.9673523839555175, 0.9676216503764614, 0.9676090115210819, 0.9675295404011384, 0.9672532720828292, 0.9677467967489877, 0.9675787513187384, 0.9670894607828181, 0.9679387224971201, 0.9674845498238862, 0.9677334182665518, 0.9690649588901059, 0.9689538783304456, 0.9673868311431972, 0.9683169472868605, 0.9704091220513491, 0.9677137374093351, 0.9678213064258945, 0.9699177159389321]]}, {\"colorscale\": [[0, \"#FF0000\"], [0.5, \"#F1C40F\"], [1, \"#00FF00\"]], \"type\": \"heatmap\", \"x\": [0, 1], \"xaxis\": \"x2\", \"y\": [\"#filters\", \"kernels\", \"#layers\", \"dropout\"], \"yaxis\": \"y2\", \"z\": [[0.9684600347252408, 0.9718254788729728, 0.9739182841923198], [0.9714384496272079, 0.971396009552124, 0.9713693386112016], [0.9683367988093597, 0.9720871271306167, 0.973779871850557], [0.9732273697492653, 0.971576869852155, 0.969399558189113]]}, {\"colorscale\": [[0, \"#FF0000\"], [0.5, \"#F1C40F\"], [1, \"#00FF00\"]], \"type\": \"heatmap\", \"x\": [0, 1], \"xaxis\": \"x4\", \"y\": [\"#filters\", \"kernels\", \"#layers\", \"dropout\"], \"yaxis\": \"y4\", \"z\": [[0.9672693121445785, 0.9685016782747783, 0.9697397293528041], [0.9684873784071107, 0.9685152118636527, 0.9685081295013974], [0.9671109270422029, 0.9686878425950577, 0.9697119501349003], [0.9694562627680171, 0.9683329004939308, 0.967721556510213]]}],\n",
       "                        {\"annotations\": [{\"font\": {\"size\": 16}, \"showarrow\": false, \"text\": \"Train. accuracy w.r.t. hyperparams\", \"x\": 0.225, \"xanchor\": \"center\", \"xref\": \"paper\", \"y\": 1.0, \"yanchor\": \"bottom\", \"yref\": \"paper\"}, {\"font\": {\"size\": 16}, \"showarrow\": false, \"text\": \"Mean train. accuracy w.r.t. hyperparams\", \"x\": 0.775, \"xanchor\": \"center\", \"xref\": \"paper\", \"y\": 1.0, \"yanchor\": \"bottom\", \"yref\": \"paper\"}, {\"font\": {\"size\": 16}, \"showarrow\": false, \"text\": \"Valid accuracy w.r.t hyperparams\", \"x\": 0.225, \"xanchor\": \"center\", \"xref\": \"paper\", \"y\": 0.375, \"yanchor\": \"bottom\", \"yref\": \"paper\"}, {\"font\": {\"size\": 16}, \"showarrow\": false, \"text\": \"Mean valid accuracy w.r.t. hyperparams\", \"x\": 0.775, \"xanchor\": \"center\", \"xref\": \"paper\", \"y\": 0.375, \"yanchor\": \"bottom\", \"yref\": \"paper\"}], \"height\": 600, \"template\": {\"data\": {\"bar\": [{\"error_x\": {\"color\": \"#2a3f5f\"}, \"error_y\": {\"color\": \"#2a3f5f\"}, \"marker\": {\"line\": {\"color\": \"#E5ECF6\", \"width\": 0.5}}, \"type\": \"bar\"}], \"barpolar\": [{\"marker\": {\"line\": {\"color\": \"#E5ECF6\", \"width\": 0.5}}, \"type\": \"barpolar\"}], \"carpet\": [{\"aaxis\": {\"endlinecolor\": \"#2a3f5f\", \"gridcolor\": \"white\", \"linecolor\": \"white\", \"minorgridcolor\": \"white\", \"startlinecolor\": \"#2a3f5f\"}, \"baxis\": {\"endlinecolor\": \"#2a3f5f\", \"gridcolor\": \"white\", \"linecolor\": \"white\", \"minorgridcolor\": \"white\", \"startlinecolor\": \"#2a3f5f\"}, \"type\": \"carpet\"}], \"choropleth\": [{\"colorbar\": {\"outlinewidth\": 0, \"ticks\": \"\"}, \"type\": \"choropleth\"}], \"contour\": [{\"colorbar\": {\"outlinewidth\": 0, \"ticks\": \"\"}, \"colorscale\": [[0.0, \"#0d0887\"], [0.1111111111111111, \"#46039f\"], [0.2222222222222222, \"#7201a8\"], [0.3333333333333333, \"#9c179e\"], [0.4444444444444444, \"#bd3786\"], [0.5555555555555556, \"#d8576b\"], [0.6666666666666666, \"#ed7953\"], [0.7777777777777778, \"#fb9f3a\"], [0.8888888888888888, \"#fdca26\"], [1.0, \"#f0f921\"]], \"type\": \"contour\"}], \"contourcarpet\": [{\"colorbar\": {\"outlinewidth\": 0, \"ticks\": \"\"}, \"type\": \"contourcarpet\"}], \"heatmap\": [{\"colorbar\": {\"outlinewidth\": 0, \"ticks\": \"\"}, \"colorscale\": [[0.0, \"#0d0887\"], [0.1111111111111111, \"#46039f\"], [0.2222222222222222, \"#7201a8\"], [0.3333333333333333, \"#9c179e\"], [0.4444444444444444, \"#bd3786\"], [0.5555555555555556, \"#d8576b\"], [0.6666666666666666, \"#ed7953\"], [0.7777777777777778, \"#fb9f3a\"], [0.8888888888888888, \"#fdca26\"], [1.0, \"#f0f921\"]], \"type\": \"heatmap\"}], \"heatmapgl\": [{\"colorbar\": {\"outlinewidth\": 0, \"ticks\": \"\"}, \"colorscale\": [[0.0, \"#0d0887\"], [0.1111111111111111, \"#46039f\"], [0.2222222222222222, \"#7201a8\"], [0.3333333333333333, \"#9c179e\"], [0.4444444444444444, \"#bd3786\"], [0.5555555555555556, \"#d8576b\"], [0.6666666666666666, \"#ed7953\"], [0.7777777777777778, \"#fb9f3a\"], [0.8888888888888888, \"#fdca26\"], [1.0, \"#f0f921\"]], \"type\": \"heatmapgl\"}], \"histogram\": [{\"marker\": {\"colorbar\": {\"outlinewidth\": 0, \"ticks\": \"\"}}, \"type\": \"histogram\"}], \"histogram2d\": [{\"colorbar\": {\"outlinewidth\": 0, \"ticks\": \"\"}, \"colorscale\": [[0.0, \"#0d0887\"], [0.1111111111111111, \"#46039f\"], [0.2222222222222222, \"#7201a8\"], [0.3333333333333333, \"#9c179e\"], [0.4444444444444444, \"#bd3786\"], [0.5555555555555556, \"#d8576b\"], [0.6666666666666666, \"#ed7953\"], [0.7777777777777778, \"#fb9f3a\"], [0.8888888888888888, \"#fdca26\"], [1.0, \"#f0f921\"]], \"type\": \"histogram2d\"}], \"histogram2dcontour\": [{\"colorbar\": {\"outlinewidth\": 0, \"ticks\": \"\"}, \"colorscale\": [[0.0, \"#0d0887\"], [0.1111111111111111, \"#46039f\"], [0.2222222222222222, \"#7201a8\"], [0.3333333333333333, \"#9c179e\"], [0.4444444444444444, \"#bd3786\"], [0.5555555555555556, \"#d8576b\"], [0.6666666666666666, \"#ed7953\"], [0.7777777777777778, \"#fb9f3a\"], [0.8888888888888888, \"#fdca26\"], [1.0, \"#f0f921\"]], \"type\": \"histogram2dcontour\"}], \"mesh3d\": [{\"colorbar\": {\"outlinewidth\": 0, \"ticks\": \"\"}, \"type\": \"mesh3d\"}], \"parcoords\": [{\"line\": {\"colorbar\": {\"outlinewidth\": 0, \"ticks\": \"\"}}, \"type\": \"parcoords\"}], \"scatter\": [{\"marker\": {\"colorbar\": {\"outlinewidth\": 0, \"ticks\": \"\"}}, \"type\": \"scatter\"}], \"scatter3d\": [{\"line\": {\"colorbar\": {\"outlinewidth\": 0, \"ticks\": \"\"}}, \"marker\": {\"colorbar\": {\"outlinewidth\": 0, \"ticks\": \"\"}}, \"type\": \"scatter3d\"}], \"scattercarpet\": [{\"marker\": {\"colorbar\": {\"outlinewidth\": 0, \"ticks\": \"\"}}, \"type\": \"scattercarpet\"}], \"scattergeo\": [{\"marker\": {\"colorbar\": {\"outlinewidth\": 0, \"ticks\": \"\"}}, \"type\": \"scattergeo\"}], \"scattergl\": [{\"marker\": {\"colorbar\": {\"outlinewidth\": 0, \"ticks\": \"\"}}, \"type\": \"scattergl\"}], \"scattermapbox\": [{\"marker\": {\"colorbar\": {\"outlinewidth\": 0, \"ticks\": \"\"}}, \"type\": \"scattermapbox\"}], \"scatterpolar\": [{\"marker\": {\"colorbar\": {\"outlinewidth\": 0, \"ticks\": \"\"}}, \"type\": \"scatterpolar\"}], \"scatterpolargl\": [{\"marker\": {\"colorbar\": {\"outlinewidth\": 0, \"ticks\": \"\"}}, \"type\": \"scatterpolargl\"}], \"scatterternary\": [{\"marker\": {\"colorbar\": {\"outlinewidth\": 0, \"ticks\": \"\"}}, \"type\": \"scatterternary\"}], \"surface\": [{\"colorbar\": {\"outlinewidth\": 0, \"ticks\": \"\"}, \"colorscale\": [[0.0, \"#0d0887\"], [0.1111111111111111, \"#46039f\"], [0.2222222222222222, \"#7201a8\"], [0.3333333333333333, \"#9c179e\"], [0.4444444444444444, \"#bd3786\"], [0.5555555555555556, \"#d8576b\"], [0.6666666666666666, \"#ed7953\"], [0.7777777777777778, \"#fb9f3a\"], [0.8888888888888888, \"#fdca26\"], [1.0, \"#f0f921\"]], \"type\": \"surface\"}], \"table\": [{\"cells\": {\"fill\": {\"color\": \"#EBF0F8\"}, \"line\": {\"color\": \"white\"}}, \"header\": {\"fill\": {\"color\": \"#C8D4E3\"}, \"line\": {\"color\": \"white\"}}, \"type\": \"table\"}]}, \"layout\": {\"annotationdefaults\": {\"arrowcolor\": \"#2a3f5f\", \"arrowhead\": 0, \"arrowwidth\": 1}, \"colorscale\": {\"diverging\": [[0, \"#8e0152\"], [0.1, \"#c51b7d\"], [0.2, \"#de77ae\"], [0.3, \"#f1b6da\"], [0.4, \"#fde0ef\"], [0.5, \"#f7f7f7\"], [0.6, \"#e6f5d0\"], [0.7, \"#b8e186\"], [0.8, \"#7fbc41\"], [0.9, \"#4d9221\"], [1, \"#276419\"]], \"sequential\": [[0.0, \"#0d0887\"], [0.1111111111111111, \"#46039f\"], [0.2222222222222222, \"#7201a8\"], [0.3333333333333333, \"#9c179e\"], [0.4444444444444444, \"#bd3786\"], [0.5555555555555556, \"#d8576b\"], [0.6666666666666666, \"#ed7953\"], [0.7777777777777778, \"#fb9f3a\"], [0.8888888888888888, \"#fdca26\"], [1.0, \"#f0f921\"]], \"sequentialminus\": [[0.0, \"#0d0887\"], [0.1111111111111111, \"#46039f\"], [0.2222222222222222, \"#7201a8\"], [0.3333333333333333, \"#9c179e\"], [0.4444444444444444, \"#bd3786\"], [0.5555555555555556, \"#d8576b\"], [0.6666666666666666, \"#ed7953\"], [0.7777777777777778, \"#fb9f3a\"], [0.8888888888888888, \"#fdca26\"], [1.0, \"#f0f921\"]]}, \"colorway\": [\"#636efa\", \"#EF553B\", \"#00cc96\", \"#ab63fa\", \"#FFA15A\", \"#19d3f3\", \"#FF6692\", \"#B6E880\", \"#FF97FF\", \"#FECB52\"], \"font\": {\"color\": \"#2a3f5f\"}, \"geo\": {\"bgcolor\": \"white\", \"lakecolor\": \"white\", \"landcolor\": \"#E5ECF6\", \"showlakes\": true, \"showland\": true, \"subunitcolor\": \"white\"}, \"hoverlabel\": {\"align\": \"left\"}, \"hovermode\": \"closest\", \"mapbox\": {\"style\": \"light\"}, \"paper_bgcolor\": \"white\", \"plot_bgcolor\": \"#E5ECF6\", \"polar\": {\"angularaxis\": {\"gridcolor\": \"white\", \"linecolor\": \"white\", \"ticks\": \"\"}, \"bgcolor\": \"#E5ECF6\", \"radialaxis\": {\"gridcolor\": \"white\", \"linecolor\": \"white\", \"ticks\": \"\"}}, \"scene\": {\"xaxis\": {\"backgroundcolor\": \"#E5ECF6\", \"gridcolor\": \"white\", \"gridwidth\": 2, \"linecolor\": \"white\", \"showbackground\": true, \"ticks\": \"\", \"zerolinecolor\": \"white\"}, \"yaxis\": {\"backgroundcolor\": \"#E5ECF6\", \"gridcolor\": \"white\", \"gridwidth\": 2, \"linecolor\": \"white\", \"showbackground\": true, \"ticks\": \"\", \"zerolinecolor\": \"white\"}, \"zaxis\": {\"backgroundcolor\": \"#E5ECF6\", \"gridcolor\": \"white\", \"gridwidth\": 2, \"linecolor\": \"white\", \"showbackground\": true, \"ticks\": \"\", \"zerolinecolor\": \"white\"}}, \"shapedefaults\": {\"line\": {\"color\": \"#2a3f5f\"}}, \"ternary\": {\"aaxis\": {\"gridcolor\": \"white\", \"linecolor\": \"white\", \"ticks\": \"\"}, \"baxis\": {\"gridcolor\": \"white\", \"linecolor\": \"white\", \"ticks\": \"\"}, \"bgcolor\": \"#E5ECF6\", \"caxis\": {\"gridcolor\": \"white\", \"linecolor\": \"white\", \"ticks\": \"\"}}, \"title\": {\"x\": 0.05}, \"xaxis\": {\"automargin\": true, \"gridcolor\": \"white\", \"linecolor\": \"white\", \"ticks\": \"\", \"zerolinecolor\": \"white\", \"zerolinewidth\": 2}, \"yaxis\": {\"automargin\": true, \"gridcolor\": \"white\", \"linecolor\": \"white\", \"ticks\": \"\", \"zerolinecolor\": \"white\", \"zerolinewidth\": 2}}}, \"width\": 850, \"xaxis\": {\"anchor\": \"y\", \"domain\": [0.0, 0.45]}, \"xaxis2\": {\"anchor\": \"y2\", \"domain\": [0.55, 1.0]}, \"xaxis3\": {\"anchor\": \"y3\", \"domain\": [0.0, 0.45]}, \"xaxis4\": {\"anchor\": \"y4\", \"domain\": [0.55, 1.0]}, \"yaxis\": {\"anchor\": \"x\", \"domain\": [0.625, 1.0]}, \"yaxis2\": {\"anchor\": \"x2\", \"domain\": [0.625, 1.0]}, \"yaxis3\": {\"anchor\": \"x3\", \"domain\": [0.0, 0.375]}, \"yaxis4\": {\"anchor\": \"x4\", \"domain\": [0.0, 0.375]}},\n",
       "                        {\"responsive\": true}\n",
       "                    ).then(function(){\n",
       "                            \n",
       "var gd = document.getElementById('7aa4471b-2b07-4fc0-b4c2-1b3cbc4c6f30');\n",
       "var x = new MutationObserver(function (mutations, observer) {{\n",
       "        var display = window.getComputedStyle(gd).display;\n",
       "        if (!display || display === 'none') {{\n",
       "            console.log([gd, 'removed!']);\n",
       "            Plotly.purge(gd);\n",
       "            observer.disconnect();\n",
       "        }}\n",
       "}});\n",
       "\n",
       "// Listen for the removal of the full notebook cells\n",
       "var notebookContainer = gd.closest('#notebook-container');\n",
       "if (notebookContainer) {{\n",
       "    x.observe(notebookContainer, {childList: true});\n",
       "}}\n",
       "\n",
       "// Listen for the clearing of the current output cell\n",
       "var outputEl = gd.closest('.output');\n",
       "if (outputEl) {{\n",
       "    x.observe(outputEl, {childList: true});\n",
       "}}\n",
       "\n",
       "                        })\n",
       "                };\n",
       "                });\n",
       "            </script>\n",
       "        </div>"
      ]
     },
     "metadata": {},
     "output_type": "display_data"
    }
   ],
   "source": [
    "performances=np.zeros((variables,iterations))\n",
    "performances2=np.zeros((variables,iterations))\n",
    "a = attempts\n",
    "for j in range(variables):\n",
    "    k=0\n",
    "    for l in range(a):\n",
    "        for i in range(iterations):\n",
    "            if (i%(a**(j+1)))<((l+1)*a**(j+1)/a) and (i%(a**(j+1)))>=(l*a**(j+1)/a):\n",
    "                performances[j,k]=validation_accuracy[i][0]\n",
    "                performances2[j,k]=training_accuracy[i][0]\n",
    "                k=k+1\n",
    "\n",
    "general_perf = np.zeros((variables,attempts))\n",
    "general_perf2 = np.zeros((variables,attempts))\n",
    "for i in range(variables):\n",
    "    for j in range(attempts):\n",
    "        general_perf[i,j]=np.mean(performances[i,j*int(iterations/a):(j+1)*int(iterations/a)])\n",
    "        general_perf2[i,j]=np.mean(performances2[i,j*int(iterations/a):(j+1)*int(iterations/a)])\n",
    "\n",
    "fig = make_subplots(rows=2, cols=2,subplot_titles=(\"Train. accuracy w.r.t. hyperparams\",\n",
    "                                                   \"Mean train. accuracy w.r.t. hyperparams\",\n",
    "                                                   \"Valid accuracy w.r.t hyperparams\",\n",
    "                                                   \"Mean valid accuracy w.r.t. hyperparams\"))\n",
    "y = ['#filters','kernels','#layers','dropout']\n",
    "x = np.linspace(0,31,32)\n",
    "Colorscale = [[0, '#FF0000'],[0.5, '#F1C40F'], [1, '#00FF00']]\n",
    "fig.add_trace(go.Heatmap(y=[y[i] for i in range(len(y))],\n",
    "                   x=[x[i] for i in range(32)],\n",
    "                   z=performances, colorscale = Colorscale),row=1,col=1)\n",
    "fig.add_trace(go.Heatmap(y=[y[i] for i in range(len(y))],\n",
    "                   x=[x[i] for i in range(32)],\n",
    "                   z=performances2,colorscale=Colorscale),row=2,col=1)\n",
    "fig.add_trace(go.Heatmap(y=[y[i] for i in range(len(y))],\n",
    "                   x=[0,1],\n",
    "                   z=general_perf,colorscale=Colorscale),row=1,col=2)\n",
    "fig.add_trace(go.Heatmap(y=[y[i] for i in range(len(y))],\n",
    "                   x=[0,1],\n",
    "                   z=general_perf2,colorscale=Colorscale),row=2,col=2)\n",
    "fig.update_layout(height=600, width=850)\n",
    "\n",
    "fig.show()"
   ]
  },
  {
   "cell_type": "code",
   "execution_count": 26,
   "metadata": {},
   "outputs": [],
   "source": [
    "best_hp=np.zeros((variables,1))\n",
    "for i in range(variables):\n",
    "    best_hp[i]=possible_values[i][np.argmax(general_perf2[i])]\n",
    "\n",
    "classifier=Classifier(0,best_hp)\n",
    "history=classifier.fit(training_set,training_labels,\n",
    "                           validation_data=[validation_set,validation_labels],\n",
    "                           epochs=20,batch_size=50,verbose=0)\n"
   ]
  },
  {
   "cell_type": "code",
   "execution_count": 27,
   "metadata": {},
   "outputs": [
    {
     "data": {
      "image/png": "[encoded data removed]",
      "text/plain": [
       "<Figure size 864x288 with 2 Axes>"
      ]
     },
     "metadata": {
      "needs_background": "light"
     },
     "output_type": "display_data"
    }
   ],
   "source": [
    "training_accuracy=[]\n",
    "training_accuracy.append(history.history['acc'])\n",
    "validation_accuracy=[]\n",
    "validation_accuracy.append(history.history['val_acc'])\n",
    "fig, ax = plt.subplots(1,2,figsize=(12,4))\n",
    "ax[0].plot(training_accuracy[0])\n",
    "ax[1].plot(validation_accuracy[0]) \n",
    "plt.show()"
   ]
  },
  {
   "cell_type": "markdown",
   "metadata": {},
   "source": [
    "Confusion matrix"
   ]
  },
  {
   "cell_type": "code",
   "execution_count": 28,
   "metadata": {},
   "outputs": [
    {
     "data": {
      "image/png": "[encoded data removed]",
      "text/plain": [
       "<Figure size 432x432 with 2 Axes>"
      ]
     },
     "metadata": {
      "needs_background": "light"
     },
     "output_type": "display_data"
    }
   ],
   "source": [
    "test_set = test_set.reshape(-1,40,98,1)\n",
    "predictions = classifier.predict(test_set)\n",
    "new_test_labels = np.zeros(test_labels.shape[0])\n",
    "\n",
    "for i in range(test_labels.shape[0]):\n",
    "    new_test_labels[i]=np.argmax(test_labels[i])\n",
    "y_pred = np.zeros(test_labels.shape[0])\n",
    "\n",
    "for i in range(test_labels.shape[0]):\n",
    "    y_pred[i]=np.argmax(predictions[i])\n",
    "\n",
    "cm = confusion_matrix(y_true=new_test_labels,y_pred=y_pred)\n",
    "plt.figure(figsize=(6,6))\n",
    "plt.imshow(cm,interpolation='nearest',cmap=plt.cm.jet)\n",
    "plt.tight_layout()\n",
    "plt.colorbar()\n",
    "tick_marks = np.arange(31)\n",
    "plt.xticks(tick_marks,words_name,rotation=90)\n",
    "plt.yticks(tick_marks,words_name)\n",
    "plt.xlabel('Predicted')\n",
    "plt.ylabel('True')\n",
    "plt.title('Confusion matrix')\n",
    "plt.show()"
   ]
  },
  {
   "cell_type": "code",
   "execution_count": null,
   "metadata": {},
   "outputs": [],
   "source": [
    "fs, signal = wavfile.read('./audio_files/bird/00b01445_nohash_0.wav')\n",
    "winsound.PlaySound('./audio_files/bird/00b01445_nohash_0', winsound.SND_FILENAME)\n",
    "filter_bank,length=creation_filterbank(fs,signal)\n",
    "audio_signal=np.zeros((1,40,98,1))\n",
    "audio_signal[0,:,:,0]=filter_bank.T\n",
    "\n",
    "plt.figure(figsize=(14,4))\n",
    "plt.bar(words_name,classifier.predict(audio_signal)[0])\n",
    "plt.title('Probability distribution per class')\n",
    "plt.xlabel('Class')\n",
    "plt.ylabel('Probability')\n",
    "plt.xticks(rotation=90)\n",
    "plt.show()"
   ]
  },
  {
   "cell_type": "code",
   "execution_count": null,
   "metadata": {},
   "outputs": [],
   "source": []
  }
 ],
 "metadata": {
  "kernelspec": {
   "display_name": "Python 3",
   "language": "python",
   "name": "python3"
  },
  "language_info": {
   "codemirror_mode": {
    "name": "ipython",
    "version": 3
   },
   "file_extension": ".py",
   "mimetype": "text/x-python",
   "name": "python",
   "nbconvert_exporter": "python",
   "pygments_lexer": "ipython3",
   "version": "3.6.5"
  }
 },
 "nbformat": 4,
 "nbformat_minor": 2
}
