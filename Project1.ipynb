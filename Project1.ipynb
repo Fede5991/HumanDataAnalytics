{
 "cells": [
  {
   "cell_type": "markdown",
   "metadata": {},
   "source": [
    "Project1 - Speech recognition"
   ]
  },
  {
   "cell_type": "code",
   "execution_count": 1,
   "metadata": {},
   "outputs": [
    {
     "name": "stderr",
     "output_type": "stream",
     "text": [
      "Using TensorFlow backend.\n"
     ]
    }
   ],
   "source": [
    "import numpy as np\n",
    "import os\n",
    "from tqdm import tqdm\n",
    "import matplotlib.pyplot as plt\n",
    "from scipy.io import wavfile\n",
    "import plotly.graph_objects as go\n",
    "import plotly\n",
    "from plotly.subplots import make_subplots\n",
    "import winsound\n",
    "import time\n",
    "\n",
    "import keras\n",
    "from keras import backend as K\n",
    "from keras.models import Sequential,Input,Model\n",
    "from keras.layers import Conv2D,Conv1D,MaxPooling2D,AveragePooling1D,MaxPooling1D\n",
    "from keras.layers import Dense,Flatten,Dropout\n",
    "from keras import initializers,optimizers,backend as k\n",
    "from sklearn.metrics import confusion_matrix,accuracy_score\n",
    "import tensorflow as tf\n",
    "os.environ['TF_CPP_MIN_LOG_LEVEL'] = '3'"
   ]
  },
  {
   "cell_type": "code",
   "execution_count": null,
   "metadata": {},
   "outputs": [],
   "source": [
    "#Control on the frequencies of the wav files of the dataset\n",
    "frequencies = {}\n",
    "signal_lengths = {}\n",
    "folders = os.listdir('./audio_files')\n",
    "for folder in tqdm(folders):\n",
    "    entries = os.listdir('./audio_files'+'/'+folder)\n",
    "    for entry in entries:    \n",
    "        fs, signal = wavfile.read('./audio_files'+'/'+folder+'/'+entry)\n",
    "        if len(signal) in signal_lengths:\n",
    "            signal_lengths[len(signal)]+=1\n",
    "        else:\n",
    "            signal_lengths[len(signal)]=1\n",
    "        if fs in frequencies.keys():\n",
    "            frequencies[fs]+=1\n",
    "        else:\n",
    "            frequencies[fs]=1"
   ]
  },
  {
   "cell_type": "code",
   "execution_count": null,
   "metadata": {},
   "outputs": [],
   "source": [
    "x = []\n",
    "y = []\n",
    "for i in signal_lengths:\n",
    "    x.append(i)\n",
    "    y.append(signal_lengths[i])\n",
    "tot = 0\n",
    "for i in range(81):\n",
    "    tot = tot + y[i]\n",
    "freq = []\n",
    "counts = []\n",
    "for j in frequencies:\n",
    "    freq.append(str(j)+'Hz')\n",
    "    counts.append(frequencies[j])\n",
    "        \n",
    "labels = []\n",
    "values = []\n",
    "one_second = 0\n",
    "less = 0\n",
    "more = 0\n",
    "\n",
    "for i in range(len(x)):\n",
    "    if x[i]==16000:\n",
    "        one_second+=y[i]\n",
    "    elif x[i]<16000:\n",
    "        less+=y[i]\n",
    "    else:\n",
    "        more+=y[i]\n",
    "labels.append('=1 second')\n",
    "values.append(one_second/tot*100)\n",
    "labels.append('<1 second')\n",
    "values.append(less/tot*100)\n",
    "labels.append('>1 second')\n",
    "values.append(more/tot*100)\n",
    "fig = make_subplots(rows=1, cols=2,specs=[[{\"type\": \"domain\"},{\"type\": \"domain\"}]],\n",
    "                    subplot_titles=['Duration .wav files', 'Frequency .wav files'])\n",
    "fig.add_trace(go.Pie(labels=labels, values=values),row=1,col=1)\n",
    "fig.add_trace(go.Pie(labels=freq, values=counts),row=1,col=2)\n",
    "fig.update_layout(height=400, width=700)\n",
    "fig.show()"
   ]
  },
  {
   "cell_type": "code",
   "execution_count": 2,
   "metadata": {},
   "outputs": [],
   "source": [
    "def creation_filterbank(fs,signal):\n",
    "        frame_size = 0.025 #duration of a frame [s]\n",
    "        frame_stride = 0.01 #duration of the overlap between 2 consecutive frames [s]\n",
    "        frame_length, frame_step = frame_size*fs, frame_stride*fs\n",
    "        signal_length = len(signal)\n",
    "        frame_length = int(round(frame_length))\n",
    "        frame_step = int(round(frame_step))\n",
    "        num_frames = int(np.ceil(float(np.abs(signal_length-frame_length))/frame_step))\n",
    "        NFFT=400\n",
    "        \n",
    "        pad_signal_length = num_frames*frame_step+frame_length\n",
    "        z = np.zeros((pad_signal_length-signal_length))\n",
    "        pad_signal = np.append(signal,z)\n",
    "        \n",
    "        indices = np.tile(np.arange(0,frame_length),(num_frames,1))+np.tile(np.arange(0, num_frames * frame_step, frame_step), (frame_length, 1)).T\n",
    "        frames = pad_signal[indices.astype(np.int32,copy=False)]\n",
    "        frames *= np.hamming(frame_length)\n",
    "        \n",
    "        mag_frames = np.absolute(np.fft.rfft(frames, NFFT))  # Magnitude of the FFT\n",
    "        pow_frames = ((1.0 / NFFT) * ((mag_frames) ** 2))\n",
    "        \n",
    "        nfilt=40\n",
    "        low_freq_mel = 0\n",
    "        high_freq_mel = (2595 * np.log10(1 + (fs / 2) / 700))  # Convert Hz to Mel\n",
    "        mel_points = np.linspace(low_freq_mel, high_freq_mel, nfilt + 2)# Equally spaced in Mel scale\n",
    "        hz_points = (700 * (10**(mel_points / 2595) - 1))  # Convert Mel to Hz\n",
    "        bin = np.floor((NFFT + 1) * hz_points / fs)\n",
    "        \n",
    "       \n",
    "        fbank = np.zeros((nfilt, int(np.floor(NFFT / 2 + 1))))\n",
    "        for m in range(1, nfilt + 1):\n",
    "            f_m_minus = int(bin[m - 1])   # left\n",
    "            f_m = int(bin[m])             # center\n",
    "            f_m_plus = int(bin[m + 1])    # right\n",
    "\n",
    "            for k in range(f_m_minus, f_m):\n",
    "                fbank[m - 1, k] = (k - bin[m - 1]) / (bin[m] - bin[m - 1])\n",
    "            for k in range(f_m, f_m_plus):\n",
    "                fbank[m - 1, k] = (bin[m + 1] - k) / (bin[m + 1] - bin[m])\n",
    "        filter_banks = np.dot(pow_frames, fbank.T)\n",
    "        filter_banks = np.where(filter_banks == 0, np.finfo(float).eps, filter_banks)\n",
    "        filter_banks = 20 * np.log10(filter_banks)\n",
    "        filter_banks -= (np.mean(filter_banks,axis=0)+1e-8)\n",
    "        return filter_banks,len(signal)"
   ]
  },
  {
   "cell_type": "code",
   "execution_count": null,
   "metadata": {},
   "outputs": [],
   "source": [
    "folders = os.listdir('./audio_files')\n",
    "classes = 0 #iterator for the classes\n",
    "words_name = [] #list containing names of the classes\n",
    "class_samples = [] #vector containing number of samples for each class\n",
    "#of the training set\n",
    "\n",
    "dataset1 = [] #training set\n",
    "dataset2 = [] #validation set\n",
    "dataset3 = [] #test set\n",
    "output1 = [] #labels of the training set\n",
    "output2 = [] #labels of the validation set\n",
    "output3 = [] #labels of the test set\n",
    "with open('validation_list.txt') as f:\n",
    "    validation_list = f.readlines()\n",
    "with open('testing_list.txt') as g:\n",
    "    testing_list = g.readlines()\n",
    "\n",
    "for folder in tqdm(folders):\n",
    "    entries = os.listdir('./audio_files'+'/'+folder)\n",
    "    for entry in entries:\n",
    "        inserted = False\n",
    "        fs, signal = wavfile.read('./audio_files'+'/'+folder+'/'+entry)\n",
    "        filter_banks,length=creation_filterbank(fs,signal)\n",
    "        for i in validation_list:\n",
    "            if ''+folder+'/'+entry==i[0:len(folder+'/'+entry)]:\n",
    "                dataset2.append(filter_banks)\n",
    "                output2.append(classes)\n",
    "                inserted=True\n",
    "                if len(words_name)>0:\n",
    "                    if words_name[-1]!=folder:\n",
    "                        words_name.append(folder)\n",
    "                else:\n",
    "                    words_name.append(folder)\n",
    "        if inserted==False:            \n",
    "            for i in testing_list:\n",
    "                if folder+'/'+entry==i[0:len(folder+'/'+entry)]:\n",
    "                    dataset3.append(filter_banks)\n",
    "                    output3.append(classes)\n",
    "                    inserted = True\n",
    "                    if len(words_name)>0:\n",
    "                        if words_name[-1]!=folder:\n",
    "                            words_name.append(folder)\n",
    "                    else:\n",
    "                        words_name.append(folder)\n",
    "        if inserted==False:\n",
    "            dataset1.append(filter_banks)\n",
    "            output1.append(classes)\n",
    "            if len(words_name)>0:\n",
    "                if words_name[-1]!=folder:\n",
    "                    words_name.append(folder)\n",
    "                    class_samples.append(1)\n",
    "                else:\n",
    "                    class_samples[classes]+=1\n",
    "            else:\n",
    "                words_name.append(folder)\n",
    "                class_samples.append(1)\n",
    "    classes=classes+1"
   ]
  },
  {
   "cell_type": "code",
   "execution_count": null,
   "metadata": {},
   "outputs": [],
   "source": [
    "tot = np.sum(class_samples)\n",
    "class_samples/=tot\n",
    "labels = ['training set','validation set','test set']\n",
    "colors = [[1,0,0],[0,1,0],[0,0,1]]\n",
    "x=[len(dataset1),len(dataset2),len(dataset3)]\n",
    "\n",
    "plt.figure()\n",
    "plt.pie(x,labels=labels, autopct='%1.1f%%',colors=colors)\n",
    "plt.title('Data partition')\n",
    "plt.show()\n",
    "\n",
    "plt.figure(figsize=(10,4))\n",
    "plt.bar(words_name,class_samples)\n",
    "plt.title('Samples per class')\n",
    "plt.ylabel('Percentage')\n",
    "plt.xticks(rotation=90)\n",
    "plt.show()"
   ]
  },
  {
   "cell_type": "code",
   "execution_count": null,
   "metadata": {},
   "outputs": [],
   "source": [
    "j = 0\n",
    "plt.figure()\n",
    "plt.matshow(dataset1[j].T,cmap=plt.cm.jet)\n",
    "plt.xlabel('Time')\n",
    "plt.ylabel('Filter banks')\n",
    "plt.show()"
   ]
  },
  {
   "cell_type": "code",
   "execution_count": null,
   "metadata": {},
   "outputs": [],
   "source": [
    "training_samples=0\n",
    "validation_samples=0\n",
    "test_samples=0\n",
    "for i in tqdm(range(len(dataset1))):\n",
    "    if dataset1[i].shape[0]==98 and dataset1[i].shape[1]==40:\n",
    "        training_samples+=1\n",
    "for i in tqdm(range(len(dataset2))):\n",
    "    if dataset2[i].shape[0]==98 and dataset2[i].shape[1]==40:\n",
    "        validation_samples+=1\n",
    "for i in tqdm(range(len(dataset3))):\n",
    "    if dataset3[i].shape[0]==98 and dataset3[i].shape[1]==40:\n",
    "        test_samples+=1\n",
    "training_set = np.zeros((training_samples,40,98))\n",
    "training_labels = np.zeros((training_samples,classes))\n",
    "validation_set = np.zeros((validation_samples,40,98))\n",
    "validation_labels = np.zeros((validation_samples,classes))\n",
    "test_set=np.zeros((test_samples,40,98))\n",
    "test_labels=np.zeros((test_samples,classes))\n",
    "j=0\n",
    "for i in tqdm(range(len(dataset1))):\n",
    "        if dataset1[i].shape[0]==98 and dataset1[i].shape[1]==40:\n",
    "            training_set[j]=dataset1[i].T\n",
    "            training_labels[j,output1[i]]=1\n",
    "            j+=1\n",
    "j=0\n",
    "for i in tqdm(range(len(dataset2))):\n",
    "        if dataset2[i].shape[0]==98 and dataset2[i].shape[1]==40:\n",
    "            validation_set[j]=dataset2[i].T\n",
    "            validation_labels[j,output2[i]]=1\n",
    "            j+=1\n",
    "j=0\n",
    "for i in tqdm(range(len(dataset3))):\n",
    "        if dataset3[i].shape[0]==98 and dataset3[i].shape[1]==40:\n",
    "            test_set[j]=dataset3[i].T\n",
    "            test_labels[j,output3[i]]=1\n",
    "            j+=1 \n",
    "np.save('training_set',training_set)\n",
    "np.save('validation_set',validation_set)\n",
    "np.save('training_labels',training_labels)\n",
    "np.save('validation_labels',validation_labels)\n",
    "np.save('test_set',test_set)\n",
    "np.save('test_labels',test_labels)\n",
    "np.save('words_name',words_name)"
   ]
  },
  {
   "cell_type": "markdown",
   "metadata": {},
   "source": [
    "Part2 - Neural Network"
   ]
  },
  {
   "cell_type": "code",
   "execution_count": 3,
   "metadata": {},
   "outputs": [],
   "source": [
    "training_set=np.load('training_set.npy')\n",
    "validation_set=np.load('validation_set.npy')\n",
    "training_labels=np.load('training_labels.npy')\n",
    "validation_labels=np.load('validation_labels.npy')\n",
    "test_set=np.load('test_set.npy')\n",
    "test_labels=np.load('test_labels.npy')\n",
    "words_name=np.load('words_name.npy')\n",
    "randomize = np.arange(len(training_set))\n",
    "np.random.shuffle(randomize)\n",
    "training_set = training_set[randomize]\n",
    "training_labels = training_labels[randomize]\n",
    "randomize = np.arange(len(validation_set))\n",
    "np.random.shuffle(randomize)\n",
    "validation_set = validation_set[randomize]\n",
    "validation_labels = validation_labels[randomize]\n",
    "percentage = 10\n",
    "index1 = int(len(training_set)*percentage/100)\n",
    "index2 = int(len(validation_set)*percentage/100)\n",
    "training_set2 = training_set[0:index1].reshape((-1,40,98,1))\n",
    "validation_set2 = validation_set[0:index2].reshape((-1,40,98,1))\n",
    "training_set = training_set.reshape((-1,40,98,1))\n",
    "validation_set = validation_set.reshape((-1,40,98,1))\n",
    "training_labels2 = training_labels[0:index1]\n",
    "validation_labels2 = validation_labels[0:index2]"
   ]
  },
  {
   "cell_type": "code",
   "execution_count": 4,
   "metadata": {},
   "outputs": [],
   "source": [
    "def hyperparams_initialization(attempts,hp_number,method,limits,iteration):\n",
    "    hm = np.zeros((hp_number,attempts**hp_number))\n",
    "    hm_goodness = np.zeros((hp_number,attempts**hp_number))\n",
    "    \n",
    "    if (attempts>2 or iteration>0):\n",
    "        possible_values = []\n",
    "        for k in range(hp_number):\n",
    "            values = []\n",
    "            if method=='grid':\n",
    "                if iteration==0:\n",
    "                    values.append(limits[k][0])\n",
    "                    for l in range(attempts-1):\n",
    "                        values.append(limits[k][0]+(l+1)*(limits[k][-1]-limits[k][0])/(attempts-1))\n",
    "                else:\n",
    "                    for l in range(attempts):\n",
    "                        values.append(limits[k][0]+(l+1)*(limits[k][-1]-limits[k][0])/(attempts+1)) \n",
    "            else:\n",
    "                if iteration==0:\n",
    "                    values.append(limits[k][0])\n",
    "                    values.append(limits[k][-1])\n",
    "                    values.append(np.sort(np.random.uniform(limits[k][0],limits[k][-1],size=(attempts-2))))\n",
    "                else:\n",
    "                    values.append(np.sort(np.random.uniform(limits[k][0],limits[k][-1],size=(attempts))))\n",
    "            possible_values.append(np.sort(values))\n",
    "    for i in range(attempts**hp_number):\n",
    "        for j in range(hp_number):\n",
    "            if attempts==1:\n",
    "                hm[j,i]=(limits[j][0]+limits[j][-1])/2\n",
    "            elif (attempts==2 and iteration==0):\n",
    "                hm[j,i]=limits[j][int(i/(attempts**j))%attempts]\n",
    "            else:\n",
    "                hm[j,i]=possible_values[j][int(i/(attempts**j))%attempts]\n",
    "    if (attempts>2 or iteration>0):\n",
    "        return hm,possible_values\n",
    "    else:\n",
    "        return hm,limits\n",
    "\n",
    "attempts=2\n",
    "variables=9\n",
    "iterations=attempts**variables\n"
   ]
  },
  {
   "cell_type": "code",
   "execution_count": 5,
   "metadata": {},
   "outputs": [],
   "source": [
    "def extraction_performances(validation_accuracy,training_accuracy):\n",
    "    performances=np.zeros((variables,iterations))\n",
    "    performances2=np.zeros((variables,iterations))\n",
    "    a = attempts\n",
    "    for j in range(variables):\n",
    "        k=0\n",
    "        for l in range(a):\n",
    "            for i in range(iterations):\n",
    "                if (i%(a**(j+1)))<((l+1)*a**(j+1)/a) and (i%(a**(j+1)))>=(l*a**(j+1)/a):\n",
    "                    performances[j,k]=validation_accuracy[i]\n",
    "                    performances2[j,k]=training_accuracy[i]\n",
    "                    k=k+1\n",
    "\n",
    "    general_perf = np.zeros((variables,attempts))\n",
    "    general_perf2 = np.zeros((variables,attempts))\n",
    "\n",
    "    for i in range(variables):\n",
    "        for j in range(attempts):\n",
    "            general_perf[i,j]=np.mean(performances[i,j*int(iterations/a):(j+1)*int(iterations/a)])\n",
    "            general_perf2[i,j]=np.mean(performances2[i,j*int(iterations/a):(j+1)*int(iterations/a)])\n",
    "    return general_perf,general_perf2"
   ]
  },
  {
   "cell_type": "code",
   "execution_count": 6,
   "metadata": {},
   "outputs": [],
   "source": [
    "def Classifier(i,hm,optimizer,op):\n",
    "    x = Input(shape=(40,98,1))\n",
    "    x1 = (Conv2D(int(hm[0,i]),kernel_size=(40,int(hm[1,i])),activation='relu'))(x)\n",
    "    x1 = Dropout(rate=hm[8,i])(x1)\n",
    "    x1 = (MaxPooling2D(pool_size=(1,int(hm[2,i]))))(x1)\n",
    "    for j in range(int(hm[3,i])):\n",
    "        x1 = (Conv2D(int(hm[4,i]),kernel_size=(1,int(hm[5,i])),activation='relu'))(x1)\n",
    "        x1 = Dropout(rate=hm[8,i])(x1)\n",
    "        x1 = (MaxPooling2D(pool_size=(1,int(hm[6,i]))))(x1)\n",
    "    y1 = Flatten()(x1)\n",
    "    y2 = (Dense(int(hm[7,i]),activation='relu'))(y1)\n",
    "    y2 = Dropout(rate=hm[8,i])(y2)\n",
    "    y = (Dense(31,activation='softmax'))(y2)\n",
    "    classifier=Model(inputs=x,outputs=y)\n",
    "    if optimizer=='sgd':\n",
    "        if op[3]==0:\n",
    "            Optimizer=keras.optimizers.SGD(lr=0.01, momentum=0.0, decay=0.0, nesterov=False)\n",
    "        else:\n",
    "            Optimizer=keras.optimizers.SGD(lr=0.01, momentum=0.0, decay=0.0, nesterov=True)\n",
    "    elif optimizer=='rmsprop':\n",
    "        Optimizer=keras.optimizers.RMSprop(lr=0.001, rho=0.9, epsilon=None, decay=0.0)\n",
    "    elif optimizer=='adagrad':\n",
    "        Optimizer=keras.optimizers.Adagrad(lr=0.01, epsilon=None, decay=0.0)\n",
    "    elif optimizer=='adadelta':\n",
    "        Optimizer=keras.optimizers.Adagrad(lr=0.01, epsilon=None, decay=0.0)\n",
    "    elif optimizer=='adam':\n",
    "        Optimizer=keras.optimizers.Adam(lr=0.001, beta_1=0.9, beta_2=0.999, epsilon=None, decay=0.0, amsgrad=False)\n",
    "    elif optimizer=='adamax':\n",
    "        Optimizer=keras.optimizers.Adamax(lr=0.002, beta_1=0.9, beta_2=0.999, epsilon=None, decay=0.0)\n",
    "    else:\n",
    "        Optimizer=keras.optimizers.Nadam(lr=0.002, beta_1=0.9, beta_2=0.999, epsilon=None, schedule_decay=0.004)\n",
    "    classifier.compile(optimizer=Optimizer,loss='binary_crossentropy',metrics=['accuracy'])\n",
    "    return classifier"
   ]
  },
  {
   "cell_type": "code",
   "execution_count": null,
   "metadata": {},
   "outputs": [],
   "source": [
    "limits = [[4,64],[2,6],[1,2],[0,2],[2,64],[2,6],[1,2],[100,500],[0,0.5]]\n",
    "method='grid'\n",
    "rounds=4\n",
    "for r in range(rounds):\n",
    "    print (\"Round \",r+1,\" of \",rounds)\n",
    "    epochs=1\n",
    "    if r>0:\n",
    "        attempts=2\n",
    "    hm,p_values = hyperparams_initialization(attempts,variables,method,limits,r)\n",
    "\n",
    "    training_accuracy = []\n",
    "    validation_accuracy = []\n",
    "    for i in tqdm(range(iterations)):\n",
    "        classifier=Classifier(i,hm)\n",
    "        history=classifier.fit(training_set2,training_labels2,\n",
    "                               validation_data=[validation_set2,validation_labels2],\n",
    "                               epochs=epochs,batch_size=100,verbose=0)\n",
    "\n",
    "        training_accuracy.append(history.history['acc'][-1])\n",
    "        validation_accuracy.append(history.history['val_acc'][-1])\n",
    "        del classifier\n",
    "        del history\n",
    "        K.clear_session()\n",
    "    general_perf,general_perf2=extraction_performances(validation_accuracy,training_accuracy)\n",
    "    del training_accuracy\n",
    "    del validation_accuracy\n",
    "    \n",
    "    if r==0:\n",
    "        old_general_perf = general_perf\n",
    "        old_general_perf2 = general_perf2\n",
    "        temp_general_perf=general_perf\n",
    "        temp_general_perf2 = general_perf2\n",
    "    else:\n",
    "        new_p_values = []\n",
    "        for s in range(variables):\n",
    "            a = []\n",
    "            a.append(p_values[s])\n",
    "            b = []\n",
    "            b.append(temp_p_values[s])\n",
    "            c=np.concatenate((a,b),axis=1)\n",
    "            new_p_values.append(np.sort(c)[0])\n",
    "        p_values = new_p_values\n",
    "        new_values = []\n",
    "        new_values2 = []\n",
    "        for t in range(len(temp_general_perf)):\n",
    "            new_values.append(np.insert(temp_general_perf[t],indeces[t][1],general_perf[t]))\n",
    "            new_values2.append(np.insert(temp_general_perf2[t],indeces[t][1],general_perf2[t]))\n",
    "        temp_general_perf=new_values\n",
    "        temp_general_perf2=new_values2\n",
    "    \n",
    "    indeces = []\n",
    "    best_hp=[]\n",
    "    final = []\n",
    "    for i in range(variables):\n",
    "        values = []\n",
    "        index = []\n",
    "        index.append(np.argsort(temp_general_perf[i])[-1])\n",
    "        values.append(p_values[i][np.argsort(temp_general_perf[i])[-1]])\n",
    "        final.append(p_values[i][np.argsort(temp_general_perf[i])[-1]])\n",
    "        if np.argsort(temp_general_perf[i])[-1]>0:\n",
    "            values.append(p_values[i][np.argsort(temp_general_perf[i])[-1]-1])\n",
    "            index.append(np.argsort(temp_general_perf[i])[-1]-1)\n",
    "        else:\n",
    "            values.append(p_values[i][np.argsort(temp_general_perf[i])[-1]+1])\n",
    "            index.append(np.argsort(temp_general_perf[i])[-1]+1)\n",
    "        best_hp.append(np.sort(values))\n",
    "        indeces.append(np.sort(index))\n",
    "    limits = best_hp\n",
    "    temp_p_values = p_values"
   ]
  },
  {
   "cell_type": "code",
   "execution_count": null,
   "metadata": {},
   "outputs": [],
   "source": [
    "fig = make_subplots(rows=2, cols=2,subplot_titles=(\"Mean train. accuracy first round\",\n",
    "                                                   \"Mean valid accuracy first round\",\n",
    "                                                  \"Mean train accuracy last round\",\n",
    "                                                  \"Mean valid accuracy last round\"))\n",
    "y = ['#filter1','kernel1','maxpool1','#layers',\n",
    "     '#filter2','kernel2','maxpool2','fully_dim','dropout']\n",
    "x = np.linspace(0,len(temp_general_perf[0])-1,len(temp_general_perf[0]))\n",
    "Colorscale = [[0, '#FF0000'],[0.5, '#F1C40F'], [1, '#00FF00']]\n",
    "fig.add_trace(go.Heatmap(y=[y[i] for i in range(len(y))],\n",
    "                   x=[0,1],\n",
    "                   z=old_general_perf2, colorscale = Colorscale),row=1,col=1)\n",
    "fig.add_trace(go.Heatmap(y=[y[i] for i in range(len(y))],\n",
    "                   x=[0,1],\n",
    "                   z=old_general_perf,colorscale=Colorscale),row=1,col=2)\n",
    "fig.add_trace(go.Heatmap(y=[y[i] for i in range(len(y))],\n",
    "                   x=x,\n",
    "                   z=temp_general_perf2, colorscale = Colorscale),row=2,col=1)\n",
    "fig.add_trace(go.Heatmap(y=[y[i] for i in range(len(y))],\n",
    "                   x=x,\n",
    "                   z=temp_general_perf,colorscale=Colorscale),row=2,col=2)\n",
    "fig.update_layout(height=600, width=850)\n",
    "\n",
    "fig.show()"
   ]
  },
  {
   "cell_type": "code",
   "execution_count": null,
   "metadata": {},
   "outputs": [],
   "source": [
    "np.save('final',final)"
   ]
  },
  {
   "cell_type": "code",
   "execution_count": 15,
   "metadata": {},
   "outputs": [
    {
     "name": "stderr",
     "output_type": "stream",
     "text": [
      "100%|███████████████████████████████████████████████████████████████████████████████████| 7/7 [17:34<00:00, 152.80s/it]\n"
     ]
    }
   ],
   "source": [
    "test_set = test_set.reshape(-1,40,98,1)\n",
    "final = np.load('final.npy')\n",
    "best_hp = np.zeros((variables,1))\n",
    "for i in range(variables):\n",
    "    best_hp[i]=final[i]\n",
    "\n",
    "training_accuracy=[]\n",
    "validation_accuracy=[]\n",
    "test_scores=[]\n",
    "optimizers = ['sgd','rmsprop','adagrad','adadelta','adam','adamax','nadam']\n",
    "op = [[0.01,0,0,0],\n",
    "      [0.001,0.9,0,0],\n",
    "      [0.01,0,0],\n",
    "      [1,0.95,0,0],\n",
    "      [0.001,0.9,0.999,0,0,0],\n",
    "      [0.002,0.9,0.999,0,0],\n",
    "      [0.002,0.9,0.999,0,0.004]]\n",
    "\n",
    "j=0\n",
    "for optimizer in tqdm(optimizers):\n",
    "    classifier=Classifier(0,best_hp,optimizer,op[j])\n",
    "    history=classifier.fit(training_set,training_labels,\n",
    "                               validation_data=[validation_set,validation_labels],\n",
    "                               epochs=30,batch_size=100,verbose=0)\n",
    "    \n",
    "    training_accuracy.append(history.history['acc'])\n",
    "    validation_accuracy.append(history.history['val_acc'])\n",
    "    predictions = classifier.predict(test_set)\n",
    "    new_test_labels = np.zeros(test_labels.shape[0])\n",
    "    for i in range(test_labels.shape[0]):\n",
    "        new_test_labels[i]=np.argmax(test_labels[i])\n",
    "    y_pred = np.zeros(test_labels.shape[0])\n",
    "    for i in range(test_labels.shape[0]):\n",
    "        y_pred[i]=np.argmax(predictions[i])\n",
    "    score=accuracy_score(y_true=new_test_labels,y_pred=y_pred, normalize=True)\n",
    "    test_scores.append(score)\n",
    "    j+=1\n",
    "    if j<7:\n",
    "        K.clear_session()\n"
   ]
  },
  {
   "cell_type": "code",
   "execution_count": 16,
   "metadata": {},
   "outputs": [],
   "source": [
    "y = np.zeros((7,3))\n",
    "for i in range(7):\n",
    "    y[i,0]=training_accuracy[i][-1]\n",
    "    y[i,1]=validation_accuracy[i][-1]\n",
    "    y[i,2]=test_scores[i]"
   ]
  },
  {
   "cell_type": "code",
   "execution_count": 17,
   "metadata": {},
   "outputs": [
    {
     "data": {
      "image/png": "[encoded data removed]",
      "text/plain": [
       "<Figure size 864x288 with 1 Axes>"
      ]
     },
     "metadata": {
      "needs_background": "light"
     },
     "output_type": "display_data"
    },
    {
     "data": {
      "image/png": "[encoded data removed]",
      "text/plain": [
       "<Figure size 864x288 with 1 Axes>"
      ]
     },
     "metadata": {
      "needs_background": "light"
     },
     "output_type": "display_data"
    },
    {
     "data": {
      "application/vnd.plotly.v1+json": {
       "config": {
        "plotlyServerURL": "https://plot.ly"
       },
       "data": [
        {
         "name": "sgd",
         "type": "bar",
         "x": [
          "training accuracy",
          "validation accuracy",
          "test score accuracy"
         ],
         "y": [
          0.9676863251934543,
          0.9678101960641856,
          0.11330444551436367
         ]
        },
        {
         "name": "rmsprop",
         "type": "bar",
         "x": [
          "training accuracy",
          "validation accuracy",
          "test score accuracy"
         ],
         "y": [
          0.9845950918693736,
          0.987521513424849,
          0.7942545337826994
         ]
        },
        {
         "name": "adagrad",
         "type": "bar",
         "x": [
          "training accuracy",
          "validation accuracy",
          "test score accuracy"
         ],
         "y": [
          0.9862478507280568,
          0.9897186427176999,
          0.8114267372813353
         ]
        },
        {
         "name": "adadelta",
         "type": "bar",
         "x": [
          "training accuracy",
          "validation accuracy",
          "test score accuracy"
         ],
         "y": [
          0.9820586511091477,
          0.9854715419588715,
          0.7331086502969025
         ]
        },
        {
         "name": "adam",
         "type": "bar",
         "x": [
          "training accuracy",
          "validation accuracy",
          "test score accuracy"
         ],
         "y": [
          0.9889790174908404,
          0.9914006679516886,
          0.8446477290964532
         ]
        },
        {
         "name": "adamax",
         "type": "bar",
         "x": [
          "training accuracy",
          "validation accuracy",
          "test score accuracy"
         ],
         "y": [
          0.9878872529530189,
          0.9912482372261869,
          0.824265767934521
         ]
        },
        {
         "name": "nadam",
         "type": "bar",
         "x": [
          "training accuracy",
          "validation accuracy",
          "test score accuracy"
         ],
         "y": [
          0.9873023562135586,
          0.9897764648465782,
          0.8131921039961483
         ]
        }
       ],
       "layout": {
        "barmode": "group",
        "template": {
         "data": {
          "bar": [
           {
            "error_x": {
             "color": "#2a3f5f"
            },
            "error_y": {
             "color": "#2a3f5f"
            },
            "marker": {
             "line": {
              "color": "#E5ECF6",
              "width": 0.5
             }
            },
            "type": "bar"
           }
          ],
          "barpolar": [
           {
            "marker": {
             "line": {
              "color": "#E5ECF6",
              "width": 0.5
             }
            },
            "type": "barpolar"
           }
          ],
          "carpet": [
           {
            "aaxis": {
             "endlinecolor": "#2a3f5f",
             "gridcolor": "white",
             "linecolor": "white",
             "minorgridcolor": "white",
             "startlinecolor": "#2a3f5f"
            },
            "baxis": {
             "endlinecolor": "#2a3f5f",
             "gridcolor": "white",
             "linecolor": "white",
             "minorgridcolor": "white",
             "startlinecolor": "#2a3f5f"
            },
            "type": "carpet"
           }
          ],
          "choropleth": [
           {
            "colorbar": {
             "outlinewidth": 0,
             "ticks": ""
            },
            "type": "choropleth"
           }
          ],
          "contour": [
           {
            "colorbar": {
             "outlinewidth": 0,
             "ticks": ""
            },
            "colorscale": [
             [
              0,
              "#0d0887"
             ],
             [
              0.1111111111111111,
              "#46039f"
             ],
             [
              0.2222222222222222,
              "#7201a8"
             ],
             [
              0.3333333333333333,
              "#9c179e"
             ],
             [
              0.4444444444444444,
              "#bd3786"
             ],
             [
              0.5555555555555556,
              "#d8576b"
             ],
             [
              0.6666666666666666,
              "#ed7953"
             ],
             [
              0.7777777777777778,
              "#fb9f3a"
             ],
             [
              0.8888888888888888,
              "#fdca26"
             ],
             [
              1,
              "#f0f921"
             ]
            ],
            "type": "contour"
           }
          ],
          "contourcarpet": [
           {
            "colorbar": {
             "outlinewidth": 0,
             "ticks": ""
            },
            "type": "contourcarpet"
           }
          ],
          "heatmap": [
           {
            "colorbar": {
             "outlinewidth": 0,
             "ticks": ""
            },
            "colorscale": [
             [
              0,
              "#0d0887"
             ],
             [
              0.1111111111111111,
              "#46039f"
             ],
             [
              0.2222222222222222,
              "#7201a8"
             ],
             [
              0.3333333333333333,
              "#9c179e"
             ],
             [
              0.4444444444444444,
              "#bd3786"
             ],
             [
              0.5555555555555556,
              "#d8576b"
             ],
             [
              0.6666666666666666,
              "#ed7953"
             ],
             [
              0.7777777777777778,
              "#fb9f3a"
             ],
             [
              0.8888888888888888,
              "#fdca26"
             ],
             [
              1,
              "#f0f921"
             ]
            ],
            "type": "heatmap"
           }
          ],
          "heatmapgl": [
           {
            "colorbar": {
             "outlinewidth": 0,
             "ticks": ""
            },
            "colorscale": [
             [
              0,
              "#0d0887"
             ],
             [
              0.1111111111111111,
              "#46039f"
             ],
             [
              0.2222222222222222,
              "#7201a8"
             ],
             [
              0.3333333333333333,
              "#9c179e"
             ],
             [
              0.4444444444444444,
              "#bd3786"
             ],
             [
              0.5555555555555556,
              "#d8576b"
             ],
             [
              0.6666666666666666,
              "#ed7953"
             ],
             [
              0.7777777777777778,
              "#fb9f3a"
             ],
             [
              0.8888888888888888,
              "#fdca26"
             ],
             [
              1,
              "#f0f921"
             ]
            ],
            "type": "heatmapgl"
           }
          ],
          "histogram": [
           {
            "marker": {
             "colorbar": {
              "outlinewidth": 0,
              "ticks": ""
             }
            },
            "type": "histogram"
           }
          ],
          "histogram2d": [
           {
            "colorbar": {
             "outlinewidth": 0,
             "ticks": ""
            },
            "colorscale": [
             [
              0,
              "#0d0887"
             ],
             [
              0.1111111111111111,
              "#46039f"
             ],
             [
              0.2222222222222222,
              "#7201a8"
             ],
             [
              0.3333333333333333,
              "#9c179e"
             ],
             [
              0.4444444444444444,
              "#bd3786"
             ],
             [
              0.5555555555555556,
              "#d8576b"
             ],
             [
              0.6666666666666666,
              "#ed7953"
             ],
             [
              0.7777777777777778,
              "#fb9f3a"
             ],
             [
              0.8888888888888888,
              "#fdca26"
             ],
             [
              1,
              "#f0f921"
             ]
            ],
            "type": "histogram2d"
           }
          ],
          "histogram2dcontour": [
           {
            "colorbar": {
             "outlinewidth": 0,
             "ticks": ""
            },
            "colorscale": [
             [
              0,
              "#0d0887"
             ],
             [
              0.1111111111111111,
              "#46039f"
             ],
             [
              0.2222222222222222,
              "#7201a8"
             ],
             [
              0.3333333333333333,
              "#9c179e"
             ],
             [
              0.4444444444444444,
              "#bd3786"
             ],
             [
              0.5555555555555556,
              "#d8576b"
             ],
             [
              0.6666666666666666,
              "#ed7953"
             ],
             [
              0.7777777777777778,
              "#fb9f3a"
             ],
             [
              0.8888888888888888,
              "#fdca26"
             ],
             [
              1,
              "#f0f921"
             ]
            ],
            "type": "histogram2dcontour"
           }
          ],
          "mesh3d": [
           {
            "colorbar": {
             "outlinewidth": 0,
             "ticks": ""
            },
            "type": "mesh3d"
           }
          ],
          "parcoords": [
           {
            "line": {
             "colorbar": {
              "outlinewidth": 0,
              "ticks": ""
             }
            },
            "type": "parcoords"
           }
          ],
          "scatter": [
           {
            "marker": {
             "colorbar": {
              "outlinewidth": 0,
              "ticks": ""
             }
            },
            "type": "scatter"
           }
          ],
          "scatter3d": [
           {
            "line": {
             "colorbar": {
              "outlinewidth": 0,
              "ticks": ""
             }
            },
            "marker": {
             "colorbar": {
              "outlinewidth": 0,
              "ticks": ""
             }
            },
            "type": "scatter3d"
           }
          ],
          "scattercarpet": [
           {
            "marker": {
             "colorbar": {
              "outlinewidth": 0,
              "ticks": ""
             }
            },
            "type": "scattercarpet"
           }
          ],
          "scattergeo": [
           {
            "marker": {
             "colorbar": {
              "outlinewidth": 0,
              "ticks": ""
             }
            },
            "type": "scattergeo"
           }
          ],
          "scattergl": [
           {
            "marker": {
             "colorbar": {
              "outlinewidth": 0,
              "ticks": ""
             }
            },
            "type": "scattergl"
           }
          ],
          "scattermapbox": [
           {
            "marker": {
             "colorbar": {
              "outlinewidth": 0,
              "ticks": ""
             }
            },
            "type": "scattermapbox"
           }
          ],
          "scatterpolar": [
           {
            "marker": {
             "colorbar": {
              "outlinewidth": 0,
              "ticks": ""
             }
            },
            "type": "scatterpolar"
           }
          ],
          "scatterpolargl": [
           {
            "marker": {
             "colorbar": {
              "outlinewidth": 0,
              "ticks": ""
             }
            },
            "type": "scatterpolargl"
           }
          ],
          "scatterternary": [
           {
            "marker": {
             "colorbar": {
              "outlinewidth": 0,
              "ticks": ""
             }
            },
            "type": "scatterternary"
           }
          ],
          "surface": [
           {
            "colorbar": {
             "outlinewidth": 0,
             "ticks": ""
            },
            "colorscale": [
             [
              0,
              "#0d0887"
             ],
             [
              0.1111111111111111,
              "#46039f"
             ],
             [
              0.2222222222222222,
              "#7201a8"
             ],
             [
              0.3333333333333333,
              "#9c179e"
             ],
             [
              0.4444444444444444,
              "#bd3786"
             ],
             [
              0.5555555555555556,
              "#d8576b"
             ],
             [
              0.6666666666666666,
              "#ed7953"
             ],
             [
              0.7777777777777778,
              "#fb9f3a"
             ],
             [
              0.8888888888888888,
              "#fdca26"
             ],
             [
              1,
              "#f0f921"
             ]
            ],
            "type": "surface"
           }
          ],
          "table": [
           {
            "cells": {
             "fill": {
              "color": "#EBF0F8"
             },
             "line": {
              "color": "white"
             }
            },
            "header": {
             "fill": {
              "color": "#C8D4E3"
             },
             "line": {
              "color": "white"
             }
            },
            "type": "table"
           }
          ]
         },
         "layout": {
          "annotationdefaults": {
           "arrowcolor": "#2a3f5f",
           "arrowhead": 0,
           "arrowwidth": 1
          },
          "colorscale": {
           "diverging": [
            [
             0,
             "#8e0152"
            ],
            [
             0.1,
             "#c51b7d"
            ],
            [
             0.2,
             "#de77ae"
            ],
            [
             0.3,
             "#f1b6da"
            ],
            [
             0.4,
             "#fde0ef"
            ],
            [
             0.5,
             "#f7f7f7"
            ],
            [
             0.6,
             "#e6f5d0"
            ],
            [
             0.7,
             "#b8e186"
            ],
            [
             0.8,
             "#7fbc41"
            ],
            [
             0.9,
             "#4d9221"
            ],
            [
             1,
             "#276419"
            ]
           ],
           "sequential": [
            [
             0,
             "#0d0887"
            ],
            [
             0.1111111111111111,
             "#46039f"
            ],
            [
             0.2222222222222222,
             "#7201a8"
            ],
            [
             0.3333333333333333,
             "#9c179e"
            ],
            [
             0.4444444444444444,
             "#bd3786"
            ],
            [
             0.5555555555555556,
             "#d8576b"
            ],
            [
             0.6666666666666666,
             "#ed7953"
            ],
            [
             0.7777777777777778,
             "#fb9f3a"
            ],
            [
             0.8888888888888888,
             "#fdca26"
            ],
            [
             1,
             "#f0f921"
            ]
           ],
           "sequentialminus": [
            [
             0,
             "#0d0887"
            ],
            [
             0.1111111111111111,
             "#46039f"
            ],
            [
             0.2222222222222222,
             "#7201a8"
            ],
            [
             0.3333333333333333,
             "#9c179e"
            ],
            [
             0.4444444444444444,
             "#bd3786"
            ],
            [
             0.5555555555555556,
             "#d8576b"
            ],
            [
             0.6666666666666666,
             "#ed7953"
            ],
            [
             0.7777777777777778,
             "#fb9f3a"
            ],
            [
             0.8888888888888888,
             "#fdca26"
            ],
            [
             1,
             "#f0f921"
            ]
           ]
          },
          "colorway": [
           "#636efa",
           "#EF553B",
           "#00cc96",
           "#ab63fa",
           "#FFA15A",
           "#19d3f3",
           "#FF6692",
           "#B6E880",
           "#FF97FF",
           "#FECB52"
          ],
          "font": {
           "color": "#2a3f5f"
          },
          "geo": {
           "bgcolor": "white",
           "lakecolor": "white",
           "landcolor": "#E5ECF6",
           "showlakes": true,
           "showland": true,
           "subunitcolor": "white"
          },
          "hoverlabel": {
           "align": "left"
          },
          "hovermode": "closest",
          "mapbox": {
           "style": "light"
          },
          "paper_bgcolor": "white",
          "plot_bgcolor": "#E5ECF6",
          "polar": {
           "angularaxis": {
            "gridcolor": "white",
            "linecolor": "white",
            "ticks": ""
           },
           "bgcolor": "#E5ECF6",
           "radialaxis": {
            "gridcolor": "white",
            "linecolor": "white",
            "ticks": ""
           }
          },
          "scene": {
           "xaxis": {
            "backgroundcolor": "#E5ECF6",
            "gridcolor": "white",
            "gridwidth": 2,
            "linecolor": "white",
            "showbackground": true,
            "ticks": "",
            "zerolinecolor": "white"
           },
           "yaxis": {
            "backgroundcolor": "#E5ECF6",
            "gridcolor": "white",
            "gridwidth": 2,
            "linecolor": "white",
            "showbackground": true,
            "ticks": "",
            "zerolinecolor": "white"
           },
           "zaxis": {
            "backgroundcolor": "#E5ECF6",
            "gridcolor": "white",
            "gridwidth": 2,
            "linecolor": "white",
            "showbackground": true,
            "ticks": "",
            "zerolinecolor": "white"
           }
          },
          "shapedefaults": {
           "line": {
            "color": "#2a3f5f"
           }
          },
          "ternary": {
           "aaxis": {
            "gridcolor": "white",
            "linecolor": "white",
            "ticks": ""
           },
           "baxis": {
            "gridcolor": "white",
            "linecolor": "white",
            "ticks": ""
           },
           "bgcolor": "#E5ECF6",
           "caxis": {
            "gridcolor": "white",
            "linecolor": "white",
            "ticks": ""
           }
          },
          "title": {
           "x": 0.05
          },
          "xaxis": {
           "automargin": true,
           "gridcolor": "white",
           "linecolor": "white",
           "ticks": "",
           "zerolinecolor": "white",
           "zerolinewidth": 2
          },
          "yaxis": {
           "automargin": true,
           "gridcolor": "white",
           "linecolor": "white",
           "ticks": "",
           "zerolinecolor": "white",
           "zerolinewidth": 2
          }
         }
        }
       }
      },
      "text/html": [
       "<div>\n",
       "        \n",
       "        \n",
       "            <div id=\"9bb1ee0b-275b-4707-878e-690d9500664f\" class=\"plotly-graph-div\" style=\"height:525px; width:100%;\"></div>\n",
       "            <script type=\"text/javascript\">\n",
       "                require([\"plotly\"], function(Plotly) {\n",
       "                    window.PLOTLYENV=window.PLOTLYENV || {};\n",
       "                    \n",
       "                if (document.getElementById(\"9bb1ee0b-275b-4707-878e-690d9500664f\")) {\n",
       "                    Plotly.newPlot(\n",
       "                        '9bb1ee0b-275b-4707-878e-690d9500664f',\n",
       "                        [{\"name\": \"sgd\", \"type\": \"bar\", \"x\": [\"training accuracy\", \"validation accuracy\", \"test score accuracy\"], \"y\": [0.9676863251934543, 0.9678101960641856, 0.11330444551436367]}, {\"name\": \"rmsprop\", \"type\": \"bar\", \"x\": [\"training accuracy\", \"validation accuracy\", \"test score accuracy\"], \"y\": [0.9845950918693736, 0.987521513424849, 0.7942545337826994]}, {\"name\": \"adagrad\", \"type\": \"bar\", \"x\": [\"training accuracy\", \"validation accuracy\", \"test score accuracy\"], \"y\": [0.9862478507280568, 0.9897186427176999, 0.8114267372813353]}, {\"name\": \"adadelta\", \"type\": \"bar\", \"x\": [\"training accuracy\", \"validation accuracy\", \"test score accuracy\"], \"y\": [0.9820586511091477, 0.9854715419588715, 0.7331086502969025]}, {\"name\": \"adam\", \"type\": \"bar\", \"x\": [\"training accuracy\", \"validation accuracy\", \"test score accuracy\"], \"y\": [0.9889790174908404, 0.9914006679516886, 0.8446477290964532]}, {\"name\": \"adamax\", \"type\": \"bar\", \"x\": [\"training accuracy\", \"validation accuracy\", \"test score accuracy\"], \"y\": [0.9878872529530189, 0.9912482372261869, 0.824265767934521]}, {\"name\": \"nadam\", \"type\": \"bar\", \"x\": [\"training accuracy\", \"validation accuracy\", \"test score accuracy\"], \"y\": [0.9873023562135586, 0.9897764648465782, 0.8131921039961483]}],\n",
       "                        {\"barmode\": \"group\", \"template\": {\"data\": {\"bar\": [{\"error_x\": {\"color\": \"#2a3f5f\"}, \"error_y\": {\"color\": \"#2a3f5f\"}, \"marker\": {\"line\": {\"color\": \"#E5ECF6\", \"width\": 0.5}}, \"type\": \"bar\"}], \"barpolar\": [{\"marker\": {\"line\": {\"color\": \"#E5ECF6\", \"width\": 0.5}}, \"type\": \"barpolar\"}], \"carpet\": [{\"aaxis\": {\"endlinecolor\": \"#2a3f5f\", \"gridcolor\": \"white\", \"linecolor\": \"white\", \"minorgridcolor\": \"white\", \"startlinecolor\": \"#2a3f5f\"}, \"baxis\": {\"endlinecolor\": \"#2a3f5f\", \"gridcolor\": \"white\", \"linecolor\": \"white\", \"minorgridcolor\": \"white\", \"startlinecolor\": \"#2a3f5f\"}, \"type\": \"carpet\"}], \"choropleth\": [{\"colorbar\": {\"outlinewidth\": 0, \"ticks\": \"\"}, \"type\": \"choropleth\"}], \"contour\": [{\"colorbar\": {\"outlinewidth\": 0, \"ticks\": \"\"}, \"colorscale\": [[0.0, \"#0d0887\"], [0.1111111111111111, \"#46039f\"], [0.2222222222222222, \"#7201a8\"], [0.3333333333333333, \"#9c179e\"], [0.4444444444444444, \"#bd3786\"], [0.5555555555555556, \"#d8576b\"], [0.6666666666666666, \"#ed7953\"], [0.7777777777777778, \"#fb9f3a\"], [0.8888888888888888, \"#fdca26\"], [1.0, \"#f0f921\"]], \"type\": \"contour\"}], \"contourcarpet\": [{\"colorbar\": {\"outlinewidth\": 0, \"ticks\": \"\"}, \"type\": \"contourcarpet\"}], \"heatmap\": [{\"colorbar\": {\"outlinewidth\": 0, \"ticks\": \"\"}, \"colorscale\": [[0.0, \"#0d0887\"], [0.1111111111111111, \"#46039f\"], [0.2222222222222222, \"#7201a8\"], [0.3333333333333333, \"#9c179e\"], [0.4444444444444444, \"#bd3786\"], [0.5555555555555556, \"#d8576b\"], [0.6666666666666666, \"#ed7953\"], [0.7777777777777778, \"#fb9f3a\"], [0.8888888888888888, \"#fdca26\"], [1.0, \"#f0f921\"]], \"type\": \"heatmap\"}], \"heatmapgl\": [{\"colorbar\": {\"outlinewidth\": 0, \"ticks\": \"\"}, \"colorscale\": [[0.0, \"#0d0887\"], [0.1111111111111111, \"#46039f\"], [0.2222222222222222, \"#7201a8\"], [0.3333333333333333, \"#9c179e\"], [0.4444444444444444, \"#bd3786\"], [0.5555555555555556, \"#d8576b\"], [0.6666666666666666, \"#ed7953\"], [0.7777777777777778, \"#fb9f3a\"], [0.8888888888888888, \"#fdca26\"], [1.0, \"#f0f921\"]], \"type\": \"heatmapgl\"}], \"histogram\": [{\"marker\": {\"colorbar\": {\"outlinewidth\": 0, \"ticks\": \"\"}}, \"type\": \"histogram\"}], \"histogram2d\": [{\"colorbar\": {\"outlinewidth\": 0, \"ticks\": \"\"}, \"colorscale\": [[0.0, \"#0d0887\"], [0.1111111111111111, \"#46039f\"], [0.2222222222222222, \"#7201a8\"], [0.3333333333333333, \"#9c179e\"], [0.4444444444444444, \"#bd3786\"], [0.5555555555555556, \"#d8576b\"], [0.6666666666666666, \"#ed7953\"], [0.7777777777777778, \"#fb9f3a\"], [0.8888888888888888, \"#fdca26\"], [1.0, \"#f0f921\"]], \"type\": \"histogram2d\"}], \"histogram2dcontour\": [{\"colorbar\": {\"outlinewidth\": 0, \"ticks\": \"\"}, \"colorscale\": [[0.0, \"#0d0887\"], [0.1111111111111111, \"#46039f\"], [0.2222222222222222, \"#7201a8\"], [0.3333333333333333, \"#9c179e\"], [0.4444444444444444, \"#bd3786\"], [0.5555555555555556, \"#d8576b\"], [0.6666666666666666, \"#ed7953\"], [0.7777777777777778, \"#fb9f3a\"], [0.8888888888888888, \"#fdca26\"], [1.0, \"#f0f921\"]], \"type\": \"histogram2dcontour\"}], \"mesh3d\": [{\"colorbar\": {\"outlinewidth\": 0, \"ticks\": \"\"}, \"type\": \"mesh3d\"}], \"parcoords\": [{\"line\": {\"colorbar\": {\"outlinewidth\": 0, \"ticks\": \"\"}}, \"type\": \"parcoords\"}], \"scatter\": [{\"marker\": {\"colorbar\": {\"outlinewidth\": 0, \"ticks\": \"\"}}, \"type\": \"scatter\"}], \"scatter3d\": [{\"line\": {\"colorbar\": {\"outlinewidth\": 0, \"ticks\": \"\"}}, \"marker\": {\"colorbar\": {\"outlinewidth\": 0, \"ticks\": \"\"}}, \"type\": \"scatter3d\"}], \"scattercarpet\": [{\"marker\": {\"colorbar\": {\"outlinewidth\": 0, \"ticks\": \"\"}}, \"type\": \"scattercarpet\"}], \"scattergeo\": [{\"marker\": {\"colorbar\": {\"outlinewidth\": 0, \"ticks\": \"\"}}, \"type\": \"scattergeo\"}], \"scattergl\": [{\"marker\": {\"colorbar\": {\"outlinewidth\": 0, \"ticks\": \"\"}}, \"type\": \"scattergl\"}], \"scattermapbox\": [{\"marker\": {\"colorbar\": {\"outlinewidth\": 0, \"ticks\": \"\"}}, \"type\": \"scattermapbox\"}], \"scatterpolar\": [{\"marker\": {\"colorbar\": {\"outlinewidth\": 0, \"ticks\": \"\"}}, \"type\": \"scatterpolar\"}], \"scatterpolargl\": [{\"marker\": {\"colorbar\": {\"outlinewidth\": 0, \"ticks\": \"\"}}, \"type\": \"scatterpolargl\"}], \"scatterternary\": [{\"marker\": {\"colorbar\": {\"outlinewidth\": 0, \"ticks\": \"\"}}, \"type\": \"scatterternary\"}], \"surface\": [{\"colorbar\": {\"outlinewidth\": 0, \"ticks\": \"\"}, \"colorscale\": [[0.0, \"#0d0887\"], [0.1111111111111111, \"#46039f\"], [0.2222222222222222, \"#7201a8\"], [0.3333333333333333, \"#9c179e\"], [0.4444444444444444, \"#bd3786\"], [0.5555555555555556, \"#d8576b\"], [0.6666666666666666, \"#ed7953\"], [0.7777777777777778, \"#fb9f3a\"], [0.8888888888888888, \"#fdca26\"], [1.0, \"#f0f921\"]], \"type\": \"surface\"}], \"table\": [{\"cells\": {\"fill\": {\"color\": \"#EBF0F8\"}, \"line\": {\"color\": \"white\"}}, \"header\": {\"fill\": {\"color\": \"#C8D4E3\"}, \"line\": {\"color\": \"white\"}}, \"type\": \"table\"}]}, \"layout\": {\"annotationdefaults\": {\"arrowcolor\": \"#2a3f5f\", \"arrowhead\": 0, \"arrowwidth\": 1}, \"colorscale\": {\"diverging\": [[0, \"#8e0152\"], [0.1, \"#c51b7d\"], [0.2, \"#de77ae\"], [0.3, \"#f1b6da\"], [0.4, \"#fde0ef\"], [0.5, \"#f7f7f7\"], [0.6, \"#e6f5d0\"], [0.7, \"#b8e186\"], [0.8, \"#7fbc41\"], [0.9, \"#4d9221\"], [1, \"#276419\"]], \"sequential\": [[0.0, \"#0d0887\"], [0.1111111111111111, \"#46039f\"], [0.2222222222222222, \"#7201a8\"], [0.3333333333333333, \"#9c179e\"], [0.4444444444444444, \"#bd3786\"], [0.5555555555555556, \"#d8576b\"], [0.6666666666666666, \"#ed7953\"], [0.7777777777777778, \"#fb9f3a\"], [0.8888888888888888, \"#fdca26\"], [1.0, \"#f0f921\"]], \"sequentialminus\": [[0.0, \"#0d0887\"], [0.1111111111111111, \"#46039f\"], [0.2222222222222222, \"#7201a8\"], [0.3333333333333333, \"#9c179e\"], [0.4444444444444444, \"#bd3786\"], [0.5555555555555556, \"#d8576b\"], [0.6666666666666666, \"#ed7953\"], [0.7777777777777778, \"#fb9f3a\"], [0.8888888888888888, \"#fdca26\"], [1.0, \"#f0f921\"]]}, \"colorway\": [\"#636efa\", \"#EF553B\", \"#00cc96\", \"#ab63fa\", \"#FFA15A\", \"#19d3f3\", \"#FF6692\", \"#B6E880\", \"#FF97FF\", \"#FECB52\"], \"font\": {\"color\": \"#2a3f5f\"}, \"geo\": {\"bgcolor\": \"white\", \"lakecolor\": \"white\", \"landcolor\": \"#E5ECF6\", \"showlakes\": true, \"showland\": true, \"subunitcolor\": \"white\"}, \"hoverlabel\": {\"align\": \"left\"}, \"hovermode\": \"closest\", \"mapbox\": {\"style\": \"light\"}, \"paper_bgcolor\": \"white\", \"plot_bgcolor\": \"#E5ECF6\", \"polar\": {\"angularaxis\": {\"gridcolor\": \"white\", \"linecolor\": \"white\", \"ticks\": \"\"}, \"bgcolor\": \"#E5ECF6\", \"radialaxis\": {\"gridcolor\": \"white\", \"linecolor\": \"white\", \"ticks\": \"\"}}, \"scene\": {\"xaxis\": {\"backgroundcolor\": \"#E5ECF6\", \"gridcolor\": \"white\", \"gridwidth\": 2, \"linecolor\": \"white\", \"showbackground\": true, \"ticks\": \"\", \"zerolinecolor\": \"white\"}, \"yaxis\": {\"backgroundcolor\": \"#E5ECF6\", \"gridcolor\": \"white\", \"gridwidth\": 2, \"linecolor\": \"white\", \"showbackground\": true, \"ticks\": \"\", \"zerolinecolor\": \"white\"}, \"zaxis\": {\"backgroundcolor\": \"#E5ECF6\", \"gridcolor\": \"white\", \"gridwidth\": 2, \"linecolor\": \"white\", \"showbackground\": true, \"ticks\": \"\", \"zerolinecolor\": \"white\"}}, \"shapedefaults\": {\"line\": {\"color\": \"#2a3f5f\"}}, \"ternary\": {\"aaxis\": {\"gridcolor\": \"white\", \"linecolor\": \"white\", \"ticks\": \"\"}, \"baxis\": {\"gridcolor\": \"white\", \"linecolor\": \"white\", \"ticks\": \"\"}, \"bgcolor\": \"#E5ECF6\", \"caxis\": {\"gridcolor\": \"white\", \"linecolor\": \"white\", \"ticks\": \"\"}}, \"title\": {\"x\": 0.05}, \"xaxis\": {\"automargin\": true, \"gridcolor\": \"white\", \"linecolor\": \"white\", \"ticks\": \"\", \"zerolinecolor\": \"white\", \"zerolinewidth\": 2}, \"yaxis\": {\"automargin\": true, \"gridcolor\": \"white\", \"linecolor\": \"white\", \"ticks\": \"\", \"zerolinecolor\": \"white\", \"zerolinewidth\": 2}}}},\n",
       "                        {\"responsive\": true}\n",
       "                    ).then(function(){\n",
       "                            \n",
       "var gd = document.getElementById('9bb1ee0b-275b-4707-878e-690d9500664f');\n",
       "var x = new MutationObserver(function (mutations, observer) {{\n",
       "        var display = window.getComputedStyle(gd).display;\n",
       "        if (!display || display === 'none') {{\n",
       "            console.log([gd, 'removed!']);\n",
       "            Plotly.purge(gd);\n",
       "            observer.disconnect();\n",
       "        }}\n",
       "}});\n",
       "\n",
       "// Listen for the removal of the full notebook cells\n",
       "var notebookContainer = gd.closest('#notebook-container');\n",
       "if (notebookContainer) {{\n",
       "    x.observe(notebookContainer, {childList: true});\n",
       "}}\n",
       "\n",
       "// Listen for the clearing of the current output cell\n",
       "var outputEl = gd.closest('.output');\n",
       "if (outputEl) {{\n",
       "    x.observe(outputEl, {childList: true});\n",
       "}}\n",
       "\n",
       "                        })\n",
       "                };\n",
       "                });\n",
       "            </script>\n",
       "        </div>"
      ]
     },
     "metadata": {},
     "output_type": "display_data"
    }
   ],
   "source": [
    "plt.figure(figsize=(12,4))\n",
    "for i in range(len(optimizers)):\n",
    "    plt.plot(training_accuracy[i]) \n",
    "plt.title('Training accuracy')\n",
    "plt.xlabel('Epochs')\n",
    "plt.ylabel('Accuracy')\n",
    "plt.legend(optimizers)\n",
    "plt.show()\n",
    "\n",
    "plt.figure(figsize=(12,4))\n",
    "for i in range(len(optimizers)):\n",
    "    plt.plot(validation_accuracy[i]) \n",
    "plt.title('Validation accuracy')\n",
    "plt.xlabel('Epochs')\n",
    "plt.ylabel('Accuracy')\n",
    "plt.legend(optimizers)\n",
    "plt.show()\n",
    "\n",
    "scores=['training accuracy', 'validation accuracy', 'test score accuracy']\n",
    "fig = go.Figure(data=[go.Bar(name='sgd', x=scores, y=y[0]),\n",
    "                      go.Bar(name='rmsprop', x=scores, y=y[1]),\n",
    "                      go.Bar(name='adagrad', x=scores, y=y[2]),\n",
    "                      go.Bar(name='adadelta', x=scores, y=y[3]),\n",
    "                      go.Bar(name='adam', x=scores, y=y[4]),\n",
    "                      go.Bar(name='adamax', x=scores, y=y[5]),\n",
    "                      go.Bar(name='nadam', x=scores, y=y[6]),])\n",
    "fig.update_layout(barmode='group')\n",
    "fig.show()"
   ]
  },
  {
   "cell_type": "markdown",
   "metadata": {},
   "source": [
    "Confusion matrix"
   ]
  },
  {
   "cell_type": "code",
   "execution_count": 14,
   "metadata": {},
   "outputs": [
    {
     "data": {
      "image/png": "[encoded data removed]",
      "text/plain": [
       "<Figure size 432x432 with 2 Axes>"
      ]
     },
     "metadata": {
      "needs_background": "light"
     },
     "output_type": "display_data"
    }
   ],
   "source": [
    "cm = confusion_matrix(y_true=new_test_labels,y_pred=y_pred)\n",
    "cm = cm.astype('float') / cm.sum(axis=1)[:, np.newaxis]\n",
    "plt.figure(figsize=(6,6))\n",
    "plt.imshow(cm,interpolation='nearest',cmap=plt.cm.jet)\n",
    "plt.tight_layout()\n",
    "plt.colorbar()\n",
    "tick_marks = np.arange(31)\n",
    "plt.xticks(tick_marks,words_name,rotation=90)\n",
    "plt.yticks(tick_marks,words_name)\n",
    "plt.xlabel('Predicted')\n",
    "plt.ylabel('True')\n",
    "plt.title('Confusion matrix')\n",
    "plt.show()\n"
   ]
  },
  {
   "cell_type": "code",
   "execution_count": 13,
   "metadata": {},
   "outputs": [
    {
     "name": "stdout",
     "output_type": "stream",
     "text": [
      "down/6205088b_nohash_0.wav\n",
      "\n"
     ]
    },
    {
     "data": {
      "image/png": "[encoded data removed]",
      "text/plain": [
       "<Figure size 1008x288 with 1 Axes>"
      ]
     },
     "metadata": {
      "needs_background": "light"
     },
     "output_type": "display_data"
    }
   ],
   "source": [
    "num_lines = sum(1 for line in open('testing_list.txt'))\n",
    "number = np.random.randint(num_lines)\n",
    "count = 0\n",
    "for line in open('testing_list.txt'):\n",
    "    if count==number:\n",
    "        audio = line\n",
    "    count+=1\n",
    "print (audio)\n",
    "fs, signal = wavfile.read('./audio_files/'+audio[0:-1])\n",
    "winsound.PlaySound('./audio_files/'+audio, winsound.SND_FILENAME)\n",
    "filter_bank,length=creation_filterbank(fs,signal)\n",
    "audio_signal=np.zeros((1,40,98,1))\n",
    "audio_signal[0,:,:,0]=filter_bank.T\n",
    "\n",
    "plt.figure(figsize=(14,4))\n",
    "plt.bar(words_name,classifier.predict(audio_signal)[0])\n",
    "plt.title('Probability distribution per class')\n",
    "plt.xlabel('Class')\n",
    "plt.ylabel('Probability')\n",
    "plt.xticks(rotation=90)\n",
    "plt.show()"
   ]
  },
  {
   "cell_type": "code",
   "execution_count": null,
   "metadata": {},
   "outputs": [],
   "source": []
  }
 ],
 "metadata": {
  "kernelspec": {
   "display_name": "Python 3",
   "language": "python",
   "name": "python3"
  },
  "language_info": {
   "codemirror_mode": {
    "name": "ipython",
    "version": 3
   },
   "file_extension": ".py",
   "mimetype": "text/x-python",
   "name": "python",
   "nbconvert_exporter": "python",
   "pygments_lexer": "ipython3",
   "version": "3.7.3"
  }
 },
 "nbformat": 4,
 "nbformat_minor": 2
}
