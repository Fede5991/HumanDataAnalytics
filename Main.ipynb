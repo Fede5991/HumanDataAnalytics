{
 "cells": [
  {
   "cell_type": "markdown",
   "metadata": {},
   "source": [
    "# Keyword detection in a phrase - Sample code"
   ]
  },
  {
   "cell_type": "code",
   "execution_count": 1,
   "metadata": {},
   "outputs": [
    {
     "name": "stderr",
     "output_type": "stream",
     "text": [
      "Using TensorFlow backend.\n"
     ]
    }
   ],
   "source": [
    "import sounddevice as sd\n",
    "import numpy as np\n",
    "from python_speech_features import logfbank, delta, ssc, mfcc\n",
    "import operator\n",
    "import models\n",
    "import matplotlib.pyplot as plt\n",
    "from scipy.io import wavfile"
   ]
  },
  {
   "cell_type": "markdown",
   "metadata": {},
   "source": [
    "### Different ways to input the audio\n",
    "#### Recording from the microphone"
   ]
  },
  {
   "cell_type": "code",
   "execution_count": null,
   "metadata": {},
   "outputs": [],
   "source": [
    "fs = 16000\n",
    "seconds = 10\n",
    "\n",
    "myrec = sd.rec(int(fs*seconds), samplerate=fs, channels=1)\n",
    "sd.wait()"
   ]
  },
  {
   "cell_type": "markdown",
   "metadata": {},
   "source": [
    "#### Reading it from a numpy array"
   ]
  },
  {
   "cell_type": "code",
   "execution_count": 2,
   "metadata": {},
   "outputs": [],
   "source": [
    "fs = 16000\n",
    "myrec = np.load(\"myrec.npy\")"
   ]
  },
  {
   "cell_type": "markdown",
   "metadata": {},
   "source": [
    "#### Reading it from a wav file"
   ]
  },
  {
   "cell_type": "code",
   "execution_count": null,
   "metadata": {},
   "outputs": [],
   "source": [
    "fs, myrec = wavfile.read(\"fede2.wav\")"
   ]
  },
  {
   "cell_type": "markdown",
   "metadata": {},
   "source": [
    "#### Some information about it"
   ]
  },
  {
   "cell_type": "code",
   "execution_count": 3,
   "metadata": {},
   "outputs": [
    {
     "name": "stdout",
     "output_type": "stream",
     "text": [
      "Frequency sampling Fs = 16000 samples/s\n",
      "Duration t = 10.0 s\n"
     ]
    },
    {
     "data": {
      "image/png": "[encoded data removed]",
      "text/plain": [
       "<Figure size 1080x576 with 1 Axes>"
      ]
     },
     "metadata": {
      "needs_background": "light"
     },
     "output_type": "display_data"
    }
   ],
   "source": [
    "play = False\n",
    "\n",
    "print(\"Frequency sampling Fs = \" + str(fs) + \" samples/s\")\n",
    "print(\"Duration t = \" + str(len(myrec) / fs) + \" s\")\n",
    "\n",
    "# Play it\n",
    "if play:\n",
    "    sd.play(myrec, fs)\n",
    "    \n",
    "# Plot\n",
    "plt.figure(figsize=(15, 8))\n",
    "plt.plot(myrec)\n",
    "plt.xlabel(\"Samples\")\n",
    "plt.ylabel(\"Intensity\")\n",
    "plt.xlim(0, len(myrec))\n",
    "plt.show()"
   ]
  },
  {
   "cell_type": "markdown",
   "metadata": {},
   "source": [
    "### Settings and model initialization"
   ]
  },
  {
   "cell_type": "code",
   "execution_count": 4,
   "metadata": {},
   "outputs": [
    {
     "name": "stdout",
     "output_type": "stream",
     "text": [
      "WARNING:tensorflow:From C:\\Users\\simoc\\Anaconda2\\envs\\prova\\lib\\site-packages\\tensorflow\\python\\framework\\op_def_library.py:263: colocate_with (from tensorflow.python.framework.ops) is deprecated and will be removed in a future version.\n",
      "Instructions for updating:\n",
      "Colocations handled automatically by placer.\n"
     ]
    }
   ],
   "source": [
    "feature = \"filter_banks\"\n",
    "dataset = \"1567874784415\"\n",
    "\n",
    "if feature == \"filter_banks\":\n",
    "    input_size = (40, 98)\n",
    "elif feature == \"mfcc\":\n",
    "    input_size = (12, 98)\n",
    "elif feature == \"mfcc_deltas\":\n",
    "    input_size = (36, 98)\n",
    "    \n",
    "if dataset == \"1567874784415\":\n",
    "    output_size = 31\n",
    "elif dataset == \"1567795202120\":\n",
    "    output_size = 5\n",
    "\n",
    "classifier=models.CNNLSTMAttention(input_size, output_size, \"radam\")\n",
    "classifier.load_weights(\"./results/\" + dataset + \"/Attention/\" + feature + \"/1/best_model_radam.h5\")"
   ]
  },
  {
   "cell_type": "markdown",
   "metadata": {},
   "source": [
    "### Windowing\n",
    "We now create windows of duration 1 second across all the signal and compute the wanted feature. Then, for every feature computed from the windows, we gave it as input to the network for the prediction "
   ]
  },
  {
   "cell_type": "code",
   "execution_count": 8,
   "metadata": {},
   "outputs": [
    {
     "name": "stdout",
     "output_type": "stream",
     "text": [
      "(361, 40, 98, 1)\n"
     ]
    }
   ],
   "source": [
    "offset = 400\n",
    "frame_size = 16000\n",
    "current_start = 0\n",
    "i = 0\n",
    "samples = []\n",
    "range_samples = []\n",
    "\n",
    "while (current_start + frame_size <= len(myrec)):\n",
    "    i += 1\n",
    "    #print(i, current_start, \";\", (frame_size + current_start))\n",
    "    samples.append(myrec[current_start:frame_size + current_start])\n",
    "    range_samples.append((current_start, frame_size + current_start))\n",
    "    current_start += offset\n",
    "    \n",
    "t = []\n",
    "for s in samples:\n",
    "    if feature == \"filter_banks\":\n",
    "        fb = np.array(logfbank(s, fs, winlen=0.025, winstep=0.01, nfilt=40, nfft=400, preemph=0.97))\n",
    "    elif feature == \"mfcc\":\n",
    "        fb = np.array(mfcc(s, fs, winlen=0.025, winstep=0.01, nfilt=40, nfft=400, preemph=0.97, numcep=12, ceplifter=22))\n",
    "    fb = fb[:-1, :].T\n",
    "    fb -= (np.mean(fb, axis=0) + 1e-8)\n",
    "    t.append(fb)\n",
    "    \n",
    "t = np.array(t)\n",
    "t = t.reshape(-1,input_size[0], input_size[1] ,1)\n",
    "print(t.shape)\n",
    "\n",
    "p = classifier.predict(t)\n",
    "\n",
    "words_name = [\"bed\", \"bird\", \"cat\", \"dog\", \"down\", \"fight\", \"five\", \"four\", \"go\", \"happy\",\n",
    "             \"house\", \"left\", \"marvin\", \"nine\", \"no\", \"off\", \"on\", \"one\", \"right\", \"seven\",\n",
    "             \"sheila\", \"silence\", \"six\", \"stop\", \"three\", \"tree\", \"two\", \"up\", \"wow\", \"yes\", \"zero\"]\n",
    "\n",
    "output_frames = []\n",
    "probabilties_frames = []\n",
    "\n",
    "for pred in p:\n",
    "    max_index = np.argmax(pred)\n",
    "    prob = round((pred[max_index] * 100), 2)\n",
    "    probabilties_frames.append(prob)\n",
    "    if words_name[max_index] == \"silence\":\n",
    "        #print(\"'\" + words_name[max_index] + \"' with probability \" + str(prob) + \"%\")\n",
    "        output_frames.append(\"-\")\n",
    "    else:\n",
    "        if prob > 70:\n",
    "            output_frames.append(words_name[max_index])\n",
    "            #print(\"'\" + words_name[max_index] + \"' with probability \" + str(prob) + \"%\")\n",
    "        else:\n",
    "            output_frames.append(\"-\")\n",
    "            "
   ]
  },
  {
   "cell_type": "code",
   "execution_count": 9,
   "metadata": {},
   "outputs": [],
   "source": [
    "keywords_samples = []\n",
    "keywords_position = []\n",
    "keywords_classification = []\n",
    "k_d = {}\n",
    "p_d = {}\n",
    "\n",
    "count = 0\n",
    "for i in range(len(output_frames)):\n",
    "    if count == 0:\n",
    "        if output_frames[i] != \"-\":\n",
    "            initial_window = i\n",
    "            count += 1\n",
    "            k_d[output_frames[i]] = 1\n",
    "            p_d[output_frames[i]] = probabilties_frames[i]\n",
    "            \n",
    "    else:\n",
    "        if output_frames[i] != \"-\":\n",
    "            count += 1\n",
    "            if output_frames[i] in k_d:\n",
    "                k_d[output_frames[i]] += 1\n",
    "                p_d[output_frames[i]] = (p_d[output_frames[i]] + probabilties_frames[i]) / 2\n",
    "            else:\n",
    "                k_d[output_frames[i]] = 1\n",
    "                p_d[output_frames[i]] = probabilties_frames[i]\n",
    "        else:\n",
    "            if count > 10:\n",
    "                final_window = i\n",
    "                #print (\"Keyword from window \" + str(range_samples[initial_window][0]) + \" to \" + str(range_samples[final_window][1]))\n",
    "                keyword = myrec[range_samples[initial_window][0]: range_samples[final_window][1]]\n",
    "                x = list(range(range_samples[initial_window][0], range_samples[final_window][1]))\n",
    "                keywords_samples.append(keyword)\n",
    "                keywords_position.append(x)\n",
    "                mvk_c = max(k_d.items(), key=operator.itemgetter(1))[0]\n",
    "                mvk_p = max(p_d.items(), key=operator.itemgetter(1))[0]\n",
    "                if mvk_c == mvk_p:\n",
    "                    keywords_classification.append(mvk_c)\n",
    "                else:\n",
    "                    if (p_d[mvk_p] - p_d[mvk_c]) > 4:\n",
    "                        keywords_classification.append(mvk_c)\n",
    "                    else:\n",
    "                        keywords_classification.append(mvk_c + \" or \" + mvk_p)\n",
    "                \n",
    "                count = 0\n",
    "                k_d = {}\n",
    "                p_d = {}\n",
    "            else:\n",
    "                initial_window = i\n",
    "                count = 0\n",
    "                k_d = {}\n",
    "                p_d = {}\n",
    "                "
   ]
  },
  {
   "cell_type": "markdown",
   "metadata": {},
   "source": [
    "### Final output"
   ]
  },
  {
   "cell_type": "code",
   "execution_count": 10,
   "metadata": {},
   "outputs": [
    {
     "data": {
      "image/png": "[encoded data removed]",
      "text/plain": [
       "<Figure size 1080x576 with 1 Axes>"
      ]
     },
     "metadata": {
      "needs_background": "light"
     },
     "output_type": "display_data"
    }
   ],
   "source": [
    "plt.figure(figsize=(15, 8))\n",
    "plt.plot(myrec)\n",
    "plt.xlabel(\"Samples\")\n",
    "plt.ylabel(\"Intensity\")\n",
    "plt.xlim(0, len(myrec))\n",
    "\n",
    "\n",
    "for i in range(len(keywords_samples)):\n",
    "    plt.plot(keywords_position[i], keywords_samples[i], label=keywords_classification[i])\n",
    "    \n",
    "plt.legend()\n",
    "plt.show()"
   ]
  },
  {
   "cell_type": "code",
   "execution_count": null,
   "metadata": {},
   "outputs": [],
   "source": []
  }
 ],
 "metadata": {
  "kernelspec": {
   "display_name": "Python 3",
   "language": "python",
   "name": "python3"
  },
  "language_info": {
   "codemirror_mode": {
    "name": "ipython",
    "version": 3
   },
   "file_extension": ".py",
   "mimetype": "text/x-python",
   "name": "python",
   "nbconvert_exporter": "python",
   "pygments_lexer": "ipython3",
   "version": "3.6.6"
  }
 },
 "nbformat": 4,
 "nbformat_minor": 2
}
